{
 "cells": [
  {
   "cell_type": "markdown",
   "metadata": {},
   "source": [
    "<link rel=\"stylesheet\" href=\"fonts/css/font-awesome.min.css\">\n",
    "[А. Л.](https://capissimo.github.io/pythonfordatascience), 2017\n",
    "\n",
    "https://capissimo.github.io/pythonfordatascience"
   ]
  },
  {
   "cell_type": "markdown",
   "metadata": {},
   "source": [
    "## Глава 2. Статистический вывод"
   ]
  },
  {
   "cell_type": "markdown",
   "metadata": {},
   "source": [
    "### Содержание"
   ]
  },
  {
   "cell_type": "markdown",
   "metadata": {},
   "source": [
    "- [Обследование данных](#Обследование-данных)\n",
    "- [Визуализация времени задержки](#Визуализация-времени-задержки)\n",
    "- [Экспоненциальное распределение](#Экспоненциальное-распределение)\n",
    "- [Центральная предельная теорема](#Центральная-предельная-теорема)\n",
    "- [Стандартная ошибка](#Стандартная-ошибка)\n",
    "- [Выборочные и генеральные совокупности](#Выборочные-и-генеральные-совокупности)\n",
    "- [Визуализация разных генеральных совокупностей](#Визуализация-разных-генеральных-совокупностей)\n",
    "- [Проверка обновленного дизайна веб-сайта](#Проверка-обновленного-дизайна-веб-сайта)\n",
    "- [t-статистика](#t-статистика)\n",
    "- [Выполнение t-теста](#Выполнение-t-теста)\n",
    "- [Одновыборочный t-тест](#Одновыборочный-t-тест)\n",
    "- [Взятие повторных выборок](#Взятие-повторных-выборок)\n",
    "- [Проверка многочисленных вариантов дизайна веб-сайта](#Проверка-многочисленных-вариантов-дизайна-веб-сайта)\n",
    "- [Поправка Бонферрони](#Поправка-Бонферрони)\n",
    "- [F-распределение](#F-распределение)\n",
    "- [F-статистика](#F-статистика)\n",
    "- [Выполнение F-теста](#Выполнение-F-теста)\n",
    "- [Размер эффекта](#Размер-эффекта)"
   ]
  },
  {
   "cell_type": "markdown",
   "metadata": {},
   "source": [
    "<a name=\"home\"></a>"
   ]
  },
  {
   "cell_type": "code",
   "execution_count": 192,
   "metadata": {
    "collapsed": true
   },
   "outputs": [],
   "source": [
    "# -*- coding: utf-8 -*-\n",
    "\n",
    "# Системные библиотеки\n",
    "\n",
    "import scipy as sp\n",
    "import pandas as pd    \n",
    "from scipy import stats\n",
    "\n",
    "# Графические настройки \n",
    "\n",
    "import matplotlib.pyplot as plt\n",
    "   \n",
    "from matplotlib import rcParams\n",
    "rcParams['font.family']     = 'sans-serif'\n",
    "rcParams['font.sans-serif'] = ['Ubuntu Condensed']\n",
    "rcParams['figure.figsize']  = (4, 3.3)\n",
    "rcParams['legend.fontsize'] = 10\n",
    "rcParams['xtick.labelsize'] = 9\n",
    "rcParams['ytick.labelsize'] = 9\n",
    "\n",
    "def saveplot(dest):\n",
    "    plt.tight_layout()\n",
    "    plt.savefig('images/' + dest)  "
   ]
  },
  {
   "cell_type": "markdown",
   "metadata": {},
   "source": [
    "### Обследование данных"
   ]
  },
  {
   "cell_type": "code",
   "execution_count": 193,
   "metadata": {
    "collapsed": true
   },
   "outputs": [],
   "source": [
    "def load_data(fname):\n",
    "    '''Загрузка данных из файла fname'''\n",
    "    return pd.read_csv('data/ch02/' + fname, '\\t')  "
   ]
  },
  {
   "cell_type": "code",
   "execution_count": 151,
   "metadata": {
    "collapsed": false
   },
   "outputs": [
    {
     "data": {
      "text/html": [
       "<div>\n",
       "<table border=\"1\" class=\"dataframe\">\n",
       "  <thead>\n",
       "    <tr style=\"text-align: right;\">\n",
       "      <th></th>\n",
       "      <th>date</th>\n",
       "      <th>dwell-time</th>\n",
       "    </tr>\n",
       "  </thead>\n",
       "  <tbody>\n",
       "    <tr>\n",
       "      <th>0</th>\n",
       "      <td>2015-01-01T00:03:43Z</td>\n",
       "      <td>74</td>\n",
       "    </tr>\n",
       "    <tr>\n",
       "      <th>1</th>\n",
       "      <td>2015-01-01T00:32:12Z</td>\n",
       "      <td>109</td>\n",
       "    </tr>\n",
       "    <tr>\n",
       "      <th>2</th>\n",
       "      <td>2015-01-01T01:52:18Z</td>\n",
       "      <td>88</td>\n",
       "    </tr>\n",
       "    <tr>\n",
       "      <th>3</th>\n",
       "      <td>2015-01-01T01:54:30Z</td>\n",
       "      <td>17</td>\n",
       "    </tr>\n",
       "    <tr>\n",
       "      <th>4</th>\n",
       "      <td>2015-01-01T02:09:24Z</td>\n",
       "      <td>11</td>\n",
       "    </tr>\n",
       "  </tbody>\n",
       "</table>\n",
       "</div>"
      ],
      "text/plain": [
       "                   date  dwell-time\n",
       "0  2015-01-01T00:03:43Z          74\n",
       "1  2015-01-01T00:32:12Z         109\n",
       "2  2015-01-01T01:52:18Z          88\n",
       "3  2015-01-01T01:54:30Z          17\n",
       "4  2015-01-01T02:09:24Z          11"
      ]
     },
     "execution_count": 151,
     "metadata": {},
     "output_type": "execute_result"
    }
   ],
   "source": [
    "def ex_2_1():\n",
    "    '''Загрузка данных времени задержки на веб-сайте'''\n",
    "    return load_data('dwell-times.tsv')[0:5:]  # как вариант, head()\n",
    "    \n",
    "ex_2_1()"
   ]
  },
  {
   "cell_type": "markdown",
   "metadata": {},
   "source": [
    "### Визуализация времени задержки"
   ]
  },
  {
   "cell_type": "code",
   "execution_count": 194,
   "metadata": {
    "collapsed": false
   },
   "outputs": [
    {
     "data": {
      "image/png": "[encoded data removed]",
      "text/plain": [
       "<matplotlib.figure.Figure at 0x1c3ced50588>"
      ]
     },
     "metadata": {},
     "output_type": "display_data"
    }
   ],
   "source": [
    "def ex_2_2():\n",
    "    '''Визуализация времени задержки'''\n",
    "    load_data('dwell-times.tsv')['dwell-time'].hist(bins=50)\n",
    "    plt.xlabel('Время задержки, сек.')\n",
    "    plt.ylabel('Частота')\n",
    "    #saveplot('ex_2_2.png')  \n",
    "    plt.show()    \n",
    "    \n",
    "ex_2_2()"
   ]
  },
  {
   "cell_type": "code",
   "execution_count": 195,
   "metadata": {
    "collapsed": false
   },
   "outputs": [
    {
     "data": {
      "image/png": "[encoded data removed]",
      "text/plain": [
       "<matplotlib.figure.Figure at 0x1c3cf00add8>"
      ]
     },
     "metadata": {},
     "output_type": "display_data"
    }
   ],
   "source": [
    "def ex_2_3():\n",
    "    '''Визуализация времени задержки\n",
    "       на полулогарифмическом графике'''\n",
    "    load_data('dwell-times.tsv')['dwell-time'].plot.hist(bins=20, logy=True, grid=True)\n",
    "    plt.xlabel('Время задержки, сек.')\n",
    "    plt.ylabel('Логарифмическая частота')\n",
    "    #saveplot('ex_2_3.png')  \n",
    "    plt.show()    \n",
    "    \n",
    "ex_2_3()"
   ]
  },
  {
   "cell_type": "markdown",
   "metadata": {},
   "source": [
    "### Экспоненциальное распределение"
   ]
  },
  {
   "cell_type": "code",
   "execution_count": 72,
   "metadata": {
    "collapsed": false
   },
   "outputs": [
    {
     "name": "stdout",
     "output_type": "stream",
     "text": [
      "Среднее: 93.2014074074\n",
      "Медиана: 64.0\n",
      "СКО:     93.9697240252\n"
     ]
    }
   ],
   "source": [
    "def ex_2_4():\n",
    "    '''Показать сводные статистики набора данных,\n",
    "       подчиняющегося экспоненциональному распределению'''\n",
    "    ts = load_data('dwell-times.tsv')['dwell-time']\n",
    "    print('Среднее:', ts.mean())    \n",
    "    print('Медиана:', ts.median())\n",
    "    print('СКО:    ', ts.std())\n",
    "    \n",
    "ex_2_4()"
   ]
  },
  {
   "cell_type": "markdown",
   "metadata": {},
   "source": [
    "*Распределение среднесуточных значений*"
   ]
  },
  {
   "cell_type": "code",
   "execution_count": 196,
   "metadata": {
    "collapsed": true
   },
   "outputs": [],
   "source": [
    "# Определение служебных функций по обработке дат\n",
    "\n",
    "def with_parsed_date(df):\n",
    "    '''Привести поле date к типу date-time'''\n",
    "    df['date'] = pd.to_datetime(df['date'], errors='ignore')\n",
    "    return df\n",
    "\n",
    "def filter_weekdays(df): \n",
    "    '''Отфильтровать по будним дням'''\n",
    "    return df[df['date'].index.dayofweek < 5]  # понедельник..пятница\n",
    "\n",
    "def mean_dwell_times_by_date(df):\n",
    "    '''Среднесуточные времена задержки'''\n",
    "    df.index = with_parsed_date(df)['date']\n",
    "    return df.resample('D').mean()  # перегруппировать  \n",
    "\n",
    "def daily_mean_dwell_times(df):\n",
    "    '''Средние времена задержки с фильтрацией - только по будним дням'''\n",
    "    df.index = with_parsed_date(df)['date']\n",
    "    df = filter_weekdays(df)\n",
    "    return df.resample('D').mean() "
   ]
  },
  {
   "cell_type": "code",
   "execution_count": 74,
   "metadata": {
    "collapsed": false
   },
   "outputs": [
    {
     "name": "stdout",
     "output_type": "stream",
     "text": [
      "Среднее: 90.210429\n",
      "Медиана: 90.136612\n",
      "СКО:     3.722343\n"
     ]
    }
   ],
   "source": [
    "def ex_2_5():\n",
    "    '''Распределение значений в будние дни'''\n",
    "    df  = load_data('dwell-times.tsv')    \n",
    "    means = daily_mean_dwell_times(df)\n",
    "    print('Среднее: %f' % (means.mean()))    \n",
    "    print('Медиана: %f' % (means.median()))\n",
    "    print('СКО:     %f' % (means.std()))\n",
    "    \n",
    "ex_2_5()"
   ]
  },
  {
   "cell_type": "code",
   "execution_count": 197,
   "metadata": {
    "collapsed": false
   },
   "outputs": [
    {
     "data": {
      "image/png": "[encoded data removed]",
      "text/plain": [
       "<matplotlib.figure.Figure at 0x1c3cf26eb70>"
      ]
     },
     "metadata": {},
     "output_type": "display_data"
    }
   ],
   "source": [
    "def ex_2_6():\n",
    "    '''Построить гистограмму значений \n",
    "       времени задержки в будние дни'''\n",
    "    df = load_data('dwell-times.tsv')\n",
    "    daily_mean_dwell_times(df)['dwell-time'].hist(bins=20)\n",
    "    plt.xlabel('Время задержки по будним дням, сек.')\n",
    "    plt.ylabel('Частота')\n",
    "    #saveplot('ex_2_6.png')  \n",
    "    plt.show()    \n",
    "    \n",
    "ex_2_6()"
   ]
  },
  {
   "cell_type": "markdown",
   "metadata": {},
   "source": [
    "### Центральная предельная теорема"
   ]
  },
  {
   "cell_type": "code",
   "execution_count": 198,
   "metadata": {
    "collapsed": false
   },
   "outputs": [
    {
     "data": {
      "image/png": "[encoded data removed]",
      "text/plain": [
       "<matplotlib.figure.Figure at 0x1c3cf26ef60>"
      ]
     },
     "metadata": {},
     "output_type": "display_data"
    }
   ],
   "source": [
    "def ex_2_7():\n",
    "    '''Подгонка нормальной кривой поверх гистограммы'''\n",
    "    df = load_data('dwell-times.tsv')\n",
    "    means = daily_mean_dwell_times(df)['dwell-time'].dropna() \n",
    "    ax = means.hist(bins=20, normed=True)\n",
    "    xs = sorted(means)    # корзины\n",
    "    df = pd.DataFrame()\n",
    "    df[0] = xs\n",
    "    df[1] = stats.norm.pdf(xs, means.mean(), means.std())\n",
    "    df.plot(0, 1, linewidth=2, color='r', legend=None, ax=ax)\n",
    "    plt.xlabel('Время задержки по будним дням, сек.')\n",
    "    plt.ylabel('Плотность')\n",
    "    plt.grid(True)\n",
    "    #saveplot('ex_2_7.png')  \n",
    "    plt.show()\n",
    "    \n",
    "ex_2_7()"
   ]
  },
  {
   "cell_type": "markdown",
   "metadata": {},
   "source": [
    "### Стандартная ошибка"
   ]
  },
  {
   "cell_type": "code",
   "execution_count": 175,
   "metadata": {
    "collapsed": true
   },
   "outputs": [],
   "source": [
    "# Определение функции стандартной ошибки среднего\n",
    "\n",
    "def variance(xs):\n",
    "    '''Вычисление дисперсии,\n",
    "       несмещенная дисперсия при n <= 30'''\n",
    "    x_hat = xs.mean() \n",
    "    n = len(xs)\n",
    "    n = n-1 if n in range(1, 30) else n  \n",
    "    square_deviation = lambda x : (x - x_hat) ** 2 \n",
    "    return sum( map(square_deviation, xs) ) / n\n",
    "\n",
    "def standard_deviation(xs):\n",
    "    '''Вычисление стандартного отклонения'''\n",
    "    return sp.sqrt(variance(xs))\n",
    "\n",
    "def standard_error(xs):\n",
    "    '''Вычисление стандартной ошибки'''\n",
    "    return standard_deviation(xs) / sp.sqrt(len(xs))"
   ]
  },
  {
   "cell_type": "markdown",
   "metadata": {},
   "source": [
    "### Выборочные и генеральные совокупности"
   ]
  },
  {
   "cell_type": "code",
   "execution_count": 80,
   "metadata": {
    "collapsed": false
   },
   "outputs": [
    {
     "name": "stdout",
     "output_type": "stream",
     "text": [
      "Стандартная ошибка (СОШ): 3.62734027309\n"
     ]
    }
   ],
   "source": [
    "def ex_2_8(): \n",
    "    '''Вычислить стандартную ошибку \n",
    "       средних значений за определенный день'''\n",
    "    may_1 = '2015-05-01'\n",
    "    df = with_parsed_date( load_data('dwell-times.tsv') )  \n",
    "    filtered = df.set_index( ['date'] )[may_1]\n",
    "    se = standard_error( filtered['dwell-time'] )\n",
    "    print('Стандартная ошибка (СОШ):', se)\n",
    "\n",
    "ex_2_8()"
   ]
  },
  {
   "cell_type": "code",
   "execution_count": 176,
   "metadata": {
    "collapsed": true
   },
   "outputs": [],
   "source": [
    "def confidence_interval(p, xs):\n",
    "    '''Доверительный интервал'''\n",
    "    x_hat = xs.mean()\n",
    "    se = standard_error(xs)\n",
    "    '''критическое значение z\n",
    "    Критическое значение z - это число стандартных отклонений, на которые \n",
    "    нужно отойти от среднего значения нормального распределения, чтобы захватить \n",
    "    долю данных, связанную с нужным доверительным интервалом.'''\n",
    "    z_crit = stats.norm.ppf(1 - (1-p) / 2)  #q=0.975 -> 1.96\n",
    "    return [x_hat - z_crit * se, x_hat + z_crit * se]"
   ]
  },
  {
   "cell_type": "code",
   "execution_count": 82,
   "metadata": {
    "collapsed": false
   },
   "outputs": [
    {
     "name": "stdout",
     "output_type": "stream",
     "text": [
      "Доверительный интервал (ДИ):  [83.53415272762004, 97.753065317492741]\n"
     ]
    }
   ],
   "source": [
    "def ex_2_9():\n",
    "    '''Вычислить доверительный интервал \n",
    "       для данных за определенный день'''\n",
    "    may_1 = '2015-05-01'\n",
    "    df    = with_parsed_date( load_data('dwell-times.tsv') )  \n",
    "    filtered = df.set_index( ['date'] )[may_1]\n",
    "    ci = confidence_interval(0.95, filtered['dwell-time'])\n",
    "    print('Доверительный интервал (ДИ): ', ci)\n",
    "    \n",
    "ex_2_9()"
   ]
  },
  {
   "cell_type": "markdown",
   "metadata": {},
   "source": [
    "*Сравнение выборок*"
   ]
  },
  {
   "cell_type": "code",
   "execution_count": 83,
   "metadata": {
    "collapsed": false
   },
   "outputs": [
    {
     "name": "stdout",
     "output_type": "stream",
     "text": [
      "n:       300\n",
      "Среднее: 130.22\n",
      "Медиана: 84.0\n",
      "СКО:     136.133707144\n",
      "СОШ:     7.84657283999\n"
     ]
    }
   ],
   "source": [
    "def ex_2_10():\n",
    "    '''Сводные статистики данных, полученных \n",
    "       в результате вирусной кампании'''\n",
    "    ts = load_data('campaign-sample.tsv')['dwell-time']     \n",
    "    print('n:      ', ts.count())\n",
    "    print('Среднее:', ts.mean())\n",
    "    print('Медиана:', ts.median())\n",
    "    print('СКО:    ', ts.std())\n",
    "    print('СОШ:    ', standard_error(ts))    \n",
    "\n",
    "ex_2_10()"
   ]
  },
  {
   "cell_type": "code",
   "execution_count": 84,
   "metadata": {
    "collapsed": false
   },
   "outputs": [
    {
     "name": "stdout",
     "output_type": "stream",
     "text": [
      "ДИ: [114.84099983154137, 145.59900016845864]\n"
     ]
    }
   ],
   "source": [
    "def ex_2_11():\n",
    "    '''Доверительный интервал данных,\n",
    "       полученных в результате вирусной кампании'''\n",
    "    ts = load_data('campaign-sample.tsv')['dwell-time']     \n",
    "    print('ДИ:', confidence_interval(0.95, ts))\n",
    "\n",
    "ex_2_11()    "
   ]
  },
  {
   "cell_type": "markdown",
   "metadata": {},
   "source": [
    "*Смещение*"
   ]
  },
  {
   "cell_type": "code",
   "execution_count": 85,
   "metadata": {
    "collapsed": false
   },
   "outputs": [
    {
     "data": {
      "text/plain": [
       "True"
      ]
     },
     "execution_count": 85,
     "metadata": {},
     "output_type": "execute_result"
    }
   ],
   "source": [
    "'''Проверка даты''' \n",
    "# будние дни: 0..4, выходные дни: 5-6\n",
    "d = pd.to_datetime('2015 6 6') \n",
    "d.weekday() in [5,6]"
   ]
  },
  {
   "cell_type": "markdown",
   "metadata": {},
   "source": [
    "### Визуализация разных генеральных совокупностей"
   ]
  },
  {
   "cell_type": "code",
   "execution_count": 199,
   "metadata": {
    "collapsed": false
   },
   "outputs": [
    {
     "data": {
      "image/png": "[encoded data removed]",
      "text/plain": [
       "<matplotlib.figure.Figure at 0x1c3cd502048>"
      ]
     },
     "metadata": {},
     "output_type": "display_data"
    }
   ],
   "source": [
    "def ex_2_12(): \n",
    "    '''Построить график времени ожидания \n",
    "       по всем дням без фильтра'''\n",
    "    df = load_data('dwell-times.tsv')\n",
    "    means = mean_dwell_times_by_date(df)['dwell-time']\n",
    "    means.hist(bins=20)\n",
    "    plt.xlabel('Ежедневное время ожидания без фильтра, сек.')\n",
    "    plt.ylabel('Частота')\n",
    "    #saveplot('ex_2_12.png') \n",
    "    plt.show()     \n",
    "\n",
    "ex_2_12()"
   ]
  },
  {
   "cell_type": "code",
   "execution_count": 87,
   "metadata": {
    "collapsed": false
   },
   "outputs": [
    {
     "name": "stdout",
     "output_type": "stream",
     "text": [
      "n:       5860\n",
      "Среднее: 117.786860068\n",
      "Медиана: 81.0\n",
      "СКО:     120.652340772\n",
      "СОШ:     1.57597703625\n"
     ]
    }
   ],
   "source": [
    "def ex_2_13():\n",
    "    '''Сводные статистики данных,\n",
    "       отфильтрованных только по выходным дням'''\n",
    "    df = with_parsed_date( load_data('dwell-times.tsv') )\n",
    "    df.index = df['date']\n",
    "    df = df[df['date'].index.dayofweek > 4]   # суббота-воскресенье\n",
    "    weekend_times = df['dwell-time']\n",
    "  \n",
    "    print('n:      ', weekend_times.count())\n",
    "    print('Среднее:', weekend_times.mean())\n",
    "    print('Медиана:', weekend_times.median())\n",
    "    print('СКО:    ', weekend_times.std())\n",
    "    print('СОШ:    ', standard_error(weekend_times))        \n",
    "    \n",
    "ex_2_13()"
   ]
  },
  {
   "cell_type": "markdown",
   "metadata": {},
   "source": [
    "### Проверка обновленного дизайна веб-сайта "
   ]
  },
  {
   "cell_type": "markdown",
   "metadata": {},
   "source": [
    "*Выполнение z-теста*"
   ]
  },
  {
   "cell_type": "code",
   "execution_count": 159,
   "metadata": {
    "collapsed": false
   },
   "outputs": [],
   "source": [
    "def pooled_standard_error(a, b, unbias=False):\n",
    "    '''Объединенная стандартная ошибка'''\n",
    "    std1 = a.std(ddof=0) if unbias==False else a.std()  # ddof=0 = смещенное значение\n",
    "    std2 = b.std(ddof=0) if unbias==False else b.std()\n",
    "    x = std1 ** 2 / a.count()\n",
    "    y = std2 ** 2 / b.count()\n",
    "    return sp.sqrt(x + y)    \n",
    "\n",
    "def z_stat(a, b, unbias=False):\n",
    "    '''z-статистика'''\n",
    "    return (a.mean() - b.mean()) / pooled_standard_error(a, b, unbias)    \n",
    "\n",
    "def z_test(a, b): \n",
    "    '''z-тест'''\n",
    "    # ИФР нормального распределения\n",
    "    return stats.norm.cdf([ z_stat(a, b) ])"
   ]
  },
  {
   "cell_type": "code",
   "execution_count": 89,
   "metadata": {
    "collapsed": false
   },
   "outputs": [
    {
     "name": "stdout",
     "output_type": "stream",
     "text": [
      "a n:  284\n",
      "b n:  16\n",
      "z-статистика: -1.64674381801\n",
      "p-значение: [ 0.04980536]\n"
     ]
    }
   ],
   "source": [
    "def ex_2_14():\n",
    "    '''Сравнение работоспособности двух вариантов\n",
    "       дизайна веб-сайта на основе z-теста'''\n",
    "    groups = load_data('new-site.tsv').groupby('site')['dwell-time']\n",
    "    a = groups.get_group(0)\n",
    "    b = groups.get_group(1) \n",
    "    \n",
    "    print('a n: ', a.count())\n",
    "    print('b n: ', b.count())\n",
    "    print('z-статистика:', z_stat(a, b))\n",
    "    print('p-значение:', z_test(a, b))\n",
    "    \n",
    "ex_2_14()"
   ]
  },
  {
   "cell_type": "markdown",
   "metadata": {},
   "source": [
    "### t-статистика"
   ]
  },
  {
   "cell_type": "code",
   "execution_count": 160,
   "metadata": {
    "collapsed": true
   },
   "outputs": [],
   "source": [
    "def pooled_standard_error_t(a, b):\n",
    "    '''Объединенная стандартная ошибка для t-теста'''\n",
    "    return sp.sqrt(standard_error(a) ** 2 + \n",
    "                   standard_error(b) ** 2) "
   ]
  },
  {
   "cell_type": "code",
   "execution_count": 91,
   "metadata": {
    "collapsed": false
   },
   "outputs": [
    {
     "data": {
      "text/plain": [
       "-1.6467438180091214"
      ]
     },
     "execution_count": 91,
     "metadata": {},
     "output_type": "execute_result"
    }
   ],
   "source": [
    "t_stat = z_stat\n",
    "\n",
    "def ex_2_15():\n",
    "    '''Вычисление t-статистики \n",
    "       двух вариантов дизайна веб-сайта'''\n",
    "    groups = load_data('new-site.tsv').groupby('site')['dwell-time']\n",
    "    a = groups.get_group(0)\n",
    "    b = groups.get_group(1)    \n",
    "    return t_stat(a, b)\n",
    "    \n",
    "ex_2_15()"
   ]
  },
  {
   "cell_type": "markdown",
   "metadata": {},
   "source": [
    "### Выполнение t-теста"
   ]
  },
  {
   "cell_type": "code",
   "execution_count": 161,
   "metadata": {
    "collapsed": true
   },
   "outputs": [],
   "source": [
    "def t_test(a, b):\n",
    "    '''Выполнение проверки на основе t-теста'''\n",
    "    df = len(a) + len(b) - 2\n",
    "    # http://docs.scipy.org/doc/scipy-0.16.0/reference/generated/scipy.stats.t.html\n",
    "    return stats.t.sf([ abs(t_stat(a, b)) ], df)      # функция выживания (1-cdf иногда точнее)"
   ]
  },
  {
   "cell_type": "code",
   "execution_count": 93,
   "metadata": {
    "collapsed": false
   },
   "outputs": [
    {
     "data": {
      "text/plain": [
       "array([ 0.05033241])"
      ]
     },
     "execution_count": 93,
     "metadata": {},
     "output_type": "execute_result"
    }
   ],
   "source": [
    "def ex_2_16():\n",
    "    '''Сравнение работоспособности двух вариантов \n",
    "       дизайна веб-сайта на основе t-теста'''\n",
    "    groups = load_data('new-site.tsv').groupby('site')['dwell-time']\n",
    "    a = groups.get_group(0)\n",
    "    b = groups.get_group(1)   \n",
    "    return t_test(a, b)\n",
    "\n",
    "ex_2_16()"
   ]
  },
  {
   "cell_type": "code",
   "execution_count": 94,
   "metadata": {
    "collapsed": false
   },
   "outputs": [],
   "source": [
    "def t_test_verbose(a, sample2=None, mean=None, fn=None):\n",
    "    '''Служебная функция с подробной информацией \n",
    "       результата t-теста'''\n",
    "    abar = a.mean()\n",
    "    avar = a.var(ddof=1)  # несмещенное значение\n",
    "    na = a.size\n",
    "    adof = na - 1\n",
    "    conf_int = stats.t.interval(0.95, len(a)-1, \n",
    "                                loc=sp.mean(a), scale=stats.sem(a))\n",
    "\n",
    "    if type(a) == type(sample2):\n",
    "        bbar = sample2.mean()\n",
    "        bvar = sample2.var(ddof=1)\n",
    "        nb = sample2.size\n",
    "        bdof = nb - 1\n",
    "\n",
    "        dof = (avar/na + bvar/nb)**2 /   \\\n",
    "              (avar**2/(na**2*adof) + bvar**2/(nb**2*bdof))\n",
    "        return {'p-значение'            : \n",
    "                   fn(a, sample2, equal_var=False).pvalue,  #  выполняет t-тест Уэлша   \n",
    "                'степени свободы df'    : dof,  #t_test( a, b ),   \n",
    "                'доверительный интервал': conf_int,         # conf-int [-78.9894629402365 10.890871390940724]\n",
    "                'n1'           : a.count(),\n",
    "                'n2'           : sample2.count(),\n",
    "                'среднее x'    : a.mean(),\n",
    "                'среднее y'    : sample2.mean(),\n",
    "                'дисперсия x'  : a.var(),\n",
    "                'дисперсия y'  : sample2.var(),\n",
    "                't-статистика' : fn( a, sample2, equal_var=False ).statistic} \n",
    "    else:\n",
    "        dof = (avar/na) / (avar/(na*adof))\n",
    "        return {'p-значение'            : fn(a, mean).pvalue,    \n",
    "                'степени свободы df'    : dof,    \n",
    "                'доверительный интервал': conf_int, \n",
    "                'n1'                    : a.count(),\n",
    "                'среднее x'             : a.mean(),\n",
    "                'дисперсия x'           : a.var(),\n",
    "                't-статистика'          : fn(a, mean).statistic} "
   ]
  },
  {
   "cell_type": "markdown",
   "metadata": {},
   "source": [
    "*Двухсторонние тесты*"
   ]
  },
  {
   "cell_type": "code",
   "execution_count": 95,
   "metadata": {
    "collapsed": false
   },
   "outputs": [
    {
     "data": {
      "text/plain": [
       "{'n1': 284,\n",
       " 'n2': 16,\n",
       " 'p-значение': 0.12756432502462475,\n",
       " 't-статистика': -1.5985205593851322,\n",
       " 'дисперсия x': 10463.941024237296,\n",
       " 'дисперсия y': 6669.8666666666668,\n",
       " 'доверительный интервал': (76.002631987995969, 99.898776462708256),\n",
       " 'среднее x': 87.950704225352112,\n",
       " 'среднее y': 122.0,\n",
       " 'степени свободы df': 17.761382349686098}"
      ]
     },
     "execution_count": 95,
     "metadata": {},
     "output_type": "execute_result"
    }
   ],
   "source": [
    "def ex_2_17():\n",
    "    '''Двухсторонний t-тест'''\n",
    "    groups = load_data('new-site.tsv').groupby('site')['dwell-time']\n",
    "    a = groups.get_group(0)\n",
    "    b = groups.get_group(1)    \n",
    "    return t_test_verbose(a, sample2=b, fn=stats.ttest_ind)  # выполняет t-тест Уэлша\n",
    "\n",
    "ex_2_17()"
   ]
  },
  {
   "cell_type": "markdown",
   "metadata": {},
   "source": [
    "### Одновыборочный t-тест"
   ]
  },
  {
   "cell_type": "code",
   "execution_count": 96,
   "metadata": {
    "collapsed": false
   },
   "outputs": [
    {
     "data": {
      "text/plain": [
       "{'n1': 16,\n",
       " 'p-значение': 0.13789520958229415,\n",
       " 't-статистика': 1.5672973291495713,\n",
       " 'дисперсия x': 6669.8666666666668,\n",
       " 'доверительный интервал': (78.481527665903897, 165.51847233409609),\n",
       " 'среднее x': 122.0,\n",
       " 'степени свободы df': 15.0}"
      ]
     },
     "execution_count": 96,
     "metadata": {},
     "output_type": "execute_result"
    }
   ],
   "source": [
    "def ex_2_18():\n",
    "    '''Одновыборочный t-тест'''\n",
    "    groups = load_data('new-site.tsv').groupby('site')['dwell-time']\n",
    "    b = groups.get_group(1) \n",
    "    return t_test_verbose(b, mean=90, fn=stats.ttest_1samp)  \n",
    "\n",
    "ex_2_18()"
   ]
  },
  {
   "cell_type": "markdown",
   "metadata": {},
   "source": [
    "### Взятие повторных выборок"
   ]
  },
  {
   "cell_type": "code",
   "execution_count": 202,
   "metadata": {
    "collapsed": false
   },
   "outputs": [
    {
     "data": {
      "image/png": "[encoded data removed]",
      "text/plain": [
       "<matplotlib.figure.Figure at 0x1c3ce8e40b8>"
      ]
     },
     "metadata": {},
     "output_type": "display_data"
    }
   ],
   "source": [
    "def ex_2_19():\n",
    "    '''Построение графика синтетических времен задержки \n",
    "       путем извлечения бутстрап-выборок'''\n",
    "    groups = load_data('new-site.tsv').groupby('site')['dwell-time']\n",
    "    b = groups.get_group(1) \n",
    "    xs = [b.sample(len(b), replace=True).mean() for _ in range(1000)] \n",
    "    pd.Series(xs).hist(bins=20)\n",
    "    plt.xlabel('Бутстрапированные средние времени задержки, сек.')\n",
    "    plt.ylabel('Частота') \n",
    "    #saveplot('ex_2_19.png') \n",
    "    plt.show() \n",
    "    \n",
    "ex_2_19()"
   ]
  },
  {
   "cell_type": "markdown",
   "metadata": {},
   "source": [
    "### Проверка многочисленных вариантов дизайна веб-сайта"
   ]
  },
  {
   "cell_type": "markdown",
   "metadata": {},
   "source": [
    "*Вычисление выборочных средних*"
   ]
  },
  {
   "cell_type": "code",
   "execution_count": 98,
   "metadata": {
    "collapsed": false
   },
   "outputs": [
    {
     "data": {
      "text/html": [
       "<div>\n",
       "<table border=\"1\" class=\"dataframe\">\n",
       "  <thead>\n",
       "    <tr style=\"text-align: right;\">\n",
       "      <th></th>\n",
       "      <th>dwell-time</th>\n",
       "    </tr>\n",
       "    <tr>\n",
       "      <th>site</th>\n",
       "      <th></th>\n",
       "    </tr>\n",
       "  </thead>\n",
       "  <tbody>\n",
       "    <tr>\n",
       "      <th>0</th>\n",
       "      <td>79.851064</td>\n",
       "    </tr>\n",
       "    <tr>\n",
       "      <th>1</th>\n",
       "      <td>106.000000</td>\n",
       "    </tr>\n",
       "    <tr>\n",
       "      <th>2</th>\n",
       "      <td>88.229167</td>\n",
       "    </tr>\n",
       "    <tr>\n",
       "      <th>3</th>\n",
       "      <td>97.479167</td>\n",
       "    </tr>\n",
       "    <tr>\n",
       "      <th>4</th>\n",
       "      <td>94.333333</td>\n",
       "    </tr>\n",
       "    <tr>\n",
       "      <th>5</th>\n",
       "      <td>102.333333</td>\n",
       "    </tr>\n",
       "    <tr>\n",
       "      <th>6</th>\n",
       "      <td>144.192982</td>\n",
       "    </tr>\n",
       "    <tr>\n",
       "      <th>7</th>\n",
       "      <td>123.367347</td>\n",
       "    </tr>\n",
       "    <tr>\n",
       "      <th>8</th>\n",
       "      <td>94.346939</td>\n",
       "    </tr>\n",
       "    <tr>\n",
       "      <th>9</th>\n",
       "      <td>89.820000</td>\n",
       "    </tr>\n",
       "    <tr>\n",
       "      <th>10</th>\n",
       "      <td>129.952381</td>\n",
       "    </tr>\n",
       "    <tr>\n",
       "      <th>11</th>\n",
       "      <td>96.982143</td>\n",
       "    </tr>\n",
       "    <tr>\n",
       "      <th>12</th>\n",
       "      <td>80.950820</td>\n",
       "    </tr>\n",
       "    <tr>\n",
       "      <th>13</th>\n",
       "      <td>90.737705</td>\n",
       "    </tr>\n",
       "    <tr>\n",
       "      <th>14</th>\n",
       "      <td>74.764706</td>\n",
       "    </tr>\n",
       "    <tr>\n",
       "      <th>15</th>\n",
       "      <td>119.347826</td>\n",
       "    </tr>\n",
       "    <tr>\n",
       "      <th>16</th>\n",
       "      <td>86.744186</td>\n",
       "    </tr>\n",
       "    <tr>\n",
       "      <th>17</th>\n",
       "      <td>77.891304</td>\n",
       "    </tr>\n",
       "    <tr>\n",
       "      <th>18</th>\n",
       "      <td>94.814815</td>\n",
       "    </tr>\n",
       "    <tr>\n",
       "      <th>19</th>\n",
       "      <td>89.280702</td>\n",
       "    </tr>\n",
       "  </tbody>\n",
       "</table>\n",
       "</div>"
      ],
      "text/plain": [
       "      dwell-time\n",
       "site            \n",
       "0      79.851064\n",
       "1     106.000000\n",
       "2      88.229167\n",
       "3      97.479167\n",
       "4      94.333333\n",
       "5     102.333333\n",
       "6     144.192982\n",
       "7     123.367347\n",
       "8      94.346939\n",
       "9      89.820000\n",
       "10    129.952381\n",
       "11     96.982143\n",
       "12     80.950820\n",
       "13     90.737705\n",
       "14     74.764706\n",
       "15    119.347826\n",
       "16     86.744186\n",
       "17     77.891304\n",
       "18     94.814815\n",
       "19     89.280702"
      ]
     },
     "execution_count": 98,
     "metadata": {},
     "output_type": "execute_result"
    }
   ],
   "source": [
    "def ex_2_20():\n",
    "    '''Выборочные средние значения \n",
    "       20 разных вариантов дизайна веб-сайта'''\n",
    "    df = load_data('multiple-sites.tsv')\n",
    "    return df.groupby('site').aggregate(sp.mean)\n",
    "\n",
    "ex_2_20()"
   ]
  },
  {
   "cell_type": "code",
   "execution_count": 99,
   "metadata": {
    "collapsed": false
   },
   "outputs": [
    {
     "name": "stdout",
     "output_type": "stream",
     "text": [
      "Варианты веб-сайта 0 и 6 значимо различаются: 0.005534\n",
      "Варианты веб-сайта 0 и 7 значимо различаются: 0.035068\n",
      "Варианты веб-сайта 0 и 10 значимо различаются: 0.006881\n",
      "Варианты веб-сайта 0 и 15 значимо различаются: 0.046591\n",
      "Варианты веб-сайта 2 и 6 значимо различаются: 0.018257\n",
      "Варианты веб-сайта 2 и 10 значимо различаются: 0.029948\n",
      "Варианты веб-сайта 3 и 6 значимо различаются: 0.038758\n",
      "Варианты веб-сайта 4 и 6 значимо различаются: 0.027908\n",
      "Варианты веб-сайта 4 и 10 значимо различаются: 0.046962\n",
      "Варианты веб-сайта 6 и 8 значимо различаются: 0.039915\n",
      "Варианты веб-сайта 6 и 9 значимо различаются: 0.026231\n",
      "Варианты веб-сайта 6 и 11 значимо различаются: 0.035796\n",
      "Варианты веб-сайта 6 и 12 значимо различаются: 0.004079\n",
      "Варианты веб-сайта 6 и 13 значимо различаются: 0.024710\n",
      "Варианты веб-сайта 6 и 14 значимо различаются: 0.002538\n",
      "Варианты веб-сайта 6 и 16 значимо различаются: 0.033198\n",
      "Варианты веб-сайта 6 и 17 значимо различаются: 0.004953\n",
      "Варианты веб-сайта 6 и 18 значимо различаются: 0.030166\n",
      "Варианты веб-сайта 6 и 19 значимо различаются: 0.019361\n",
      "Варианты веб-сайта 7 и 12 значимо различаются: 0.027872\n",
      "Варианты веб-сайта 7 и 14 значимо различаются: 0.017185\n",
      "Варианты веб-сайта 7 и 17 значимо различаются: 0.031118\n",
      "Варианты веб-сайта 9 и 10 значимо различаются: 0.046504\n",
      "Варианты веб-сайта 10 и 12 значимо различаются: 0.003978\n",
      "Варианты веб-сайта 10 и 13 значимо различаются: 0.042570\n",
      "Варианты веб-сайта 10 и 14 значимо различаются: 0.002518\n",
      "Варианты веб-сайта 10 и 17 значимо различаются: 0.006264\n",
      "Варианты веб-сайта 10 и 19 значимо различаются: 0.031693\n",
      "Варианты веб-сайта 12 и 15 значимо различаются: 0.037149\n",
      "Варианты веб-сайта 14 и 15 значимо различаются: 0.022799\n",
      "Варианты веб-сайта 15 и 17 значимо различаются: 0.041280\n"
     ]
    }
   ],
   "source": [
    "import itertools\n",
    "\n",
    "def ex_2_21():\n",
    "    '''Проверка вариантов дизайна веб-сайта на основе t-тест \n",
    "       по принципу \"каждый с каждым\"'''\n",
    "    groups = load_data('multiple-sites.tsv').groupby('site')\n",
    "    alpha = 0.05\n",
    "    \n",
    "    pairs = [list(x)   # найти сочетания из n по k\n",
    "             for x in itertools.combinations(range(len(groups)), 2)]  \n",
    "\n",
    "    for pair in pairs:\n",
    "        gr, gr2 = groups.get_group( pair[0] ), groups.get_group( pair[1] )\n",
    "        site_a, site_b = pair[0], pair[1]\n",
    "        a, b = gr['dwell-time'], gr2['dwell-time']  \n",
    "        p_val = stats.ttest_ind(a, b, equal_var = False).pvalue  \n",
    "        if p_val < alpha: \n",
    "            print('Варианты веб-сайта %i и %i значимо различаются: %f' \n",
    "                  % (site_a, site_b, p_val))\n",
    "    \n",
    "ex_2_21()"
   ]
  },
  {
   "cell_type": "code",
   "execution_count": 100,
   "metadata": {
    "collapsed": false
   },
   "outputs": [
    {
     "name": "stdout",
     "output_type": "stream",
     "text": [
      "Вариант 6 веб-сайта значимо отличается от исходного: 0.005534\n",
      "Вариант 7 веб-сайта значимо отличается от исходного: 0.035068\n",
      "Вариант 10 веб-сайта значимо отличается от исходного: 0.006881\n",
      "Вариант 15 веб-сайта значимо отличается от исходного: 0.046591\n"
     ]
    }
   ],
   "source": [
    "def ex_2_22():\n",
    "    '''Проверка вариантов дизайна веб-сайта на основе t-теста \n",
    "       против исходного (0)'''\n",
    "    groups = load_data('multiple-sites.tsv').groupby('site')\n",
    "    alpha = 0.05 \n",
    "    baseline = groups.get_group(0)['dwell-time']\n",
    "    for site_a in range(1, len(groups)):\n",
    "        a = groups.get_group( site_a )['dwell-time']\n",
    "        p_val = stats.ttest_ind(a, baseline, equal_var = False).pvalue \n",
    "        if p_val < alpha: \n",
    "            print('Вариант %i веб-сайта значимо отличается от исходного: %f' \n",
    "                  % (site_a, p_val))\n",
    "    \n",
    "ex_2_22()"
   ]
  },
  {
   "cell_type": "markdown",
   "metadata": {},
   "source": [
    "### Поправка Бонферрони"
   ]
  },
  {
   "cell_type": "code",
   "execution_count": 101,
   "metadata": {
    "collapsed": false
   },
   "outputs": [],
   "source": [
    "def ex_2_23():\n",
    "    '''Проверка вариантов дизайна веб-сайта на основе t-теста \n",
    "       против исходного (0) с поправкой Бонферрони'''\n",
    "    groups = load_data('multiple-sites.tsv').groupby('site')\n",
    "    alpha = 0.05 / len(groups)\n",
    "    baseline = groups.get_group(0)['dwell-time']\n",
    "    for site_a in range(1, len(groups)):\n",
    "        a = groups.get_group(site_a)['dwell-time']\n",
    "        p_val = stats.ttest_ind(a, baseline, equal_var = False).pvalue \n",
    "        if p_val < alpha: \n",
    "            print('Вариант %i веб-сайта отличается от исходного: %f' \n",
    "                  % (site_a, p_val))\n",
    "    \n",
    "ex_2_23()"
   ]
  },
  {
   "cell_type": "markdown",
   "metadata": {},
   "source": [
    "### F-распределение"
   ]
  },
  {
   "cell_type": "code",
   "execution_count": 203,
   "metadata": {
    "collapsed": false
   },
   "outputs": [
    {
     "data": {
      "image/png": "[encoded data removed]",
      "text/plain": [
       "<matplotlib.figure.Figure at 0x1c3cecd7fd0>"
      ]
     },
     "metadata": {},
     "output_type": "display_data"
    }
   ],
   "source": [
    "def ex_2_Fisher():\n",
    "    '''Визуализация разных F-распределений на графике'''\n",
    "    mu = 0\n",
    "    d1_values, d2_values = [4, 9, 49], [95, 90, 50]\n",
    "    linestyles = ['-', '--', ':', '-.']\n",
    "    x = sp.linspace(0, 5, 101)[1:] \n",
    "    ax = None\n",
    "    for (d1, d2, ls) in zip(d1_values, d2_values, linestyles):\n",
    "        dist = stats.f(d1, d2, mu)\n",
    "        df  = pd.DataFrame( {0:x, 1:dist.pdf(x)} )   \n",
    "        ax = df.plot(0, 1, ls=ls, \n",
    "                     label=r'$d_1=%i,\\ d_2=%i$' % (d1,d2), ax=ax)\n",
    "\n",
    "    plt.xlabel('$x$\\nF-статистика')\n",
    "    plt.ylabel('Плотность вероятности \\n$p(x|d_1, d_2)$')\n",
    "    plt.grid(True)\n",
    "    #saveplot('ex_2_Fisher.png') \n",
    "    plt.show()\n",
    "\n",
    "ex_2_Fisher()"
   ]
  },
  {
   "cell_type": "markdown",
   "metadata": {},
   "source": [
    "### F-статистика"
   ]
  },
  {
   "cell_type": "code",
   "execution_count": 103,
   "metadata": {
    "collapsed": true
   },
   "outputs": [],
   "source": [
    "def ssdev(xs):\n",
    "    '''Сумма квадратов отклонений между \n",
    "       каждым элементом и средним по выборке'''\n",
    "    x_hat = xs.mean() \n",
    "    square_deviation = lambda x : (x - x_hat) ** 2 \n",
    "    return sum( map(square_deviation, xs) ) "
   ]
  },
  {
   "cell_type": "markdown",
   "metadata": {},
   "source": [
    "### Выполнение F-теста"
   ]
  },
  {
   "cell_type": "code",
   "execution_count": 104,
   "metadata": {
    "collapsed": true
   },
   "outputs": [],
   "source": [
    "def f_test(groups):\n",
    "    '''Проверка на основе F-теста'''\n",
    "    m, n = len(groups), sum(groups.count())\n",
    "    df1, df2 = m - 1, n - m \n",
    "    ssw = sum( groups.apply(lambda g: ssdev(g)) )  # внутригрупповая сумма квадратов отклонений\n",
    "    sst = ssdev( df['dwell-time'] )                # полная сумма квадратов по всему набору\n",
    "    ssb = sst - ssw                                # межгрупповая сумма квадратов отклонений\n",
    "    msb = ssb / df1                                # усредненная межгрупповая\n",
    "    msw = ssw / df2                                # усредненная внутригрупповая\n",
    "    f_stat = msb / msw\n",
    "    return stats.f.sf(f_stat, df1, df2)            # функция выживания (иногда точнее, чем 1-cdf )"
   ]
  },
  {
   "cell_type": "code",
   "execution_count": 105,
   "metadata": {
    "collapsed": false
   },
   "outputs": [
    {
     "data": {
      "text/plain": [
       "0.014031745203658217"
      ]
     },
     "execution_count": 105,
     "metadata": {},
     "output_type": "execute_result"
    }
   ],
   "source": [
    "def ex_2_24():\n",
    "    '''Проверка вариантов дизайна веб-сайта на основе F-теста'''\n",
    "    df = load_data('multiple-sites.tsv')\n",
    "    groups = df.groupby('site')['dwell-time']\n",
    "    return f_test(groups)\n",
    "   \n",
    "ex_2_24()"
   ]
  },
  {
   "cell_type": "code",
   "execution_count": 204,
   "metadata": {
    "collapsed": false
   },
   "outputs": [
    {
     "data": {
      "image/png": "[encoded data removed]",
      "text/plain": [
       "<matplotlib.figure.Figure at 0x1c3cd4cccc0>"
      ]
     },
     "metadata": {},
     "output_type": "display_data"
    }
   ],
   "source": [
    "def ex_2_25():\n",
    "    '''Визуализация распределений всех вариантов \n",
    "       дизайна веб-сайта на одной коробчатой диаграмме'''\n",
    "    df = load_data('multiple-sites.tsv')\n",
    "    df.boxplot(by='site', showmeans=True)\n",
    "    plt.xlabel('Номер дизайна веб-сайта')\n",
    "    plt.ylabel('Время задержки, сек.')\n",
    "    plt.title('')\n",
    "    plt.suptitle('')\n",
    "    plt.gca().xaxis.grid(False)\n",
    "    #saveplot('ex_2_25.png') \n",
    "    plt.show()\n",
    "\n",
    "ex_2_25()"
   ]
  },
  {
   "cell_type": "code",
   "execution_count": 107,
   "metadata": {
    "collapsed": false
   },
   "outputs": [
    {
     "data": {
      "text/plain": [
       "0.0068811940138903786"
      ]
     },
     "execution_count": 107,
     "metadata": {},
     "output_type": "execute_result"
    }
   ],
   "source": [
    "def ex_2_26():\n",
    "    '''Проверка вариантов 0 и 10 дизайна веб-сайта на основе F-теста'''\n",
    "    df = load_data('multiple-sites.tsv')\n",
    "    groups   = df.groupby('site')['dwell-time']\n",
    "    site_0   = groups.get_group(0) \n",
    "    site_10  = groups.get_group(10)\n",
    "    _, p_val = stats.ttest_ind(site_0, site_10, equal_var=False)\n",
    "    return p_val\n",
    "\n",
    "ex_2_26()"
   ]
  },
  {
   "cell_type": "code",
   "execution_count": 108,
   "metadata": {
    "collapsed": false
   },
   "outputs": [
    {
     "data": {
      "text/plain": [
       "0.005534181712508717"
      ]
     },
     "execution_count": 108,
     "metadata": {},
     "output_type": "execute_result"
    }
   ],
   "source": [
    "def ex_2_27():\n",
    "    '''Проверка вариантов 0 и 6 дизайна веб-сайта на основе F-теста'''\n",
    "    df = load_data('multiple-sites.tsv')\n",
    "    groups   = df.groupby('site')['dwell-time']\n",
    "    site_0   = groups.get_group(0) \n",
    "    site_6   = groups.get_group(6)\n",
    "    _, p_val = stats.ttest_ind(site_0, site_6, equal_var=False)\n",
    "    return p_val\n",
    "    \n",
    "ex_2_27()"
   ]
  },
  {
   "cell_type": "markdown",
   "metadata": {},
   "source": [
    "### Размер эффекта"
   ]
  },
  {
   "cell_type": "markdown",
   "metadata": {},
   "source": [
    "*Интервальный индекс d Коэна*"
   ]
  },
  {
   "cell_type": "code",
   "execution_count": 109,
   "metadata": {
    "collapsed": true
   },
   "outputs": [],
   "source": [
    "def pooled_standard_deviation(a, b):\n",
    "    '''Объединенное стандартное отклонение \n",
    "       (не объединенная стандартная ошибка)'''\n",
    "    return sp.sqrt( standard_deviation(a) ** 2 +\n",
    "                    standard_deviation(b) ** 2)"
   ]
  },
  {
   "cell_type": "code",
   "execution_count": 110,
   "metadata": {
    "collapsed": false
   },
   "outputs": [
    {
     "data": {
      "text/plain": [
       "0.38913648705499848"
      ]
     },
     "execution_count": 110,
     "metadata": {},
     "output_type": "execute_result"
    }
   ],
   "source": [
    "def ex_2_28():\n",
    "    '''Вычисление интервального индекса d Коэна \n",
    "       для варианта дизайна веб-сайта под номером 6'''\n",
    "    df = load_data('multiple-sites.tsv')\n",
    "    groups = df.groupby('site')['dwell-time']\n",
    "    a      = groups.get_group(0)\n",
    "    b      = groups.get_group(6)\n",
    "    return (b.mean() - a.mean()) / pooled_standard_deviation(a, b)\n",
    "\n",
    "ex_2_28()"
   ]
  },
  {
   "cell_type": "markdown",
   "metadata": {},
   "source": [
    "<a href=\"#home\"><i class=\"fa fa-home fa-fw\"></i></a><br><br>"
   ]
  }
 ],
 "metadata": {
  "kernelspec": {
   "display_name": "Python 3",
   "language": "python",
   "name": "python3"
  },
  "language_info": {
   "codemirror_mode": {
    "name": "ipython",
    "version": 3
   },
   "file_extension": ".py",
   "mimetype": "text/x-python",
   "name": "python",
   "nbconvert_exporter": "python",
   "pygments_lexer": "ipython3",
   "version": "3.5.2"
  }
 },
 "nbformat": 4,
 "nbformat_minor": 2
}
