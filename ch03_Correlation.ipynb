{
 "cells": [
  {
   "cell_type": "markdown",
   "metadata": {},
   "source": [
    "<link rel=\"stylesheet\" href=\"fonts/css/font-awesome.min.css\">\n",
    "[А. Л.](https://capissimo.github.io/pythonfordatascience), 2017\n",
    "\n",
    "https://capissimo.github.io/pythonfordatascience"
   ]
  },
  {
   "cell_type": "markdown",
   "metadata": {},
   "source": [
    "## Глава 03. Корреляция"
   ]
  },
  {
   "cell_type": "markdown",
   "metadata": {},
   "source": [
    "### Содержание"
   ]
  },
  {
   "cell_type": "markdown",
   "metadata": {},
   "source": [
    "- [Обследование данных](#Обследование-данных)\n",
    "- [Визуализация данных](#Визуализация-данных)\n",
    "- [Логнормальное распределение](#Логнормальное-распределение)\n",
    "- [Ковариация](#Ковариация)\n",
    "- [Корреляция Пирсона](#Корреляция-Пирсона)\n",
    "- [Проверка статистических гипотез](#Проверка-статистических-гипотез)\n",
    "- [Доверительные интервалы](#Доверительные-интервалы)\n",
    "- [Регрессия](#Регрессия)\n",
    "- [Обычный метод наименьших квадратов](#Обычный-метод-наименьших-квадратов)\n",
    "- [Качество подгонки и R-квадрат](#Качество-подгонки-и-R-квадрат)\n",
    "- [Множественная линейная регрессия и матрицы](#Множественная-линейная-регрессия-и-матрицы)\n",
    "- [Нормальное уравнение](#Нормальное-уравнение)\n",
    "- [Множественный R-квадрат](#Множественный-R-квадрат)\n",
    "- [Скорректированный матричный R-квадрат](#Скорректированный-матричный-R-квадрат)\n",
    "- [Коллинеарность](#Коллинеарность)\n",
    "- [Предсказание](#Предсказание)"
   ]
  },
  {
   "cell_type": "markdown",
   "metadata": {},
   "source": [
    "<a name=\"home\"></a>"
   ]
  },
  {
   "cell_type": "code",
   "execution_count": 251,
   "metadata": {
    "collapsed": true
   },
   "outputs": [],
   "source": [
    "# -*- coding: utf-8 -*-\n",
    "\n",
    "# Системные библиотеки\n",
    "\n",
    "import random\n",
    "\n",
    "import numpy as np\n",
    "import scipy as sp\n",
    "from scipy import stats\n",
    "import pandas as pd    \n",
    "# для загрузки файлов excel требуется xlrd >= 0.9.0 \n",
    "# ?pip install --upgrade xlrd\n",
    "\n",
    "# Графические настройки \n",
    "\n",
    "import matplotlib.pyplot as plt\n",
    "from matplotlib import rcParams\n",
    "rcParams['font.family']     = 'sans-serif'\n",
    "rcParams['font.sans-serif'] = ['Ubuntu Condensed']\n",
    "rcParams['figure.figsize']  = (5, 4)\n",
    "rcParams['legend.fontsize'] = 10\n",
    "\n",
    "def saveplot(dest):\n",
    "    plt.tight_layout()\n",
    "    plt.savefig('images/' + dest)"
   ]
  },
  {
   "cell_type": "markdown",
   "metadata": {},
   "source": [
    "### Обследование данных"
   ]
  },
  {
   "cell_type": "code",
   "execution_count": 252,
   "metadata": {
    "collapsed": true
   },
   "outputs": [],
   "source": [
    "# Загрузка данных:\n",
    "\n",
    "def load_data_excel(fname):\n",
    "    '''Загрузить данные из файла Excel fname'''\n",
    "    return pd.read_excel('data/ch03/' + fname)   \n",
    "\n",
    "def load_data():\n",
    "    '''Загрузить данные об олимпийских спортсменах'''\n",
    "    return pd.read_csv('data/ch03/all-london-2012-athletes-ru.tsv', '\\t') "
   ]
  },
  {
   "cell_type": "code",
   "execution_count": 135,
   "metadata": {
    "collapsed": false,
    "scrolled": true
   },
   "outputs": [
    {
     "data": {
      "text/html": [
       "<div>\n",
       "<table border=\"1\" class=\"dataframe\">\n",
       "  <thead>\n",
       "    <tr style=\"text-align: right;\">\n",
       "      <th></th>\n",
       "      <th>ФИО</th>\n",
       "      <th>Страна</th>\n",
       "      <th>Возраст</th>\n",
       "      <th>Рост, см</th>\n",
       "      <th>Вес</th>\n",
       "      <th>Пол</th>\n",
       "      <th>Дата рождения</th>\n",
       "      <th>Место рождения</th>\n",
       "      <th>Золото</th>\n",
       "      <th>Серебро</th>\n",
       "      <th>Бронза</th>\n",
       "      <th>Всего</th>\n",
       "      <th>Вид спорта</th>\n",
       "      <th>Состязание</th>\n",
       "    </tr>\n",
       "  </thead>\n",
       "  <tbody>\n",
       "    <tr>\n",
       "      <th>0</th>\n",
       "      <td>Lamusi A</td>\n",
       "      <td>People's Republic of China</td>\n",
       "      <td>23</td>\n",
       "      <td>170.0</td>\n",
       "      <td>60.0</td>\n",
       "      <td>М</td>\n",
       "      <td>06 02 1989</td>\n",
       "      <td>NEIMONGGOL (CHN)</td>\n",
       "      <td>0</td>\n",
       "      <td>0</td>\n",
       "      <td>0</td>\n",
       "      <td>0</td>\n",
       "      <td>Judo</td>\n",
       "      <td>Men's -60kg</td>\n",
       "    </tr>\n",
       "    <tr>\n",
       "      <th>1</th>\n",
       "      <td>A G Kruger</td>\n",
       "      <td>United States of America</td>\n",
       "      <td>33</td>\n",
       "      <td>193.0</td>\n",
       "      <td>125.0</td>\n",
       "      <td>М</td>\n",
       "      <td>2 18 1979</td>\n",
       "      <td>Sheldon (USA)</td>\n",
       "      <td>0</td>\n",
       "      <td>0</td>\n",
       "      <td>0</td>\n",
       "      <td>0</td>\n",
       "      <td>Athletics</td>\n",
       "      <td>Men's Hammer Throw</td>\n",
       "    </tr>\n",
       "    <tr>\n",
       "      <th>2</th>\n",
       "      <td>Jamale Aarrass</td>\n",
       "      <td>France</td>\n",
       "      <td>30</td>\n",
       "      <td>187.0</td>\n",
       "      <td>76.0</td>\n",
       "      <td>М</td>\n",
       "      <td>11 15 1981</td>\n",
       "      <td>BEZONS (FRA)</td>\n",
       "      <td>0</td>\n",
       "      <td>0</td>\n",
       "      <td>0</td>\n",
       "      <td>0</td>\n",
       "      <td>Athletics</td>\n",
       "      <td>Men's 1500m</td>\n",
       "    </tr>\n",
       "    <tr>\n",
       "      <th>3</th>\n",
       "      <td>Abdelhak Aatakni</td>\n",
       "      <td>Morocco</td>\n",
       "      <td>24</td>\n",
       "      <td>NaN</td>\n",
       "      <td>NaN</td>\n",
       "      <td>М</td>\n",
       "      <td>02 09 1988</td>\n",
       "      <td>AIN SEBAA (MAR)</td>\n",
       "      <td>0</td>\n",
       "      <td>0</td>\n",
       "      <td>0</td>\n",
       "      <td>0</td>\n",
       "      <td>Boxing</td>\n",
       "      <td>Men's Light Welter (64kg)</td>\n",
       "    </tr>\n",
       "  </tbody>\n",
       "</table>\n",
       "</div>"
      ],
      "text/plain": [
       "                ФИО                      Страна  Возраст  Рост, см    Вес Пол  \\\n",
       "0          Lamusi A  People's Republic of China       23     170.0   60.0   М   \n",
       "1        A G Kruger    United States of America       33     193.0  125.0   М   \n",
       "2    Jamale Aarrass                      France       30     187.0   76.0   М   \n",
       "3  Abdelhak Aatakni                     Morocco       24       NaN    NaN   М   \n",
       "\n",
       "  Дата рождения    Место рождения  Золото  Серебро  Бронза  Всего Вид спорта  \\\n",
       "0    06 02 1989  NEIMONGGOL (CHN)       0        0       0      0       Judo   \n",
       "1     2 18 1979     Sheldon (USA)       0        0       0      0  Athletics   \n",
       "2    11 15 1981      BEZONS (FRA)       0        0       0      0  Athletics   \n",
       "3    02 09 1988   AIN SEBAA (MAR)       0        0       0      0     Boxing   \n",
       "\n",
       "                  Состязание  \n",
       "0                Men's -60kg  \n",
       "1         Men's Hammer Throw  \n",
       "2                Men's 1500m  \n",
       "3  Men's Light Welter (64kg)  "
      ]
     },
     "execution_count": 135,
     "metadata": {},
     "output_type": "execute_result"
    }
   ],
   "source": [
    "def ex_3_1():\n",
    "    '''Загрузка данных об участниках \n",
    "       олимпийских игр в Лондоне 2012 г.'''\n",
    "    return load_data().head(4)\n",
    "\n",
    "ex_3_1()"
   ]
  },
  {
   "cell_type": "markdown",
   "metadata": {},
   "source": [
    "### Визуализация данных"
   ]
  },
  {
   "cell_type": "code",
   "execution_count": 214,
   "metadata": {
    "collapsed": false
   },
   "outputs": [
    {
     "data": {
      "image/png": "[encoded data removed]",
      "text/plain": [
       "<matplotlib.figure.Figure at 0x213aa853cc0>"
      ]
     },
     "metadata": {},
     "output_type": "display_data"
    }
   ],
   "source": [
    "def ex_3_2():\n",
    "    '''Визуализаия разброса значений \n",
    "       роста спортсменов на гистограмме'''\n",
    "    df = load_data()\n",
    "    df['Рост, см'].hist(bins=20)\n",
    "    plt.xlabel('Рост, см.')\n",
    "    plt.ylabel('Частота')\n",
    "    #saveplot('ex_3_2.png')  \n",
    "    plt.show() \n",
    "    \n",
    "ex_3_2()"
   ]
  },
  {
   "cell_type": "code",
   "execution_count": 215,
   "metadata": {
    "collapsed": false,
    "scrolled": false
   },
   "outputs": [
    {
     "data": {
      "image/png": "[encoded data removed]",
      "text/plain": [
       "<matplotlib.figure.Figure at 0x213a92890b8>"
      ]
     },
     "metadata": {},
     "output_type": "display_data"
    }
   ],
   "source": [
    "def ex_3_3():\n",
    "    '''Визуализаия разброса значений веса спортсменов'''\n",
    "    df = load_data()\n",
    "    df['Вес'].hist(bins=20)\n",
    "    plt.xlabel('Вес')\n",
    "    plt.ylabel('Частота')\n",
    "    #saveplot('ex_3_3.png')  \n",
    "    plt.show() \n",
    "    \n",
    "ex_3_3()"
   ]
  },
  {
   "cell_type": "code",
   "execution_count": 138,
   "metadata": {
    "collapsed": false
   },
   "outputs": [
    {
     "data": {
      "text/plain": [
       "0.23441459903001483"
      ]
     },
     "execution_count": 138,
     "metadata": {},
     "output_type": "execute_result"
    }
   ],
   "source": [
    "def ex_3_4():\n",
    "    '''Вычисление ассиметрии веса спортсменов'''\n",
    "    df = load_data()\n",
    "    swimmers = df[ df['Вид спорта'] == 'Swimming']\n",
    "    return swimmers['Вес'].skew()\n",
    "    \n",
    "ex_3_4()  "
   ]
  },
  {
   "cell_type": "code",
   "execution_count": 216,
   "metadata": {
    "collapsed": false
   },
   "outputs": [
    {
     "data": {
      "image/png": "[encoded data removed]",
      "text/plain": [
       "<matplotlib.figure.Figure at 0x213a8dbd8d0>"
      ]
     },
     "metadata": {},
     "output_type": "display_data"
    }
   ],
   "source": [
    "def ex_3_5():\n",
    "    '''Визуализаия разброса значений веса спортсменов на\n",
    "       полулогарифмической гистограмме с целью удаления \n",
    "       ассиметрии'''\n",
    "    df = load_data()\n",
    "    df['Вес'].apply(sp.log).hist(bins=20)\n",
    "    plt.xlabel('Логарифмический вес')\n",
    "    plt.ylabel('Частота')\n",
    "    #saveplot('ex_3_5.png')  \n",
    "    plt.show() \n",
    "    \n",
    "ex_3_5()"
   ]
  },
  {
   "cell_type": "markdown",
   "metadata": {},
   "source": [
    "### Логнормальное распределение"
   ]
  },
  {
   "cell_type": "markdown",
   "metadata": {},
   "source": [
    "*Визуализация корреляции*"
   ]
  },
  {
   "cell_type": "code",
   "execution_count": 253,
   "metadata": {
    "collapsed": false
   },
   "outputs": [],
   "source": [
    "def swimmer_data():\n",
    "    '''Загрузка данных роста и веса только олимпийских пловцов'''\n",
    "    df = load_data()\n",
    "    return df[df['Вид спорта'] == 'Swimming'].dropna()"
   ]
  },
  {
   "cell_type": "code",
   "execution_count": 222,
   "metadata": {
    "collapsed": false
   },
   "outputs": [
    {
     "data": {
      "image/png": "[encoded data removed]",
      "text/plain": [
       "<matplotlib.figure.Figure at 0x213aa6e1f28>"
      ]
     },
     "metadata": {},
     "output_type": "display_data"
    }
   ],
   "source": [
    "def ex_3_6():\n",
    "    '''Визуализация корреляции между ростом и весом'''\n",
    "    df = swimmer_data()\n",
    "    xs = df['Рост, см']\n",
    "    ys = df['Вес'].apply( sp.log )\n",
    "    pd.DataFrame(sp.array([xs,ys]).T).plot.scatter(0, 1, s=7, grid=True)\n",
    "    plt.xlabel('Рост, см.')\n",
    "    plt.ylabel('Логарифмический вес')\n",
    "    #saveplot('ex_3_6.png')  \n",
    "    plt.show()\n",
    "    \n",
    "ex_3_6()"
   ]
  },
  {
   "cell_type": "markdown",
   "metadata": {},
   "source": [
    "*Генерирование джиттера*"
   ]
  },
  {
   "cell_type": "code",
   "execution_count": 254,
   "metadata": {
    "collapsed": false
   },
   "outputs": [],
   "source": [
    "def jitter(limit):\n",
    "    '''Генератор джиттера (произвольного сдвига точек данных)'''\n",
    "    return lambda x: random.uniform(-limit, limit) + x\n",
    "\n",
    "# как вариант: \n",
    "# jitter = lambda limit: lambda x: random.uniform(-limit, limit) + x\n",
    "# пример вызова: jitter(0.5)(7)"
   ]
  },
  {
   "cell_type": "code",
   "execution_count": 223,
   "metadata": {
    "collapsed": false
   },
   "outputs": [
    {
     "data": {
      "image/png": "[encoded data removed]",
      "text/plain": [
       "<matplotlib.figure.Figure at 0x213a913e5c0>"
      ]
     },
     "metadata": {},
     "output_type": "display_data"
    }
   ],
   "source": [
    "def ex_3_7():\n",
    "    '''Визуализация корреляции между ростом и весом с джиттером'''\n",
    "    df = swimmer_data()\n",
    "    xs = df['Рост, см'].apply(jitter(0.5))\n",
    "    ys = df['Вес'].apply(jitter(0.5)).apply(sp.log)\n",
    "    pd.DataFrame(sp.array([xs,ys]).T).plot.scatter(0, 1, s=7, grid=True)\n",
    "    plt.xlabel('Рост, см.')\n",
    "    plt.ylabel('Логарифмический вес')\n",
    "    #saveplot('ex_3_7.png')  \n",
    "    plt.show()\n",
    "    \n",
    "ex_3_7()"
   ]
  },
  {
   "cell_type": "markdown",
   "metadata": {},
   "source": [
    "### Ковариация"
   ]
  },
  {
   "cell_type": "code",
   "execution_count": 144,
   "metadata": {
    "collapsed": false
   },
   "outputs": [],
   "source": [
    "def covariance(xs, ys):\n",
    "    '''Вычисление ковариации (несмещенная, т.е. n-1)'''\n",
    "    dx = xs - xs.mean() \n",
    "    dy = ys - ys.mean()\n",
    "    return (dx * dy).sum() / (dx.count() - 1)"
   ]
  },
  {
   "cell_type": "code",
   "execution_count": 145,
   "metadata": {
    "collapsed": false
   },
   "outputs": [
    {
     "data": {
      "text/plain": [
       "1.3559273321696457"
      ]
     },
     "execution_count": 145,
     "metadata": {},
     "output_type": "execute_result"
    }
   ],
   "source": [
    "def ex_3_custom():\n",
    "    '''Вычисление ковариации \n",
    "       на примере данных роста и веса'''\n",
    "    df = swimmer_data()\n",
    "    return covariance(df['Рост, см'], df['Вес'].apply(sp.log))\n",
    "\n",
    "ex_3_custom()"
   ]
  },
  {
   "cell_type": "code",
   "execution_count": 146,
   "metadata": {
    "collapsed": false
   },
   "outputs": [
    {
     "data": {
      "text/plain": [
       "1.3559273321696459"
      ]
     },
     "execution_count": 146,
     "metadata": {},
     "output_type": "execute_result"
    }
   ],
   "source": [
    "def ex_3_pandas():\n",
    "    '''Вычисление ковариации (несмещенная, т.е. n-1) в Pandas\n",
    "       на примере данных роста и веса'''\n",
    "    df = swimmer_data()\n",
    "    return df['Рост, см'].cov(df['Вес'].apply(sp.log))\n",
    "\n",
    "ex_3_pandas()"
   ]
  },
  {
   "cell_type": "markdown",
   "metadata": {},
   "source": [
    "### Корреляция Пирсона"
   ]
  },
  {
   "cell_type": "code",
   "execution_count": 264,
   "metadata": {
    "collapsed": false
   },
   "outputs": [
    {
     "data": {
      "text/plain": [
       "0.86849354469570428"
      ]
     },
     "execution_count": 264,
     "metadata": {},
     "output_type": "execute_result"
    }
   ],
   "source": [
    "def variance(xs):\n",
    "    '''Вычисление дисперсии,\n",
    "       несмещенная дисперсия при n <= 30'''\n",
    "    x_hat = xs.mean()\n",
    "    n = xs.count()\n",
    "    n = n - 1 if n in range( 1, 30 ) else n  \n",
    "    return sum((xs - x_hat) ** 2) / n\n",
    "\n",
    "def standard_deviation(xs):\n",
    "    '''Вычисление стандартного отклонения'''\n",
    "    return sp.sqrt(variance(xs))\n",
    "\n",
    "def correlation(xs, ys): \n",
    "    '''Вычисление корреляции'''\n",
    "    return covariance(xs, ys) / (standard_deviation(xs) * \n",
    "                                 standard_deviation(ys))\n",
    "\n",
    "def ex_3_8_custom():\n",
    "    '''Вычисление корреляции в собственной реализации\n",
    "       на примере данных роста и веса'''\n",
    "    df = swimmer_data()[['Рост, см', 'Вес']]\n",
    "    return correlation( df['Рост, см'], df['Вес'].apply(sp.log))\n",
    "\n",
    "ex_3_8_custom()"
   ]
  },
  {
   "cell_type": "code",
   "execution_count": 148,
   "metadata": {
    "collapsed": false
   },
   "outputs": [
    {
     "data": {
      "text/plain": [
       "0.86748249283924894"
      ]
     },
     "execution_count": 148,
     "metadata": {},
     "output_type": "execute_result"
    }
   ],
   "source": [
    "def ex_3_8():\n",
    "    '''Вычисление корреляции средствами Pandas\n",
    "       на примере данных роста и веса'''\n",
    "    df = swimmer_data()\n",
    "    return df['Рост, см'].corr( df['Вес'].apply(sp.log))\n",
    "    \n",
    "ex_3_8()"
   ]
  },
  {
   "cell_type": "markdown",
   "metadata": {},
   "source": [
    "### Проверка статистических гипотез"
   ]
  },
  {
   "cell_type": "code",
   "execution_count": 149,
   "metadata": {
    "collapsed": true
   },
   "outputs": [],
   "source": [
    "def t_statistic(xs, ys):\n",
    "    '''Вычисление t-статистики\n",
    "       t = corr * sqrt(df / (1 - corr**2))'''\n",
    "    r = xs.corr(ys)  # как вариант, correlation(xs, ys)\n",
    "    df = xs.count() - 2\n",
    "    return r * sp.sqrt(df / 1 - r ** 2)"
   ]
  },
  {
   "cell_type": "code",
   "execution_count": 150,
   "metadata": {
    "collapsed": false
   },
   "outputs": [
    {
     "data": {
      "text/plain": [
       "{'p-значение': 1.8980236317815443e-106, 't-значение': 25.384018200627057}"
      ]
     },
     "execution_count": 150,
     "metadata": {},
     "output_type": "execute_result"
    }
   ],
   "source": [
    "def ex_3_9():\n",
    "    '''Выполнение двухстороннего t-теста'''\n",
    "    df = swimmer_data()\n",
    "    xs = df['Рост, см']\n",
    "    ys = df['Вес'].apply(sp.log)\n",
    "    t_value = t_statistic(xs, ys)\n",
    "    df = xs.count() - 2 \n",
    "    p = 2 * stats.t.sf(t_value, df)  # функция выживания (иногда лучше, чем 1-t.cdf)\n",
    "    return {'t-значение':t_value, 'p-значение':p}\n",
    "    \n",
    "ex_3_9()"
   ]
  },
  {
   "cell_type": "markdown",
   "metadata": {},
   "source": [
    "### Доверительные интервалы"
   ]
  },
  {
   "cell_type": "code",
   "execution_count": 151,
   "metadata": {
    "collapsed": false
   },
   "outputs": [
    {
     "data": {
      "text/plain": [
       "1.959963984540054"
      ]
     },
     "execution_count": 151,
     "metadata": {},
     "output_type": "execute_result"
    }
   ],
   "source": [
    "def critical_value(confidence, ntails): # ДИ и число хвостов\n",
    "    '''Расчет критического значения путем\n",
    "       вычисления квантиля и получения \n",
    "       для него нормального значения'''\n",
    "    lookup = 1 - ((1 - confidence) / ntails) \n",
    "    return stats.norm.ppf(lookup, 0, 1)  # mu=0, sigma=1\n",
    "\n",
    "critical_value(0.95, 2)"
   ]
  },
  {
   "cell_type": "code",
   "execution_count": 152,
   "metadata": {
    "collapsed": false
   },
   "outputs": [],
   "source": [
    "def z_to_r(z):\n",
    "    '''Преобразование z-оценки обратно в r-значение'''\n",
    "    return (sp.exp(z*2) - 1) / (sp.exp(z*2) + 1)\n",
    "\n",
    "def r_confidence_interval(crit, xs, ys):\n",
    "    '''Расчет доверительного интервала для критического значения и данных'''\n",
    "    r   = xs.corr(ys)\n",
    "    n   = xs.count()\n",
    "    zr  = 0.5 * sp.log((1 + r) / (1 - r)) \n",
    "    sez = 1 / sp.sqrt(n - 3)\n",
    "    return (z_to_r(zr - (crit * sez))), (z_to_r(zr + (crit * sez)))"
   ]
  },
  {
   "cell_type": "code",
   "execution_count": 153,
   "metadata": {
    "collapsed": false
   },
   "outputs": [
    {
     "name": "stdout",
     "output_type": "stream",
     "text": [
      "ДИ (95%): (0.84990885888803469, 0.8831284878884087)\n"
     ]
    }
   ],
   "source": [
    "def ex_3_10():\n",
    "    '''Расчет доверительного интервала \n",
    "       на примере данных роста и веса'''\n",
    "    df = swimmer_data()\n",
    "    X = df['Рост, см']\n",
    "    y = df['Вес'].apply(sp.log)\n",
    "    interval = r_confidence_interval(1.96, X, y) \n",
    "    print('ДИ (95%):', interval)\n",
    "    \n",
    "ex_3_10()"
   ]
  },
  {
   "cell_type": "markdown",
   "metadata": {},
   "source": [
    "### Регрессия"
   ]
  },
  {
   "cell_type": "markdown",
   "metadata": {},
   "source": [
    "*Линейные уравнения*"
   ]
  },
  {
   "cell_type": "code",
   "execution_count": 154,
   "metadata": {
    "collapsed": false
   },
   "outputs": [],
   "source": [
    "'''Функция перевода из шкалы Цельсия в шкалу Фаренгейта'''\n",
    "celsius_to_fahrenheit = lambda x: 32 + (x * 1.8)"
   ]
  },
  {
   "cell_type": "code",
   "execution_count": 224,
   "metadata": {
    "collapsed": false
   },
   "outputs": [
    {
     "data": {
      "image/png": "[encoded data removed]",
      "text/plain": [
       "<matplotlib.figure.Figure at 0x213aa948a58>"
      ]
     },
     "metadata": {},
     "output_type": "display_data"
    }
   ],
   "source": [
    "def ex_3_11():\n",
    "    '''График линейной зависимости температурных шкал'''\n",
    "    s  = pd.Series(range(-10,40))\n",
    "    df = pd.DataFrame({'C':s, 'F':s.map(celsius_to_fahrenheit)})\n",
    "    df.plot('C', 'F', legend=False, grid=True)\n",
    "    plt.xlabel('Градусы Цельсия')\n",
    "    plt.ylabel('Градусы Фаренгейта')\n",
    "    #saveplot('ex_3_11.png')  \n",
    "    plt.show()\n",
    "\n",
    "ex_3_11()"
   ]
  },
  {
   "cell_type": "markdown",
   "metadata": {},
   "source": [
    "### Обычный метод наименьших квадратов"
   ]
  },
  {
   "cell_type": "markdown",
   "metadata": {},
   "source": [
    "*Наклон и пересечение*"
   ]
  },
  {
   "cell_type": "code",
   "execution_count": 255,
   "metadata": {
    "collapsed": true
   },
   "outputs": [],
   "source": [
    "def slope(xs, ys):\n",
    "    '''Вычисление наклона линии (углового коэффициента)'''\n",
    "    return xs.cov(ys) / xs.var()\n",
    "\n",
    "def intercept(xs, ys): \n",
    "    '''Вычисление точки пересечения (с осью Y)'''\n",
    "    return ys.mean() - (xs.mean() * slope(xs, ys))"
   ]
  },
  {
   "cell_type": "code",
   "execution_count": 157,
   "metadata": {
    "collapsed": false
   },
   "outputs": [
    {
     "name": "stdout",
     "output_type": "stream",
     "text": [
      "Пересечение: 1.691033, наклон: 0.014296\n"
     ]
    }
   ],
   "source": [
    "def ex_3_12():\n",
    "    '''Вычисление пересечения и наклона (углового коэффициента) \n",
    "       на примере данных роста и веса'''\n",
    "    df = swimmer_data()\n",
    "    X  = df['Рост, см']\n",
    "    y  = df['Вес'].apply(sp.log)\n",
    "    a  = intercept(X, y)\n",
    "    b  = slope(X, y) \n",
    "    print('Пересечение: %f, наклон: %f' % (a,b))\n",
    "    \n",
    "ex_3_12()"
   ]
  },
  {
   "cell_type": "markdown",
   "metadata": {},
   "source": [
    "*Визуализация*"
   ]
  },
  {
   "cell_type": "code",
   "execution_count": 256,
   "metadata": {
    "collapsed": true
   },
   "outputs": [],
   "source": [
    "'''Функция линии регрессии'''\n",
    "regression_line = lambda a, b: lambda x: a + (b * x)  # вызовы fn(a,b)(x)"
   ]
  },
  {
   "cell_type": "code",
   "execution_count": 240,
   "metadata": {
    "collapsed": false
   },
   "outputs": [
    {
     "data": {
      "image/png": "[encoded data removed]",
      "text/plain": [
       "<matplotlib.figure.Figure at 0x213aa75f128>"
      ]
     },
     "metadata": {},
     "output_type": "display_data"
    }
   ],
   "source": [
    "def ex_3_13():\n",
    "    '''Визуализация линейного уравнения\n",
    "       на примере данных роста и веса'''\n",
    "    df = swimmer_data()\n",
    "    X  = df['Рост, см'].apply( jitter(0.5) )\n",
    "    y  = df['Вес'].apply(sp.log)\n",
    "    a, b = intercept(X, y), slope(X, y) \n",
    "    ax = pd.DataFrame(sp.array([X, y]).T).plot.scatter(0, 1, s=7)\n",
    "    s  = pd.Series(range(150,210))\n",
    "    df = pd.DataFrame( {0:s, 1:s.map(regression_line(a, b))} )  \n",
    "    df.plot(0, 1, legend=False, grid=True, ax=ax)\n",
    "    plt.xlabel('Рост, см.')\n",
    "    plt.ylabel('Логарифмический вес')\n",
    "    #saveplot('ex_3_13.png')  \n",
    "    plt.show()\n",
    "    \n",
    "ex_3_13()"
   ]
  },
  {
   "cell_type": "code",
   "execution_count": 257,
   "metadata": {
    "collapsed": false
   },
   "outputs": [],
   "source": [
    "def residuals(a, b, xs, ys):\n",
    "    '''Вычисление остатков (остаточных расстояний)'''\n",
    "    estimate = regression_line(a, b)         # каррирование\n",
    "    return pd.Series( map(lambda x, y: y - estimate(x), xs, ys) )\n",
    "\n",
    "constantly = lambda x: 0"
   ]
  },
  {
   "cell_type": "code",
   "execution_count": 241,
   "metadata": {
    "collapsed": false
   },
   "outputs": [
    {
     "data": {
      "image/png": "[encoded data removed]",
      "text/plain": [
       "<matplotlib.figure.Figure at 0x213a8ac0710>"
      ]
     },
     "metadata": {},
     "output_type": "display_data"
    }
   ],
   "source": [
    "def ex_3_14():\n",
    "    '''Построение графика остатков на примере данных роста и веса'''\n",
    "    df = swimmer_data()\n",
    "    X  = df['Рост, см'].apply( jitter(0.5) )\n",
    "    y  = df['Вес'].apply(sp.log)\n",
    "    a, b = intercept(X, y), slope(X, y) \n",
    "    y  = residuals(a, b, X, y)\n",
    "    ax = pd.DataFrame(sp.array([X, y]).T).plot.scatter(0, 1, s=7)\n",
    "    s  = pd.Series(range(150,210))\n",
    "    df = pd.DataFrame( {0:s, 1:s.map(constantly)} )      \n",
    "    df.plot(0, 1, legend=False, grid=True, ax=ax)\n",
    "    plt.xlabel('Рост, см.')\n",
    "    plt.ylabel('Остатки')\n",
    "    #saveplot('ex_3_14.png')  \n",
    "    plt.show()\n",
    "    \n",
    "ex_3_14()"
   ]
  },
  {
   "cell_type": "markdown",
   "metadata": {},
   "source": [
    "### Качество подгонки и R-квадрат"
   ]
  },
  {
   "cell_type": "code",
   "execution_count": 258,
   "metadata": {
    "collapsed": true
   },
   "outputs": [],
   "source": [
    "def r_squared(a, b, xs, ys):\n",
    "    '''Рассчитать коэффициент детерминации (R-квадрат)'''\n",
    "    r_var = residuals(a, b, xs, ys).var() \n",
    "    y_var = ys.var()\n",
    "    return 1 - (r_var / y_var)"
   ]
  },
  {
   "cell_type": "code",
   "execution_count": 163,
   "metadata": {
    "collapsed": false
   },
   "outputs": [
    {
     "data": {
      "text/plain": [
       "0.75047674187068802"
      ]
     },
     "execution_count": 163,
     "metadata": {},
     "output_type": "execute_result"
    }
   ],
   "source": [
    "def ex_3_15():\n",
    "    '''Рассчитать коэффициент R-квадрат \n",
    "       на примере данных роста и веса'''\n",
    "    df = swimmer_data()\n",
    "    X  = df['Рост, см'].apply( jitter(0.5) )\n",
    "    y  = df['Вес'].apply(sp.log)\n",
    "    a, b = intercept(X, y), slope(X, y) \n",
    "    return r_squared(a, b, X, y)\n",
    "\n",
    "ex_3_15()"
   ]
  },
  {
   "cell_type": "markdown",
   "metadata": {},
   "source": [
    "### Множественная линейная регрессия и матрицы"
   ]
  },
  {
   "cell_type": "code",
   "execution_count": 164,
   "metadata": {
    "collapsed": false
   },
   "outputs": [
    {
     "data": {
      "text/plain": [
       "array([ 63, 217,   5,  96, 140, 239, 180,  99,  60, 231,  72,  44, 150,\n",
       "       181,  80,  37], dtype=int64)"
      ]
     },
     "execution_count": 164,
     "metadata": {},
     "output_type": "execute_result"
    }
   ],
   "source": [
    "'''Конвертация рядов данных Series и \n",
    "   таблиц данных DataFrame библиотеки Pandas \n",
    "   в матрицы библиотеки NumPy'''\n",
    "pd.Series(random.sample(range(256), k=16)).values"
   ]
  },
  {
   "cell_type": "code",
   "execution_count": 165,
   "metadata": {
    "collapsed": false
   },
   "outputs": [
    {
     "data": {
      "text/plain": [
       "array([[ 166.,   68.],\n",
       "       [ 192.,   89.],\n",
       "       [ 173.,   65.],\n",
       "       ..., \n",
       "       [ 188.,   79.],\n",
       "       [ 187.,   78.],\n",
       "       [ 183.,   70.]])"
      ]
     },
     "execution_count": 165,
     "metadata": {},
     "output_type": "execute_result"
    }
   ],
   "source": [
    "def ex_3_16():\n",
    "    '''Конвертация в массив (матрицу) NumPy \n",
    "       таблицы данных роста и веса'''\n",
    "    df = swimmer_data()[['Рост, см', 'Вес']]\n",
    "    return df.values\n",
    "\n",
    "ex_3_16()"
   ]
  },
  {
   "cell_type": "code",
   "execution_count": 166,
   "metadata": {
    "collapsed": false
   },
   "outputs": [
    {
     "data": {
      "text/plain": [
       "array([ 166.,  192.,  173.,  179.,  201.,  190.,  175.,  160.,  202.,  173.])"
      ]
     },
     "execution_count": 166,
     "metadata": {},
     "output_type": "execute_result"
    }
   ],
   "source": [
    "def ex_3_17():\n",
    "    '''Конвертация в массив (матрицу) NumPy \n",
    "       данных числового ряда с данными о росте'''\n",
    "    return swimmer_data()['Рост, см'].head(20).values\n",
    "\n",
    "ex_3_17()[0:10]"
   ]
  },
  {
   "cell_type": "code",
   "execution_count": 167,
   "metadata": {
    "collapsed": false
   },
   "outputs": [
    {
     "data": {
      "text/html": [
       "<div>\n",
       "<table border=\"1\" class=\"dataframe\">\n",
       "  <thead>\n",
       "    <tr style=\"text-align: right;\">\n",
       "      <th></th>\n",
       "      <th>x</th>\n",
       "      <th>y</th>\n",
       "      <th>константа</th>\n",
       "    </tr>\n",
       "  </thead>\n",
       "  <tbody>\n",
       "    <tr>\n",
       "      <th>0</th>\n",
       "      <td>2</td>\n",
       "      <td>8</td>\n",
       "      <td>1</td>\n",
       "    </tr>\n",
       "    <tr>\n",
       "      <th>1</th>\n",
       "      <td>3</td>\n",
       "      <td>7</td>\n",
       "      <td>1</td>\n",
       "    </tr>\n",
       "    <tr>\n",
       "      <th>2</th>\n",
       "      <td>6</td>\n",
       "      <td>4</td>\n",
       "      <td>1</td>\n",
       "    </tr>\n",
       "    <tr>\n",
       "      <th>3</th>\n",
       "      <td>7</td>\n",
       "      <td>3</td>\n",
       "      <td>1</td>\n",
       "    </tr>\n",
       "  </tbody>\n",
       "</table>\n",
       "</div>"
      ],
      "text/plain": [
       "   x  y  константа\n",
       "0  2  8          1\n",
       "1  3  7          1\n",
       "2  6  4          1\n",
       "3  7  3          1"
      ]
     },
     "execution_count": 167,
     "metadata": {},
     "output_type": "execute_result"
    }
   ],
   "source": [
    "'''Добавление столбца в таблицу данных (массив)'''\n",
    "df = pd.DataFrame({'x':[2, 3, 6, 7],'y':[8, 7, 4, 3]})\n",
    "df['константа'] = 1\n",
    "df"
   ]
  },
  {
   "cell_type": "markdown",
   "metadata": {},
   "source": [
    "### Операции над матрицами в Pandas"
   ]
  },
  {
   "cell_type": "markdown",
   "metadata": {},
   "source": [
    "*Конструирование*"
   ]
  },
  {
   "cell_type": "code",
   "execution_count": 168,
   "metadata": {
    "collapsed": false
   },
   "outputs": [
    {
     "data": {
      "text/html": [
       "<div>\n",
       "<table border=\"1\" class=\"dataframe\">\n",
       "  <thead>\n",
       "    <tr style=\"text-align: right;\">\n",
       "      <th></th>\n",
       "      <th>0</th>\n",
       "      <th>1</th>\n",
       "    </tr>\n",
       "  </thead>\n",
       "  <tbody>\n",
       "    <tr>\n",
       "      <th>0</th>\n",
       "      <td>1</td>\n",
       "      <td>0</td>\n",
       "    </tr>\n",
       "    <tr>\n",
       "      <th>1</th>\n",
       "      <td>2</td>\n",
       "      <td>5</td>\n",
       "    </tr>\n",
       "    <tr>\n",
       "      <th>2</th>\n",
       "      <td>3</td>\n",
       "      <td>1</td>\n",
       "    </tr>\n",
       "  </tbody>\n",
       "</table>\n",
       "</div>"
      ],
      "text/plain": [
       "   0  1\n",
       "0  1  0\n",
       "1  2  5\n",
       "2  3  1"
      ]
     },
     "execution_count": 168,
     "metadata": {},
     "output_type": "execute_result"
    }
   ],
   "source": [
    "df1 = pd.DataFrame([[1,0],[2,5],[3,1]])\n",
    "df2 = pd.DataFrame([[4,0.5],[2,5],[0,1]])\n",
    "df1"
   ]
  },
  {
   "cell_type": "code",
   "execution_count": 169,
   "metadata": {
    "collapsed": false
   },
   "outputs": [
    {
     "data": {
      "text/html": [
       "<div>\n",
       "<table border=\"1\" class=\"dataframe\">\n",
       "  <thead>\n",
       "    <tr style=\"text-align: right;\">\n",
       "      <th></th>\n",
       "      <th>0</th>\n",
       "      <th>1</th>\n",
       "    </tr>\n",
       "  </thead>\n",
       "  <tbody>\n",
       "    <tr>\n",
       "      <th>0</th>\n",
       "      <td>4</td>\n",
       "      <td>0.5</td>\n",
       "    </tr>\n",
       "    <tr>\n",
       "      <th>1</th>\n",
       "      <td>2</td>\n",
       "      <td>5.0</td>\n",
       "    </tr>\n",
       "    <tr>\n",
       "      <th>2</th>\n",
       "      <td>0</td>\n",
       "      <td>1.0</td>\n",
       "    </tr>\n",
       "  </tbody>\n",
       "</table>\n",
       "</div>"
      ],
      "text/plain": [
       "   0    1\n",
       "0  4  0.5\n",
       "1  2  5.0\n",
       "2  0  1.0"
      ]
     },
     "execution_count": 169,
     "metadata": {},
     "output_type": "execute_result"
    }
   ],
   "source": [
    "df2"
   ]
  },
  {
   "cell_type": "markdown",
   "metadata": {},
   "source": [
    "*Сложение и скалярное произведение*"
   ]
  },
  {
   "cell_type": "code",
   "execution_count": 170,
   "metadata": {
    "collapsed": false
   },
   "outputs": [
    {
     "data": {
      "text/html": [
       "<div>\n",
       "<table border=\"1\" class=\"dataframe\">\n",
       "  <thead>\n",
       "    <tr style=\"text-align: right;\">\n",
       "      <th></th>\n",
       "      <th>0</th>\n",
       "      <th>1</th>\n",
       "    </tr>\n",
       "  </thead>\n",
       "  <tbody>\n",
       "    <tr>\n",
       "      <th>0</th>\n",
       "      <td>4</td>\n",
       "      <td>3</td>\n",
       "    </tr>\n",
       "    <tr>\n",
       "      <th>1</th>\n",
       "      <td>5</td>\n",
       "      <td>8</td>\n",
       "    </tr>\n",
       "    <tr>\n",
       "      <th>2</th>\n",
       "      <td>6</td>\n",
       "      <td>4</td>\n",
       "    </tr>\n",
       "  </tbody>\n",
       "</table>\n",
       "</div>"
      ],
      "text/plain": [
       "   0  1\n",
       "0  4  3\n",
       "1  5  8\n",
       "2  6  4"
      ]
     },
     "execution_count": 170,
     "metadata": {},
     "output_type": "execute_result"
    }
   ],
   "source": [
    "# Прибавление скаляра к матрице\n",
    "\n",
    "df1 + 3"
   ]
  },
  {
   "cell_type": "code",
   "execution_count": 171,
   "metadata": {
    "collapsed": false
   },
   "outputs": [
    {
     "data": {
      "text/html": [
       "<div>\n",
       "<table border=\"1\" class=\"dataframe\">\n",
       "  <thead>\n",
       "    <tr style=\"text-align: right;\">\n",
       "      <th></th>\n",
       "      <th>0</th>\n",
       "      <th>1</th>\n",
       "    </tr>\n",
       "  </thead>\n",
       "  <tbody>\n",
       "    <tr>\n",
       "      <th>0</th>\n",
       "      <td>5</td>\n",
       "      <td>0.5</td>\n",
       "    </tr>\n",
       "    <tr>\n",
       "      <th>1</th>\n",
       "      <td>4</td>\n",
       "      <td>10.0</td>\n",
       "    </tr>\n",
       "    <tr>\n",
       "      <th>2</th>\n",
       "      <td>3</td>\n",
       "      <td>2.0</td>\n",
       "    </tr>\n",
       "  </tbody>\n",
       "</table>\n",
       "</div>"
      ],
      "text/plain": [
       "   0     1\n",
       "0  5   0.5\n",
       "1  4  10.0\n",
       "2  3   2.0"
      ]
     },
     "execution_count": 171,
     "metadata": {},
     "output_type": "execute_result"
    }
   ],
   "source": [
    "# Сложение матриц\n",
    "\n",
    "df1 + df2"
   ]
  },
  {
   "cell_type": "code",
   "execution_count": 172,
   "metadata": {
    "collapsed": false
   },
   "outputs": [
    {
     "data": {
      "text/html": [
       "<div>\n",
       "<table border=\"1\" class=\"dataframe\">\n",
       "  <thead>\n",
       "    <tr style=\"text-align: right;\">\n",
       "      <th></th>\n",
       "      <th>0</th>\n",
       "      <th>1</th>\n",
       "    </tr>\n",
       "  </thead>\n",
       "  <tbody>\n",
       "    <tr>\n",
       "      <th>0</th>\n",
       "      <td>-3</td>\n",
       "      <td>-0.5</td>\n",
       "    </tr>\n",
       "    <tr>\n",
       "      <th>1</th>\n",
       "      <td>0</td>\n",
       "      <td>0.0</td>\n",
       "    </tr>\n",
       "    <tr>\n",
       "      <th>2</th>\n",
       "      <td>3</td>\n",
       "      <td>0.0</td>\n",
       "    </tr>\n",
       "  </tbody>\n",
       "</table>\n",
       "</div>"
      ],
      "text/plain": [
       "   0    1\n",
       "0 -3 -0.5\n",
       "1  0  0.0\n",
       "2  3  0.0"
      ]
     },
     "execution_count": 172,
     "metadata": {},
     "output_type": "execute_result"
    }
   ],
   "source": [
    "# Вычитание матриц\n",
    "\n",
    "df1 - df2"
   ]
  },
  {
   "cell_type": "code",
   "execution_count": 173,
   "metadata": {
    "collapsed": false
   },
   "outputs": [
    {
     "data": {
      "text/html": [
       "<div>\n",
       "<table border=\"1\" class=\"dataframe\">\n",
       "  <thead>\n",
       "    <tr style=\"text-align: right;\">\n",
       "      <th></th>\n",
       "      <th>0</th>\n",
       "      <th>1</th>\n",
       "    </tr>\n",
       "  </thead>\n",
       "  <tbody>\n",
       "    <tr>\n",
       "      <th>0</th>\n",
       "      <td>3</td>\n",
       "      <td>0</td>\n",
       "    </tr>\n",
       "    <tr>\n",
       "      <th>1</th>\n",
       "      <td>6</td>\n",
       "      <td>15</td>\n",
       "    </tr>\n",
       "    <tr>\n",
       "      <th>2</th>\n",
       "      <td>9</td>\n",
       "      <td>3</td>\n",
       "    </tr>\n",
       "  </tbody>\n",
       "</table>\n",
       "</div>"
      ],
      "text/plain": [
       "   0   1\n",
       "0  3   0\n",
       "1  6  15\n",
       "2  9   3"
      ]
     },
     "execution_count": 173,
     "metadata": {},
     "output_type": "execute_result"
    }
   ],
   "source": [
    "# Умножение матрицы на скаляр\n",
    "\n",
    "df1 * 3"
   ]
  },
  {
   "cell_type": "code",
   "execution_count": 174,
   "metadata": {
    "collapsed": false
   },
   "outputs": [
    {
     "data": {
      "text/html": [
       "<div>\n",
       "<table border=\"1\" class=\"dataframe\">\n",
       "  <thead>\n",
       "    <tr style=\"text-align: right;\">\n",
       "      <th></th>\n",
       "      <th>0</th>\n",
       "      <th>1</th>\n",
       "    </tr>\n",
       "  </thead>\n",
       "  <tbody>\n",
       "    <tr>\n",
       "      <th>0</th>\n",
       "      <td>0.333333</td>\n",
       "      <td>0.000000</td>\n",
       "    </tr>\n",
       "    <tr>\n",
       "      <th>1</th>\n",
       "      <td>0.666667</td>\n",
       "      <td>1.666667</td>\n",
       "    </tr>\n",
       "    <tr>\n",
       "      <th>2</th>\n",
       "      <td>1.000000</td>\n",
       "      <td>0.333333</td>\n",
       "    </tr>\n",
       "  </tbody>\n",
       "</table>\n",
       "</div>"
      ],
      "text/plain": [
       "          0         1\n",
       "0  0.333333  0.000000\n",
       "1  0.666667  1.666667\n",
       "2  1.000000  0.333333"
      ]
     },
     "execution_count": 174,
     "metadata": {},
     "output_type": "execute_result"
    }
   ],
   "source": [
    "# Матричное деление на скаляр\n",
    "# эквивалентно df1.div(3, fill_value=None, axis=0, level=None)\n",
    "\n",
    "df1 / 3"
   ]
  },
  {
   "cell_type": "markdown",
   "metadata": {},
   "source": [
    "*Матрично-векторное умножение*"
   ]
  },
  {
   "cell_type": "code",
   "execution_count": 175,
   "metadata": {
    "collapsed": false
   },
   "outputs": [
    {
     "data": {
      "text/plain": [
       "0    16\n",
       "1    20\n",
       "2     7\n",
       "dtype: int64"
      ]
     },
     "execution_count": 175,
     "metadata": {},
     "output_type": "execute_result"
    }
   ],
   "source": [
    "df3 = pd.DataFrame([[1,3],[0,4],[2,1]])\n",
    "vec = [1,5]\n",
    "df3.dot(vec)"
   ]
  },
  {
   "cell_type": "markdown",
   "metadata": {},
   "source": [
    "*Матрично-матричное умножение*"
   ]
  },
  {
   "cell_type": "code",
   "execution_count": 176,
   "metadata": {
    "collapsed": false
   },
   "outputs": [
    {
     "data": {
      "text/html": [
       "<div>\n",
       "<table border=\"1\" class=\"dataframe\">\n",
       "  <thead>\n",
       "    <tr style=\"text-align: right;\">\n",
       "      <th></th>\n",
       "      <th>0</th>\n",
       "      <th>1</th>\n",
       "    </tr>\n",
       "  </thead>\n",
       "  <tbody>\n",
       "    <tr>\n",
       "      <th>0</th>\n",
       "      <td>16</td>\n",
       "      <td>18</td>\n",
       "    </tr>\n",
       "    <tr>\n",
       "      <th>1</th>\n",
       "      <td>20</td>\n",
       "      <td>24</td>\n",
       "    </tr>\n",
       "    <tr>\n",
       "      <th>2</th>\n",
       "      <td>7</td>\n",
       "      <td>6</td>\n",
       "    </tr>\n",
       "  </tbody>\n",
       "</table>\n",
       "</div>"
      ],
      "text/plain": [
       "    0   1\n",
       "0  16  18\n",
       "1  20  24\n",
       "2   7   6"
      ]
     },
     "execution_count": 176,
     "metadata": {},
     "output_type": "execute_result"
    }
   ],
   "source": [
    "df3 = pd.DataFrame([[1,3],[0,4],[2,1]])\n",
    "df4 = pd.DataFrame([[1,0],[5,6]])     \n",
    "df3.dot(df4)"
   ]
  },
  {
   "cell_type": "code",
   "execution_count": 177,
   "metadata": {
    "collapsed": false
   },
   "outputs": [
    {
     "data": {
      "text/plain": [
       "array([[16, 18],\n",
       "       [20, 24],\n",
       "       [ 7,  6]], dtype=int64)"
      ]
     },
     "execution_count": 177,
     "metadata": {},
     "output_type": "execute_result"
    }
   ],
   "source": [
    "# Вариант 2\n",
    "\n",
    "sp.matmul(df3,df4)"
   ]
  },
  {
   "cell_type": "markdown",
   "metadata": {},
   "source": [
    "*Транспонирование*"
   ]
  },
  {
   "cell_type": "code",
   "execution_count": 178,
   "metadata": {
    "collapsed": false
   },
   "outputs": [
    {
     "data": {
      "text/html": [
       "<div>\n",
       "<table border=\"1\" class=\"dataframe\">\n",
       "  <thead>\n",
       "    <tr style=\"text-align: right;\">\n",
       "      <th></th>\n",
       "      <th>0</th>\n",
       "      <th>1</th>\n",
       "      <th>2</th>\n",
       "    </tr>\n",
       "  </thead>\n",
       "  <tbody>\n",
       "    <tr>\n",
       "      <th>0</th>\n",
       "      <td>1</td>\n",
       "      <td>0</td>\n",
       "      <td>2</td>\n",
       "    </tr>\n",
       "    <tr>\n",
       "      <th>1</th>\n",
       "      <td>3</td>\n",
       "      <td>4</td>\n",
       "      <td>1</td>\n",
       "    </tr>\n",
       "  </tbody>\n",
       "</table>\n",
       "</div>"
      ],
      "text/plain": [
       "   0  1  2\n",
       "0  1  0  2\n",
       "1  3  4  1"
      ]
     },
     "execution_count": 178,
     "metadata": {},
     "output_type": "execute_result"
    }
   ],
   "source": [
    "df3.T"
   ]
  },
  {
   "cell_type": "markdown",
   "metadata": {},
   "source": [
    "*Нейтральная (единичная) матрица*"
   ]
  },
  {
   "cell_type": "code",
   "execution_count": 179,
   "metadata": {
    "collapsed": false
   },
   "outputs": [
    {
     "data": {
      "text/html": [
       "<div>\n",
       "<table border=\"1\" class=\"dataframe\">\n",
       "  <thead>\n",
       "    <tr style=\"text-align: right;\">\n",
       "      <th></th>\n",
       "      <th>0</th>\n",
       "      <th>1</th>\n",
       "      <th>2</th>\n",
       "      <th>3</th>\n",
       "      <th>4</th>\n",
       "    </tr>\n",
       "  </thead>\n",
       "  <tbody>\n",
       "    <tr>\n",
       "      <th>0</th>\n",
       "      <td>1.0</td>\n",
       "      <td>0.0</td>\n",
       "      <td>0.0</td>\n",
       "      <td>0.0</td>\n",
       "      <td>0.0</td>\n",
       "    </tr>\n",
       "    <tr>\n",
       "      <th>1</th>\n",
       "      <td>0.0</td>\n",
       "      <td>1.0</td>\n",
       "      <td>0.0</td>\n",
       "      <td>0.0</td>\n",
       "      <td>0.0</td>\n",
       "    </tr>\n",
       "    <tr>\n",
       "      <th>2</th>\n",
       "      <td>0.0</td>\n",
       "      <td>0.0</td>\n",
       "      <td>1.0</td>\n",
       "      <td>0.0</td>\n",
       "      <td>0.0</td>\n",
       "    </tr>\n",
       "    <tr>\n",
       "      <th>3</th>\n",
       "      <td>0.0</td>\n",
       "      <td>0.0</td>\n",
       "      <td>0.0</td>\n",
       "      <td>1.0</td>\n",
       "      <td>0.0</td>\n",
       "    </tr>\n",
       "    <tr>\n",
       "      <th>4</th>\n",
       "      <td>0.0</td>\n",
       "      <td>0.0</td>\n",
       "      <td>0.0</td>\n",
       "      <td>0.0</td>\n",
       "      <td>1.0</td>\n",
       "    </tr>\n",
       "  </tbody>\n",
       "</table>\n",
       "</div>"
      ],
      "text/plain": [
       "     0    1    2    3    4\n",
       "0  1.0  0.0  0.0  0.0  0.0\n",
       "1  0.0  1.0  0.0  0.0  0.0\n",
       "2  0.0  0.0  1.0  0.0  0.0\n",
       "3  0.0  0.0  0.0  1.0  0.0\n",
       "4  0.0  0.0  0.0  0.0  1.0"
      ]
     },
     "execution_count": 179,
     "metadata": {},
     "output_type": "execute_result"
    }
   ],
   "source": [
    "pd.DataFrame(sp.identity(5))"
   ]
  },
  {
   "cell_type": "markdown",
   "metadata": {},
   "source": [
    "*Обратная матрица*"
   ]
  },
  {
   "cell_type": "code",
   "execution_count": 180,
   "metadata": {
    "collapsed": false
   },
   "outputs": [
    {
     "name": "stdout",
     "output_type": "stream",
     "text": [
      "          x         y         z\n",
      "a  0.746842  0.949095  0.382008\n",
      "b  0.194682  0.384491  0.392173\n",
      "c  0.602660  0.790661  0.634435\n"
     ]
    },
    {
     "data": {
      "text/html": [
       "<div>\n",
       "<table border=\"1\" class=\"dataframe\">\n",
       "  <thead>\n",
       "    <tr style=\"text-align: right;\">\n",
       "      <th></th>\n",
       "      <th>a</th>\n",
       "      <th>b</th>\n",
       "      <th>c</th>\n",
       "    </tr>\n",
       "  </thead>\n",
       "  <tbody>\n",
       "    <tr>\n",
       "      <th>x</th>\n",
       "      <td>-2.364209</td>\n",
       "      <td>-10.726916</td>\n",
       "      <td>8.054345</td>\n",
       "    </tr>\n",
       "    <tr>\n",
       "      <th>y</th>\n",
       "      <td>4.033196</td>\n",
       "      <td>8.707432</td>\n",
       "      <td>-7.810945</td>\n",
       "    </tr>\n",
       "    <tr>\n",
       "      <th>z</th>\n",
       "      <td>-2.780548</td>\n",
       "      <td>-0.661922</td>\n",
       "      <td>3.659604</td>\n",
       "    </tr>\n",
       "  </tbody>\n",
       "</table>\n",
       "</div>"
      ],
      "text/plain": [
       "          a          b         c\n",
       "x -2.364209 -10.726916  8.054345\n",
       "y  4.033196   8.707432 -7.810945\n",
       "z -2.780548  -0.661922  3.659604"
      ]
     },
     "execution_count": 180,
     "metadata": {},
     "output_type": "execute_result"
    }
   ],
   "source": [
    "# sp.random.seed([3,1415])\n",
    "df5 = pd.DataFrame(sp.random.rand(3, 3), list('abc'), list('xyz'))\n",
    "print(df5)\n",
    "df_inv = pd.DataFrame(sp.linalg.pinv(df5.values), df5.columns, df5.index)\n",
    "df_inv"
   ]
  },
  {
   "cell_type": "code",
   "execution_count": 181,
   "metadata": {
    "collapsed": false
   },
   "outputs": [
    {
     "data": {
      "text/html": [
       "<div>\n",
       "<table border=\"1\" class=\"dataframe\">\n",
       "  <thead>\n",
       "    <tr style=\"text-align: right;\">\n",
       "      <th></th>\n",
       "      <th>x</th>\n",
       "      <th>y</th>\n",
       "      <th>z</th>\n",
       "    </tr>\n",
       "  </thead>\n",
       "  <tbody>\n",
       "    <tr>\n",
       "      <th>x</th>\n",
       "      <td>1.000000e+00</td>\n",
       "      <td>8.881784e-16</td>\n",
       "      <td>0.0</td>\n",
       "    </tr>\n",
       "    <tr>\n",
       "      <th>y</th>\n",
       "      <td>-8.881784e-16</td>\n",
       "      <td>1.000000e+00</td>\n",
       "      <td>0.0</td>\n",
       "    </tr>\n",
       "    <tr>\n",
       "      <th>z</th>\n",
       "      <td>1.332268e-15</td>\n",
       "      <td>8.881784e-16</td>\n",
       "      <td>1.0</td>\n",
       "    </tr>\n",
       "  </tbody>\n",
       "</table>\n",
       "</div>"
      ],
      "text/plain": [
       "              x             y    z\n",
       "x  1.000000e+00  8.881784e-16  0.0\n",
       "y -8.881784e-16  1.000000e+00  0.0\n",
       "z  1.332268e-15  8.881784e-16  1.0"
      ]
     },
     "execution_count": 181,
     "metadata": {},
     "output_type": "execute_result"
    }
   ],
   "source": [
    "# проверяем\n",
    "df_inv.dot(df5)"
   ]
  },
  {
   "cell_type": "markdown",
   "metadata": {},
   "source": [
    "### Нормальное уравнение"
   ]
  },
  {
   "cell_type": "code",
   "execution_count": 259,
   "metadata": {
    "collapsed": false
   },
   "outputs": [],
   "source": [
    "# Реализация нормального уравнения\n",
    "\n",
    "# numpy.linalg.inv(A) фактически вызывает numpy.linalg.solve(A,I), \n",
    "# где I - это нейтральная матрица, и находит решение разложением \n",
    "# LU матрицы средствами динамической библиотеки lapack\n",
    "# как вариант:\n",
    "# numpy.linalg.pinv - вычисляет псевдообратную матрицу (А+) по методу \n",
    "# Мура-Пенроуза с использованием сингулярного разложения (SVD)\n",
    "# sp.linalg.pinv(x.values), x.columns, x.index \n",
    "\n",
    "def normal_equation(x, y):\n",
    "    '''Реализация нормального уравнения'''\n",
    "    xtx  = sp.matmul(x.T.values, x.values) \n",
    "    xtxi = sp.matmul(sp.linalg.inv(sp.matmul(xtx.T,xtx)),xtx.T)  # вычислить мультипликативную инверсию матрицы\n",
    "    xty  = sp.matmul(x.T.values, y.values) \n",
    "    return sp.matmul(xtxi, xty)  "
   ]
  },
  {
   "cell_type": "code",
   "execution_count": 183,
   "metadata": {
    "collapsed": false
   },
   "outputs": [
    {
     "data": {
      "text/plain": [
       "array([ 1.6910337 ,  0.01429648])"
      ]
     },
     "execution_count": 183,
     "metadata": {},
     "output_type": "execute_result"
    }
   ],
   "source": [
    "def ex_3_18():\n",
    "    '''Решение нормального уравнения \n",
    "       на примере данных роста и веса'''\n",
    "    df = swimmer_data()\n",
    "    X = df[['Рост, см']] \n",
    "    X.insert(0, 'константа', 1)\n",
    "    y = df['Вес'].apply( sp.log )\n",
    "    return normal_equation(X, y)\n",
    "\n",
    "ex_3_18()"
   ]
  },
  {
   "cell_type": "markdown",
   "metadata": {},
   "source": [
    "*Дополнительные признаки*"
   ]
  },
  {
   "cell_type": "code",
   "execution_count": 184,
   "metadata": {
    "collapsed": false
   },
   "outputs": [
    {
     "data": {
      "text/plain": [
       "array([[   1.,  166.,   23.],\n",
       "       [   1.,  192.,   22.],\n",
       "       [   1.,  173.,   20.],\n",
       "       ..., \n",
       "       [   1.,  188.,   24.],\n",
       "       [   1.,  187.,   19.],\n",
       "       [   1.,  183.,   22.]])"
      ]
     },
     "execution_count": 184,
     "metadata": {},
     "output_type": "execute_result"
    }
   ],
   "source": [
    "def ex_3_19():\n",
    "    '''Пример создания матрицы признаков NumPy\n",
    "       на примере данных роста и возраста'''\n",
    "    X = swimmer_data()[['Рост, см', 'Возраст']]\n",
    "    X.insert(0, 'константа', 1)\n",
    "    return X.values\n",
    "\n",
    "ex_3_19()"
   ]
  },
  {
   "cell_type": "code",
   "execution_count": 185,
   "metadata": {
    "collapsed": false
   },
   "outputs": [
    {
     "data": {
      "text/plain": [
       "array([ 1.69002288,  0.01395437,  0.00279859])"
      ]
     },
     "execution_count": 185,
     "metadata": {},
     "output_type": "execute_result"
    }
   ],
   "source": [
    "def ex_3_20():\n",
    "    '''Решение нормального уравнения \n",
    "       для данных роста и возраста в качестве независимых и \n",
    "       веса в качестве зависимой переменной'''\n",
    "    df = swimmer_data()\n",
    "    X = df[['Рост, см', 'Возраст']] \n",
    "    X.insert(0, 'константа', 1)\n",
    "    y = df['Вес'].apply(sp.log)\n",
    "    return normal_equation(X, y)\n",
    "\n",
    "ex_3_20()"
   ]
  },
  {
   "cell_type": "markdown",
   "metadata": {},
   "source": [
    "### Множественный R-квадрат"
   ]
  },
  {
   "cell_type": "code",
   "execution_count": 260,
   "metadata": {
    "collapsed": true
   },
   "outputs": [],
   "source": [
    "def matrix_r_squared(coefs, x, y):\n",
    "    '''Вычислить матричный R-квадрат'''\n",
    "    fitted      = x.dot(coefs) \n",
    "    residuals   = y - fitted \n",
    "    difference  = y - y.mean()  \n",
    "    rss         = residuals.dot(residuals)  # сумма квадратов\n",
    "    ess         = difference.dot(difference)\n",
    "    return 1 - (rss / ess)"
   ]
  },
  {
   "cell_type": "code",
   "execution_count": 187,
   "metadata": {
    "collapsed": false
   },
   "outputs": [
    {
     "data": {
      "text/plain": [
       "0.75684665474591584"
      ]
     },
     "execution_count": 187,
     "metadata": {},
     "output_type": "execute_result"
    }
   ],
   "source": [
    "def ex_3_21():\n",
    "    '''Вычислить матричный R-квадрат \n",
    "       на данных роста и возраста в качестве независимых и \n",
    "       веса в качестве зависимой переменной'''\n",
    "    df = swimmer_data()\n",
    "    X = df[['Рост, см', 'Возраст']] \n",
    "    X.insert(0, 'константа', 1)\n",
    "    y = df['Вес'].apply(sp.log)\n",
    "    beta = normal_equation(X, y) \n",
    "    return matrix_r_squared(beta, X, y)\n",
    "\n",
    "ex_3_21()"
   ]
  },
  {
   "cell_type": "markdown",
   "metadata": {},
   "source": [
    "### Скорректированный матричный R-квадрат"
   ]
  },
  {
   "cell_type": "code",
   "execution_count": 261,
   "metadata": {
    "collapsed": false
   },
   "outputs": [],
   "source": [
    "def matrix_adj_r_squared(coefs, x, y):\n",
    "    '''Вычислить скорректированный матричный R-квадрат'''\n",
    "    r_squared = matrix_r_squared(coefs, x, y) \n",
    "    n = y.shape[0]  # строки\n",
    "    p = coefs.shape[0]\n",
    "    dec = lambda x: x-1\n",
    "    return 1 - (1 - r_squared) * (dec(n) / dec(n-p))"
   ]
  },
  {
   "cell_type": "code",
   "execution_count": 189,
   "metadata": {
    "collapsed": false
   },
   "outputs": [
    {
     "data": {
      "text/plain": [
       "0.75599348511344533"
      ]
     },
     "execution_count": 189,
     "metadata": {},
     "output_type": "execute_result"
    }
   ],
   "source": [
    "def ex_3_22():\n",
    "    '''Вычислить скорректированный матричный R-квадрат \n",
    "       на данных роста и возраста в качестве независимых и \n",
    "       веса в качестве зависимой переменной'''\n",
    "    df = swimmer_data()\n",
    "    X = df[['Рост, см', 'Возраст']] \n",
    "    X.insert(0, 'константа', 1)\n",
    "    y = df['Вес'].apply(sp.log)\n",
    "    beta = normal_equation(X, y) \n",
    "    return matrix_adj_r_squared(beta, X, y)\n",
    "\n",
    "ex_3_22()"
   ]
  },
  {
   "cell_type": "markdown",
   "metadata": {},
   "source": [
    "*Линейная модель в NumPy и SciPy*"
   ]
  },
  {
   "cell_type": "code",
   "execution_count": 227,
   "metadata": {
    "collapsed": false
   },
   "outputs": [
    {
     "data": {
      "image/png": "[encoded data removed]",
      "text/plain": [
       "<matplotlib.figure.Figure at 0x213aa948940>"
      ]
     },
     "metadata": {},
     "output_type": "display_data"
    }
   ],
   "source": [
    "'''\n",
    "функция numpy.linalg.pinv аппроксимирует псевдоинверсию Мура-Пенроуза \n",
    "с использованием SVD (точнее, метод dgesdd динамической библиотеки lapack), \n",
    "тогда как scipy.linalg.pinv находит решение линейной системы с точки \n",
    "зрения наименьших квадратов, чтобы аппроксимировать псевдоинверсию \n",
    "(пользуясь dgelss). Отсюда и разница и в производительности.\n",
    "\n",
    "Производительность функции scipy.linalg.pinv2 сравнима с   \n",
    "numpy.linalg.pinv, т.к. в ней используется метод SVD, вместо \n",
    "аппроксимации по методу МНК'''\n",
    "\n",
    "def numpy_scipy():\n",
    "    '''Линейная регрессия в NumPy и SciPy'''\n",
    "    _, ax = plt.subplots(nrows=1, ncols=2, figsize=(8,3))\n",
    "    xi = sp.arange(0,9)\n",
    "    A  = sp.array([xi, sp.ones(9)])\n",
    "    y  = [19, 20, 20.5, 21.5, 22, 23, 23, 25.5, 24] # линейная последовательность\n",
    "\n",
    "    # реализация в numpy\n",
    "    (a, b) = sp.linalg.lstsq(A.T, y)[0] # получение параметров\n",
    "    line = a * xi + b                   # линия регрессии \n",
    "    ax[0].plot(xi, line, 'r-', xi, y, 'o')\n",
    "    ax[0].grid(True)\n",
    "\n",
    "    # реализация в scipy\n",
    "    slope, intercept, r_value, p_value, std_err = stats.linregress(xi, y)\n",
    "    line = slope * xi + intercept\n",
    "    #print('r-значение', r_value, 'p-значение', p_value, 'СТО', std_err)\n",
    "    ax[1].plot(xi, line, 'r-', xi, y, 'o')\n",
    "    ax[1].grid(True)\n",
    "    plt.show()\n",
    "    \n",
    "numpy_scipy()"
   ]
  },
  {
   "cell_type": "code",
   "execution_count": 262,
   "metadata": {
    "collapsed": true
   },
   "outputs": [],
   "source": [
    "def linear_model(x, y):\n",
    "    '''Обертка вокруг библиотечной функции \n",
    "       линейной регресси по МНК, \n",
    "       вместо собственной реализации нормального уравнения normal_equation'''\n",
    "    return sp.linalg.lstsq(x,y)[0]\n",
    "    #return stats.linregress(xi, y)  # наклон, пересечение, r-значение, p-значение, сош "
   ]
  },
  {
   "cell_type": "code",
   "execution_count": 192,
   "metadata": {
    "collapsed": false
   },
   "outputs": [
    {
     "data": {
      "text/plain": [
       "array([ 1.69002404,  0.01395436,  0.00279859])"
      ]
     },
     "execution_count": 192,
     "metadata": {},
     "output_type": "execute_result"
    }
   ],
   "source": [
    "def ex_3_linear_model():\n",
    "    '''Проверка функции linear_model'''\n",
    "    df = swimmer_data()\n",
    "    X = df[['Рост, см', 'Возраст']]\n",
    "    X.insert(0, 'константа', 1.0)\n",
    "    y = df['Вес'].apply(sp.log)\n",
    "\n",
    "    beta = linear_model(X,y)\n",
    "    return beta   # проверка модели sp.dot(Xi,beta_hat)\n",
    "\n",
    "ex_3_linear_model()"
   ]
  },
  {
   "cell_type": "code",
   "execution_count": 193,
   "metadata": {
    "collapsed": true
   },
   "outputs": [],
   "source": [
    "def f_test(fitted, x, y):\n",
    "    '''F-тест коэффициентов регрессии'''\n",
    "    difference = fitted - y.mean() \n",
    "    residuals  = y - fitted\n",
    "    ess        = difference.dot(difference) # сумма квадратов\n",
    "    rss        = residuals.dot(residuals)\n",
    "    p          = x.shape[1]    # столбцы\n",
    "    n          = y.shape[0]    # строки\n",
    "    df1        = p - 1\n",
    "    df2        = n - p\n",
    "    msm        = ess / df1\n",
    "    mse        = rss / df2\n",
    "    f_stat     = msm / mse     # mse модели / mse остатков\n",
    "    f_test     = 1-stats.f.cdf(f_stat, df1, df2) \n",
    "    return f_test"
   ]
  },
  {
   "cell_type": "code",
   "execution_count": 194,
   "metadata": {
    "collapsed": false
   },
   "outputs": [
    {
     "data": {
      "text/plain": [
       "('F-тест', 1.1102230246251565e-16)"
      ]
     },
     "execution_count": 194,
     "metadata": {},
     "output_type": "execute_result"
    }
   ],
   "source": [
    "def ex_3_23():\n",
    "    '''Проверка значимости модели на основе F-теста\n",
    "       на примере данных роста, возраста и веса'''\n",
    "    df = swimmer_data()\n",
    "    X = df[['Рост, см', 'Возраст']]\n",
    "    X.insert(0, 'константа', 1.0)\n",
    "    y = df['Вес'].apply(sp.log)\n",
    "    beta = linear_model(X, y)    \n",
    "    fittedvalues = sp.dot(X,beta) \n",
    "\n",
    "    #model = sm.OLS(y, X)\n",
    "    #results = model.fit()\n",
    "    #print(results.summary())\n",
    "    #print(1-stats.f.cdf(results.fvalue, results.df_model, results.df_resid))\n",
    "    \n",
    "    # проверка коэффициентов модели\n",
    "    return ('F-тест', f_test(fittedvalues, X, y))\n",
    "\n",
    "ex_3_23()"
   ]
  },
  {
   "cell_type": "code",
   "execution_count": 195,
   "metadata": {
    "collapsed": false
   },
   "outputs": [
    {
     "data": {
      "text/plain": [
       "('F-тест', 0.21803901865867825)"
      ]
     },
     "execution_count": 195,
     "metadata": {},
     "output_type": "execute_result"
    }
   ],
   "source": [
    "def ex_3_24():\n",
    "    '''Проверка значимости модели на основе F-теста\n",
    "       на произвольной выборке из данных роста, возраста и веса'''\n",
    "    df = swimmer_data().sample(5)  # произвольная выборка\n",
    "    df.index = range(len(df))      # задать новый индекс\n",
    "    X = df[['Рост, см', 'Возраст']]\n",
    "    X.insert(0, 'константа', 1.0)\n",
    "    y = df['Вес'].apply(sp.log) \n",
    "    beta = linear_model(X, y)    \n",
    "    fittedvalues = sp.dot(X,beta) \n",
    "\n",
    "    #model = sm.OLS(y, X)\n",
    "    #results = model.fit()\n",
    "    #print(results.summary())\n",
    "    \n",
    "    return ('F-тест', f_test(fittedvalues, X, y))\n",
    "\n",
    "ex_3_24()"
   ]
  },
  {
   "cell_type": "markdown",
   "metadata": {},
   "source": [
    "*Категориальные и фиктивные переменные*"
   ]
  },
  {
   "cell_type": "code",
   "execution_count": 196,
   "metadata": {
    "collapsed": true
   },
   "outputs": [],
   "source": [
    "'''Перекодировать строковое в числовое представление'''\n",
    "dummy_labels = lambda x: 1.0 if x == 'М' else 0.0  "
   ]
  },
  {
   "cell_type": "code",
   "execution_count": 197,
   "metadata": {
    "collapsed": false
   },
   "outputs": [
    {
     "data": {
      "text/plain": [
       "0.8082954905432822"
      ]
     },
     "execution_count": 197,
     "metadata": {},
     "output_type": "execute_result"
    }
   ],
   "source": [
    "def ex_3_25():\n",
    "    '''Обработка категориальных признаков \n",
    "       (создание бинарной переменной)'''\n",
    "    df = swimmer_data()\n",
    "    # как вариант, получить из категориального поля несколько \n",
    "    # прямокодированных бинарных полей\n",
    "    # dummies = pd.get_dummies(df['Пол'], prefix='бин_')  \n",
    "    # X = df[['Рост, см', 'Возраст']].join(dummies)\n",
    "    df['бин_Пол'] = df['Пол'].map(dummy_labels) \n",
    "\n",
    "    X = df[['Рост, см', 'Возраст', 'бин_Пол']] \n",
    "    X.insert(0, 'константа', 1)\n",
    "    y = df['Вес'].apply(sp.log)  \n",
    "    \n",
    "    beta = linear_model(X, y) \n",
    "    return matrix_adj_r_squared(beta, X, y)\n",
    "\n",
    "ex_3_25()"
   ]
  },
  {
   "cell_type": "markdown",
   "metadata": {},
   "source": [
    "*Относительная мощность*"
   ]
  },
  {
   "cell_type": "code",
   "execution_count": 198,
   "metadata": {
    "collapsed": true
   },
   "outputs": [],
   "source": [
    "def beta_weight(coefs, x, y):\n",
    "    '''Вычисление относительного вклада каждого признака'''\n",
    "    sdx = x.std()\n",
    "    sdy = y.std()\n",
    "    return [x / sdy * c for x,c in zip(sdx,coefs)] "
   ]
  },
  {
   "cell_type": "code",
   "execution_count": 199,
   "metadata": {
    "collapsed": false
   },
   "outputs": [
    {
     "data": {
      "text/plain": [
       "[0.0, 0.65014691350333609, 0.058429981575126667, 0.30387262631851564]"
      ]
     },
     "execution_count": 199,
     "metadata": {},
     "output_type": "execute_result"
    }
   ],
   "source": [
    "def ex_3_26():\n",
    "    '''Относительный вклад каждого признака в предсказании веса\n",
    "       на примере данных роста, возраста и пола'''\n",
    "    df = swimmer_data()\n",
    "    # получить единое бинарное поле\n",
    "    df['бин_Пол'] = df['Пол'].map(dummy_labels) \n",
    "    X = df[['Рост, см', 'Возраст', 'бин_Пол']] \n",
    "    X.insert(0, 'константа', 1)\n",
    "    y = df['Вес'].apply(sp.log) \n",
    "    beta = linear_model(X, y) \n",
    "    res = beta_weight(beta, X, y)\n",
    "    #result = sm.OLS(y, X).fit()\n",
    "    #print(result.summary())    \n",
    "    return res\n",
    "\n",
    "ex_3_26()"
   ]
  },
  {
   "cell_type": "markdown",
   "metadata": {},
   "source": [
    "### Коллинеарность"
   ]
  },
  {
   "cell_type": "code",
   "execution_count": 200,
   "metadata": {
    "collapsed": true
   },
   "outputs": [],
   "source": [
    "'''Служебная функция приведения строкового \n",
    "   представления даты к типу DateTime и извлечение года'''\n",
    "str_to_year = lambda x: pd.to_datetime(x).year"
   ]
  },
  {
   "cell_type": "code",
   "execution_count": 201,
   "metadata": {
    "collapsed": false
   },
   "outputs": [
    {
     "data": {
      "text/plain": [
       "[-0.0,\n",
       " 0.65007047519616024,\n",
       " 0.095802827234225535,\n",
       " 0.30414311150299445,\n",
       " 0.03769748899241715]"
      ]
     },
     "execution_count": 201,
     "metadata": {},
     "output_type": "execute_result"
    }
   ],
   "source": [
    "def ex_3_27():\n",
    "    '''Относительный вклад признаков в предсказании веса\n",
    "       с участием признака с датой (год)'''\n",
    "    df = swimmer_data()\n",
    "    df['бин_Пол'] = df['Пол'].map(dummy_labels) \n",
    "    df['Год рождения'] = df['Дата рождения'].map(str_to_year)\n",
    "    X = df[['Рост, см', 'Возраст', 'бин_Пол', 'Год рождения']] \n",
    "    X.insert(0, 'константа', 1.0)\n",
    "    y = df['Вес'].apply(sp.log) \n",
    "    \n",
    "    beta = linear_model(X, y) \n",
    "    #result = sm.OLS(y, X).fit()\n",
    "    #print(result.summary())    \n",
    "    return beta_weight(beta, X, y)\n",
    "\n",
    "ex_3_27()  "
   ]
  },
  {
   "cell_type": "code",
   "execution_count": 229,
   "metadata": {
    "collapsed": false
   },
   "outputs": [
    {
     "data": {
      "image/png": "[encoded data removed]",
      "text/plain": [
       "<matplotlib.figure.Figure at 0x213aa7f6358>"
      ]
     },
     "metadata": {},
     "output_type": "display_data"
    }
   ],
   "source": [
    "def ex_3_28():\n",
    "    '''График коллинеарности возраста спортсменов и даты их рождения'''\n",
    "    df = swimmer_data()\n",
    "    df['Год рождения'] = df['Дата рождения'].map(str_to_year)\n",
    "    xs = df['Возраст'].apply(jitter(0.5))\n",
    "    ys = df['Год рождения']\n",
    "    pd.DataFrame(sp.array([xs,ys]).T).plot.scatter(0, 1, s=10, grid=True)\n",
    "    plt.xlabel('Возраст')\n",
    "    plt.ylabel('Год рождения')\n",
    "    #saveplot('ex_3_28.png')\n",
    "    plt.show()\n",
    "    \n",
    "ex_3_28()"
   ]
  },
  {
   "cell_type": "markdown",
   "metadata": {},
   "source": [
    "### Предсказание"
   ]
  },
  {
   "cell_type": "code",
   "execution_count": 203,
   "metadata": {
    "collapsed": true
   },
   "outputs": [],
   "source": [
    "def predict(coefs, x): \n",
    "    '''функция предсказания'''\n",
    "    return sp.matmul(coefs, x.values) "
   ]
  },
  {
   "cell_type": "code",
   "execution_count": 204,
   "metadata": {
    "collapsed": false
   },
   "outputs": [
    {
     "data": {
      "text/plain": [
       "84.20713139038179"
      ]
     },
     "execution_count": 204,
     "metadata": {},
     "output_type": "execute_result"
    }
   ],
   "source": [
    "def ex_3_29():\n",
    "    '''Вычисление ожидаемого веса спортсмена'''\n",
    "    df = swimmer_data()\n",
    "    df['бин_Пол'] = df['Пол'].map(dummy_labels) \n",
    "    df['Год рождения'] = df['Дата рождения'].map(str_to_year)\n",
    "    X = df[['Рост, см', 'бин_Пол', 'Год рождения']] \n",
    "    X.insert(0, 'константа', 1.0)\n",
    "    y = df['Вес'].apply(sp.log) \n",
    "    beta = linear_model(X, y)\n",
    "    xspitz = pd.Series([1.0, 183, 1, 1950]) # параметры Марка Шпитца\n",
    "    return sp.exp( predict(beta, xspitz) )  \n",
    "\n",
    "ex_3_29()   "
   ]
  },
  {
   "cell_type": "markdown",
   "metadata": {},
   "source": [
    "*Доверительный интервал предсказания*"
   ]
  },
  {
   "cell_type": "code",
   "execution_count": 243,
   "metadata": {
    "collapsed": false
   },
   "outputs": [],
   "source": [
    "def prediction_interval(x, y, xp):\n",
    "    '''Вычисление предсказательного интервала'''\n",
    "    xtx    = sp.matmul(x.T, x)\n",
    "    xtxi   = sp.linalg.inv(xtx)  \n",
    "    xty    = sp.matmul(x.T, y) \n",
    "    coefs  = linear_model(x, y) \n",
    "    fitted = sp.matmul(x, coefs)\n",
    "    resid  = y - fitted\n",
    "    rss    = resid.dot(resid)  \n",
    "    n      = y.shape[0]  # строки\n",
    "    p      = x.shape[1]  # столбцы\n",
    "    dfe    = n - p \n",
    "    mse    = rss / dfe\n",
    "    se_y   = sp.matmul(sp.matmul(xp.T, xtxi), xp)\n",
    "    t_stat = sp.sqrt(mse * (1 + se_y))         # t-статистика\n",
    "    intl   = stats.t.ppf(0.975, dfe) * t_stat   \n",
    "    yp     = sp.matmul(coefs.T, xp)\n",
    "    return sp.array([yp - intl, yp + intl])"
   ]
  },
  {
   "cell_type": "code",
   "execution_count": 206,
   "metadata": {
    "collapsed": false
   },
   "outputs": [
    {
     "data": {
      "text/plain": [
       "array([ 72.74964444,  97.46908087])"
      ]
     },
     "execution_count": 206,
     "metadata": {},
     "output_type": "execute_result"
    }
   ],
   "source": [
    "def ex_3_30():\n",
    "    '''Предсказательный интервал \n",
    "       применительно к данным о Марке Шпитце'''\n",
    "    df = swimmer_data()\n",
    "    df['бин_Пол'] = df['Пол'].map(dummy_labels) \n",
    "    df['Год рождения'] = df['Дата рождения'].map(str_to_year)\n",
    "    X = df[['Рост, см', 'бин_Пол', 'Год рождения']] \n",
    "    X.insert(0, 'константа', 1.0)\n",
    "    y = df['Вес'].apply(sp.log) \n",
    "    xspitz = pd.Series([1.0, 183, 1, 1950])  # данные М.Шпитца\n",
    "    return sp.exp( prediction_interval(X, y, xspitz) )\n",
    "\n",
    "ex_3_30()  "
   ]
  },
  {
   "cell_type": "code",
   "execution_count": 263,
   "metadata": {
    "collapsed": false
   },
   "outputs": [
    {
     "data": {
      "image/png": "[encoded data removed]",
      "text/plain": [
       "<matplotlib.figure.Figure at 0x213a91a29b0>"
      ]
     },
     "metadata": {},
     "output_type": "display_data"
    }
   ],
   "source": [
    "def ex_3_CIPI():\n",
    "    '''Сравнение доверительного и предсказательного интервалов\n",
    "       относительно значений независимой переменной \n",
    "       в заданном диапазоне'''\n",
    "    df = swimmer_data()[['Рост, см', 'Вес']].sample(80) \n",
    "    X  = df[['Рост, см']].apply(jitter(0.5))\n",
    "    X.insert(0, 'константа', 1.0)\n",
    "    y  = df['Вес'].apply(jitter(0.5)).apply(sp.log) \n",
    "\n",
    "    # вывести точки данных\n",
    "    ax = pd.DataFrame(sp.array([X['Рост, см'],y]).T).plot.scatter(0, 1, s=10, grid=True)  \n",
    "\n",
    "    # линия регрессии\n",
    "    a  = intercept(X['Рост, см'], y)\n",
    "    b  = slope(X['Рост, см'], y) \n",
    "    s  = pd.Series(range(150 ,210))\n",
    "    df = pd.DataFrame( {0:s, 1:s.map(regression_line(a, b))} )  \n",
    "    ax = df.plot(0, 1, color='r', legend=False, ax=ax)\n",
    "\n",
    "    # предсказательный интервал (нижняя и верхняя границы)\n",
    "    bound = lambda i: lambda x: prediction_interval(X, y, pd.Series([1.0, x]))[i]\n",
    "    defbound = lambda b: pd.DataFrame( {0:s, 1:s.map(bound(b))} )\n",
    "    lo, hi = defbound(0), defbound(1)\n",
    "    ax = lo.plot(0, 1, color='b', legend=False, ax=ax)\n",
    "    ax = hi.plot(0, 1, color='b', legend=False, ax=ax)\n",
    "    ax.fill_between(lo[0], lo[1], hi[1], alpha=0.2, facecolor='lightblue', interpolate=True) \n",
    "    \n",
    "    # доверительный интервал\n",
    "    n      = X.shape[0]\n",
    "    alpha  = 0.05\n",
    "    fit    = lambda xx: a + b*xx  \n",
    "    dfr    = n-2\n",
    "    tval   = stats.t.isf(alpha/2., dfr) # соответствующее t-значение\n",
    "    se_fit = lambda x: sp.sqrt(sp.sum((y - fit(x))**2)/(n-2)) * \\\n",
    "                       sp.sqrt(1./n + (x-sp.mean(x))**2/(sp.sum(x**2) - sp.sum(x)**2/n))\n",
    "\n",
    "    X = X['Рост, см'].sort_values()\n",
    "    ax.plot(X, fit(X)-tval*se_fit(X), 'g')\n",
    "    ax.plot(X, fit(X)+tval*se_fit(X), 'g')\n",
    "    \n",
    "    # настройка графика \n",
    "    ax.spines['right'].set_visible(False)\n",
    "    ax.spines['top'].set_visible(False)\n",
    "    ax.yaxis.set_ticks_position('left')\n",
    "    ax.xaxis.set_ticks_position('bottom')\n",
    "    ax.set_xlim(min(X), max(X))\n",
    "    ax.set_ylim(min(y)-0.2, max(y)+0.2)\n",
    "    ax.tick_params(labelbottom='off')\n",
    "    ax.tick_params(labelleft='off')\n",
    "    ax.set_xlabel('')\n",
    "    ax.set_ylabel('')\n",
    "    #saveplot('ex_3_CIPI.png')\n",
    "    plt.show()\n",
    "\n",
    "ex_3_CIPI()"
   ]
  },
  {
   "cell_type": "code",
   "execution_count": 249,
   "metadata": {
    "collapsed": false
   },
   "outputs": [
    {
     "data": {
      "image/png": "[encoded data removed]",
      "text/plain": [
       "<matplotlib.figure.Figure at 0x213aa58c080>"
      ]
     },
     "metadata": {},
     "output_type": "display_data"
    }
   ],
   "source": [
    "def ex_3_31():\n",
    "    '''График изменения предсказательного интервала\n",
    "       относительно значений независимой переменной \n",
    "       в заданном диапазоне '''\n",
    "    df = swimmer_data().sample(5)  # произвольная выборка\n",
    "    X = df[['Рост, см']]\n",
    "    X.insert(0, 'константа', 1.0)\n",
    "    y = df['Вес'].apply(sp.log) \n",
    "\n",
    "    bound = lambda i: lambda x: prediction_interval(X, y, pd.Series([1.0, x]))[i]\n",
    "    s = pd.Series(range(150 ,210))\n",
    "    defbound = lambda b: pd.DataFrame( {0:s, 1:s.map(bound(b))} )\n",
    "\n",
    "    df = pd.DataFrame(sp.array([X['Рост, см'],y]).T)\n",
    "    ax = df.plot.scatter(0, 1, s=10, grid=True)  \n",
    "    ax = defbound(0).plot(0, 1, legend=False, color='g', ax=ax)\n",
    "    defbound(1).plot(0, 1, legend=False, grid=True, color='g', ax=ax)\n",
    "    \n",
    "    plt.xlabel('Рост, см')\n",
    "    plt.ylabel('Логарифмический вес')\n",
    "    #saveplot('ex_3_31.png')\n",
    "    plt.show()\n",
    "\n",
    "ex_3_31()"
   ]
  },
  {
   "cell_type": "markdown",
   "metadata": {},
   "source": [
    "*Окончательная модель*"
   ]
  },
  {
   "cell_type": "code",
   "execution_count": 250,
   "metadata": {
    "collapsed": false
   },
   "outputs": [
    {
     "data": {
      "text/plain": [
       "78.468827726302962"
      ]
     },
     "execution_count": 250,
     "metadata": {},
     "output_type": "execute_result"
    }
   ],
   "source": [
    "def ex_3_32():\n",
    "    '''Окончательная модель для предсказания \n",
    "       соревновательного веса'''\n",
    "    df = swimmer_data()\n",
    "    df['бин_Пол'] = df['Пол'].map(dummy_labels) \n",
    "    X = df[['Рост, см', 'бин_Пол', 'Возраст']] \n",
    "    X.insert(0, 'константа', 1.0)\n",
    "    y = df['Вес'].apply(sp.log) \n",
    "\n",
    "    beta = linear_model(X, y)\n",
    "    # предсказать вес для М.Шпитца\n",
    "    xspitz = pd.Series([1.0, 185, 1, 22]) \n",
    "    return sp.exp( predict(beta, xspitz) )\n",
    "\n",
    "ex_3_32()   "
   ]
  },
  {
   "cell_type": "markdown",
   "metadata": {},
   "source": [
    "<a href=\"#home\"><i class=\"fa fa-home fa-fw\"></i></a><br><br>"
   ]
  }
 ],
 "metadata": {
  "kernelspec": {
   "display_name": "Python 3",
   "language": "python",
   "name": "python3"
  },
  "language_info": {
   "codemirror_mode": {
    "name": "ipython",
    "version": 3
   },
   "file_extension": ".py",
   "mimetype": "text/x-python",
   "name": "python",
   "nbconvert_exporter": "python",
   "pygments_lexer": "ipython3",
   "version": "3.5.2"
  }
 },
 "nbformat": 4,
 "nbformat_minor": 2
}
