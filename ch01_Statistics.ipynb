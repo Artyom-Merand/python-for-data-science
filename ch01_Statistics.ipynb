{
 "cells": [
  {
   "cell_type": "markdown",
   "metadata": {},
   "source": [
    "<link rel=\"stylesheet\" href=\"fonts/css/font-awesome.min.css\">\n",
    "[А. Л.](https://capissimo.github.io/pythonfordatascience), 2021\n",
    "\n",
    "https://capissimo.github.io/pythonfordatascience"
   ]
  },
  {
   "cell_type": "markdown",
   "metadata": {
    "collapsed": true
   },
   "source": [
    "## Глава 1. Статистика"
   ]
  },
  {
   "cell_type": "markdown",
   "metadata": {},
   "source": [
    "### Содержание"
   ]
  },
  {
   "cell_type": "markdown",
   "metadata": {},
   "source": [
    "- [Обследование данных](#Обследование-данных)\n",
    "- [Исправление данных](#Исправление-данных)\n",
    "- [Описательные статистики](#Описательные-статистики)\n",
    "- [Группирование данных](#Группирование-данных)\n",
    "- [Гистограммы](#Гистограммы)\n",
    "- [Нормальное распределение](#Нормальное-распределение)\n",
    "- [Булочник господина Пуанкаре](#Булочник-господина-Пуанкаре)\n",
    "- [Асимметрия](#Асимметрия)\n",
    "- [Способы сопоставительной визуализации](#Способы-сопоставительной-визуализации)\n",
    "- [Важность визуализации](#Важность-визуализации)\n",
    "- [Обработка столбцов](#Обработка-столбцов)\n",
    "- [Сопоставительная визуализация электоральных данных](#Сопоставительная-визуализация-электоральных-данных)\n",
    "- [Визуализация электоральных данных РФ](#Визуализация-электоральных-данных-РФ)\n",
    "- [Сравнительная визуализация](#Сравнительная-визуализация)"
   ]
  },
  {
   "cell_type": "markdown",
   "metadata": {},
   "source": [
    "<a name=\"home\"></a>"
   ]
  },
  {
   "cell_type": "code",
   "execution_count": 72,
   "metadata": {},
   "outputs": [],
   "source": [
    "# -*- coding: utf-8 -*-\n",
    "\n",
    "# Системные библиотеки\n",
    "\n",
    "import random\n",
    "from collections import Counter\n",
    "\n",
    "import scipy as sp\n",
    "from scipy import stats\n",
    "import pandas as pd  \n",
    "# для загрузки файлов excel требуется xlrd >= 0.9.0 \n",
    "# ?pip install --upgrade xlrd\n",
    "\n",
    "# Графические настройки \n",
    "\n",
    "import matplotlib.pyplot as plt\n",
    "from matplotlib import rcParams\n",
    "rcParams['font.family']     = 'sans-serif'\n",
    "rcParams['font.sans-serif'] = ['Ubuntu Condensed']\n",
    "rcParams['figure.figsize']  = (5, 4)\n",
    "rcParams['legend.fontsize'] = 10\n",
    "rcParams['xtick.labelsize'] = 9\n",
    "rcParams['ytick.labelsize'] = 9\n",
    "\n",
    "def saveplot(dest):\n",
    "    plt.tight_layout()\n",
    "    plt.savefig('images/' + dest) "
   ]
  },
  {
   "cell_type": "markdown",
   "metadata": {},
   "source": [
    "### Обследование данных"
   ]
  },
  {
   "cell_type": "code",
   "execution_count": 2,
   "metadata": {},
   "outputs": [],
   "source": [
    "def load_uk():\n",
    "    '''Загрузить данные по Великобритании'''\n",
    "    return pd.read_excel('data/ch01/UK2010.xls')"
   ]
  },
  {
   "cell_type": "code",
   "execution_count": 3,
   "metadata": {},
   "outputs": [
    {
     "data": {
      "text/plain": [
       "Index(['Press Association Reference', 'Constituency Name', 'Region',\n",
       "       'Election Year', 'Electorate', 'Votes', 'AC', 'AD', 'AGS', 'APNI',\n",
       "       ...\n",
       "       'UKIP', 'UPS', 'UV', 'VCCA', 'Vote', 'Wessex Reg', 'WRP', 'You',\n",
       "       'Youth', 'YRDPL'],\n",
       "      dtype='object', length=144)"
      ]
     },
     "execution_count": 3,
     "metadata": {},
     "output_type": "execute_result"
    }
   ],
   "source": [
    "def ex_1_1():\n",
    "    '''Получить имена полей кадра данных'''\n",
    "    return load_uk().columns\n",
    "\n",
    "ex_1_1()"
   ]
  },
  {
   "cell_type": "code",
   "execution_count": 4,
   "metadata": {},
   "outputs": [
    {
     "data": {
      "text/plain": [
       "0      2010.0\n",
       "1      2010.0\n",
       "2      2010.0\n",
       "3      2010.0\n",
       "4      2010.0\n",
       "5      2010.0\n",
       "6      2010.0\n",
       "7      2010.0\n",
       "8      2010.0\n",
       "9      2010.0\n",
       "10     2010.0\n",
       "11     2010.0\n",
       "12     2010.0\n",
       "13     2010.0\n",
       "14     2010.0\n",
       "15     2010.0\n",
       "16     2010.0\n",
       "17     2010.0\n",
       "18     2010.0\n",
       "19     2010.0\n",
       "20     2010.0\n",
       "21     2010.0\n",
       "22     2010.0\n",
       "23     2010.0\n",
       "24     2010.0\n",
       "25     2010.0\n",
       "26     2010.0\n",
       "27     2010.0\n",
       "28     2010.0\n",
       "29     2010.0\n",
       "        ...  \n",
       "621    2010.0\n",
       "622    2010.0\n",
       "623    2010.0\n",
       "624    2010.0\n",
       "625    2010.0\n",
       "626    2010.0\n",
       "627    2010.0\n",
       "628    2010.0\n",
       "629    2010.0\n",
       "630    2010.0\n",
       "631    2010.0\n",
       "632    2010.0\n",
       "633    2010.0\n",
       "634    2010.0\n",
       "635    2010.0\n",
       "636    2010.0\n",
       "637    2010.0\n",
       "638    2010.0\n",
       "639    2010.0\n",
       "640    2010.0\n",
       "641    2010.0\n",
       "642    2010.0\n",
       "643    2010.0\n",
       "644    2010.0\n",
       "645    2010.0\n",
       "646    2010.0\n",
       "647    2010.0\n",
       "648    2010.0\n",
       "649    2010.0\n",
       "650       NaN\n",
       "Name: Election Year, dtype: float64"
      ]
     },
     "execution_count": 4,
     "metadata": {},
     "output_type": "execute_result"
    }
   ],
   "source": [
    "def ex_1_2():\n",
    "    '''Получить значения поля \"Год выборов\"'''\n",
    "    return load_uk()['Election Year']  #[-5:] или tail() # последние 5 строк\n",
    "\n",
    "ex_1_2()"
   ]
  },
  {
   "cell_type": "code",
   "execution_count": 4,
   "metadata": {},
   "outputs": [
    {
     "data": {
      "text/plain": [
       "array([2010.,   nan])"
      ]
     },
     "execution_count": 4,
     "metadata": {},
     "output_type": "execute_result"
    }
   ],
   "source": [
    "def ex_1_3():\n",
    "    '''Получить значения в поле \"Год выборов\" без дубликатов'''\n",
    "    return load_uk()['Election Year'].unique()\n",
    "\n",
    "ex_1_3()"
   ]
  },
  {
   "cell_type": "code",
   "execution_count": 5,
   "metadata": {},
   "outputs": [
    {
     "data": {
      "text/plain": [
       "Counter({2010.0: 650, nan: 1})"
      ]
     },
     "execution_count": 5,
     "metadata": {},
     "output_type": "execute_result"
    }
   ],
   "source": [
    "def ex_1_4():\n",
    "    '''Рассчитать частоты в поле \"Год выборов\" \n",
    "       (количества появлений разных значений)'''\n",
    "    return Counter( load_uk()['Election Year'] )\n",
    "\n",
    "ex_1_4()"
   ]
  },
  {
   "cell_type": "markdown",
   "metadata": {},
   "source": [
    "### Исправление данных"
   ]
  },
  {
   "cell_type": "code",
   "execution_count": 6,
   "metadata": {},
   "outputs": [
    {
     "data": {
      "text/html": [
       "<div>\n",
       "<style scoped>\n",
       "    .dataframe tbody tr th:only-of-type {\n",
       "        vertical-align: middle;\n",
       "    }\n",
       "\n",
       "    .dataframe tbody tr th {\n",
       "        vertical-align: top;\n",
       "    }\n",
       "\n",
       "    .dataframe thead th {\n",
       "        text-align: right;\n",
       "    }\n",
       "</style>\n",
       "<table border=\"1\" class=\"dataframe\">\n",
       "  <thead>\n",
       "    <tr style=\"text-align: right;\">\n",
       "      <th></th>\n",
       "      <th>Press Association Reference</th>\n",
       "      <th>Constituency Name</th>\n",
       "      <th>Region</th>\n",
       "      <th>Election Year</th>\n",
       "      <th>Electorate</th>\n",
       "      <th>Votes</th>\n",
       "      <th>AC</th>\n",
       "      <th>AD</th>\n",
       "      <th>AGS</th>\n",
       "      <th>APNI</th>\n",
       "      <th>...</th>\n",
       "      <th>UKIP</th>\n",
       "      <th>UPS</th>\n",
       "      <th>UV</th>\n",
       "      <th>VCCA</th>\n",
       "      <th>Vote</th>\n",
       "      <th>Wessex Reg</th>\n",
       "      <th>WRP</th>\n",
       "      <th>You</th>\n",
       "      <th>Youth</th>\n",
       "      <th>YRDPL</th>\n",
       "    </tr>\n",
       "  </thead>\n",
       "  <tbody>\n",
       "    <tr>\n",
       "      <td>650</td>\n",
       "      <td>NaN</td>\n",
       "      <td>NaN</td>\n",
       "      <td>NaN</td>\n",
       "      <td>NaN</td>\n",
       "      <td>NaN</td>\n",
       "      <td>29687604</td>\n",
       "      <td>NaN</td>\n",
       "      <td>NaN</td>\n",
       "      <td>NaN</td>\n",
       "      <td>NaN</td>\n",
       "      <td>...</td>\n",
       "      <td>NaN</td>\n",
       "      <td>NaN</td>\n",
       "      <td>NaN</td>\n",
       "      <td>NaN</td>\n",
       "      <td>NaN</td>\n",
       "      <td>NaN</td>\n",
       "      <td>NaN</td>\n",
       "      <td>NaN</td>\n",
       "      <td>NaN</td>\n",
       "      <td>NaN</td>\n",
       "    </tr>\n",
       "  </tbody>\n",
       "</table>\n",
       "<p>1 rows × 144 columns</p>\n",
       "</div>"
      ],
      "text/plain": [
       "     Press Association Reference Constituency Name Region  Election Year  \\\n",
       "650                          NaN               NaN    NaN            NaN   \n",
       "\n",
       "     Electorate     Votes  AC  AD  AGS  APNI  ...  UKIP  UPS  UV  VCCA  Vote  \\\n",
       "650         NaN  29687604 NaN NaN  NaN   NaN  ...   NaN  NaN NaN   NaN   NaN   \n",
       "\n",
       "     Wessex Reg  WRP  You  Youth  YRDPL  \n",
       "650         NaN  NaN  NaN    NaN    NaN  \n",
       "\n",
       "[1 rows x 144 columns]"
      ]
     },
     "execution_count": 6,
     "metadata": {},
     "output_type": "execute_result"
    }
   ],
   "source": [
    "def ex_1_5():\n",
    "    '''Вернуть отфильтрованную по полю \"Год выборов\" \n",
    "       запись в кадре данных (в виде словаря)'''\n",
    "    df = load_uk()\n",
    "    return df[df['Election Year'].isnull()]\n",
    "\n",
    "ex_1_5()"
   ]
  },
  {
   "cell_type": "markdown",
   "metadata": {},
   "source": [
    "### Описательные статистики"
   ]
  },
  {
   "cell_type": "code",
   "execution_count": 7,
   "metadata": {},
   "outputs": [],
   "source": [
    "def load_uk_scrubbed():\n",
    "    '''Загрузить и отфильтровать данные по Великобритании'''\n",
    "    df = load_uk()\n",
    "    return df[df['Election Year'].notnull()]       "
   ]
  },
  {
   "cell_type": "code",
   "execution_count": 8,
   "metadata": {},
   "outputs": [
    {
     "data": {
      "text/plain": [
       "650"
      ]
     },
     "execution_count": 8,
     "metadata": {},
     "output_type": "execute_result"
    }
   ],
   "source": [
    "def ex_1_6():\n",
    "    '''Число значений в поле \"Электорат\"'''\n",
    "    return load_uk_scrubbed()['Electorate'].count() \n",
    "\n",
    "ex_1_6() "
   ]
  },
  {
   "cell_type": "markdown",
   "metadata": {},
   "source": [
    "*Среднее значение*"
   ]
  },
  {
   "cell_type": "code",
   "execution_count": 9,
   "metadata": {},
   "outputs": [],
   "source": [
    "def mean(xs): \n",
    "    '''Среднее значение числового ряда'''\n",
    "    return sum(xs) / len(xs)"
   ]
  },
  {
   "cell_type": "code",
   "execution_count": 10,
   "metadata": {},
   "outputs": [
    {
     "data": {
      "text/plain": [
       "70149.94"
      ]
     },
     "execution_count": 10,
     "metadata": {},
     "output_type": "execute_result"
    }
   ],
   "source": [
    "def ex_1_7():\n",
    "    '''Вернуть среднее значение поля \"Электорат\"'''\n",
    "    # как вариант, mean(load_uk_scrubbed()['Electorate'])\n",
    "    return load_uk_scrubbed()['Electorate'].mean()\n",
    "\n",
    "ex_1_7()"
   ]
  },
  {
   "cell_type": "markdown",
   "metadata": {},
   "source": [
    "*Медиана*"
   ]
  },
  {
   "cell_type": "code",
   "execution_count": 11,
   "metadata": {},
   "outputs": [],
   "source": [
    "def median(xs):\n",
    "    '''Медиана числового ряда'''\n",
    "    n = len(xs)\n",
    "    mid = n // 2\n",
    "\n",
    "    if n % 2 == 1:\n",
    "        return sorted(xs)[mid]\n",
    "    else:\n",
    "        return mean( sorted(xs)[mid-1:][:2] ) "
   ]
  },
  {
   "cell_type": "code",
   "execution_count": 12,
   "metadata": {},
   "outputs": [
    {
     "data": {
      "text/plain": [
       "70813.5"
      ]
     },
     "execution_count": 12,
     "metadata": {},
     "output_type": "execute_result"
    }
   ],
   "source": [
    "def ex_1_8():\n",
    "    '''Вернуть медиану поля \"Электорат\"'''\n",
    "    # как вариант, median(load_uk_scrubbed()['Electorate'])\n",
    "    return load_uk_scrubbed()['Electorate'].median()\n",
    "\n",
    "ex_1_8()"
   ]
  },
  {
   "cell_type": "markdown",
   "metadata": {},
   "source": [
    "*Дисперсия*"
   ]
  },
  {
   "cell_type": "code",
   "execution_count": 13,
   "metadata": {},
   "outputs": [],
   "source": [
    "def variance(xs):\n",
    "    '''Дисперсия числового ряда,\n",
    "       несмещенная дисперсия при n <= 30'''\n",
    "    x_hat = mean(xs)\n",
    "    n = len(xs)\n",
    "    n = n - 1 if n in range(1, 30) else n  \n",
    "    square_deviation = lambda x : (x - x_hat) ** 2 \n",
    "    return sum( map(square_deviation, xs) ) / n\n",
    "\n",
    "def standard_deviation(xs):\n",
    "    '''Стандартное отклонение числового ряда'''\n",
    "    return sp.sqrt( variance(xs) )"
   ]
  },
  {
   "cell_type": "code",
   "execution_count": 14,
   "metadata": {},
   "outputs": [
    {
     "data": {
      "text/plain": [
       "7672.772645446216"
      ]
     },
     "execution_count": 14,
     "metadata": {},
     "output_type": "execute_result"
    }
   ],
   "source": [
    "# метод s.std() в pandas по умолчанию вычисляет несмещенное \n",
    "# значение, т.е. нормализует на n-1 (ddof=1 по умолчанию). \n",
    "# Чтобы задать смещенное вычисление, нужно указать ddof=0\n",
    "\n",
    "def ex_1_9():\n",
    "    '''Стандартное отклонение поля \"Электорат\"'''\n",
    "    # как вариант, standard_deviation(load_uk_scrubbed()['Electorate'])\n",
    "    return load_uk_scrubbed()['Electorate'].std(ddof=0)  # смещенное значение\n",
    "\n",
    "ex_1_9() "
   ]
  },
  {
   "cell_type": "markdown",
   "metadata": {},
   "source": [
    "*Квантили*"
   ]
  },
  {
   "cell_type": "code",
   "execution_count": 15,
   "metadata": {},
   "outputs": [],
   "source": [
    "def quantile(p, xs):       \n",
    "    '''Вычислить квантили:\n",
    "       возвращает значение в последовательности xs, \n",
    "       соответствующее p-ому проценту'''\n",
    "    # как вариант,\n",
    "    # series = load_uk_scrubbed()['Electorate']\n",
    "    # fn = lambda x: quantile(x, series)   \n",
    "    # return list( map( fn, [0, 1/4, 1/2, 3/4, 1] ) )\n",
    "    n = xs.count()-1\n",
    "    return xs.sort_values().iloc[int(n * p + 1/2)]  "
   ]
  },
  {
   "cell_type": "code",
   "execution_count": 16,
   "metadata": {},
   "outputs": [
    {
     "data": {
      "text/plain": [
       "0.00     21780.00\n",
       "0.25     65929.25\n",
       "0.50     70813.50\n",
       "0.75     74948.50\n",
       "1.00    109922.00\n",
       "Name: Electorate, dtype: float64"
      ]
     },
     "execution_count": 16,
     "metadata": {},
     "output_type": "execute_result"
    }
   ],
   "source": [
    "def ex_1_10():\n",
    "    '''Получить квантили поля \"Электорат\"'''\n",
    "    q = [0, 1/4, 1/2, 3/4, 1]\n",
    "    # как вариант, quantile(q, load_uk_scrubbed()['Electorate'])\n",
    "    return load_uk_scrubbed()['Electorate'].quantile(q=q)\n",
    "\n",
    "ex_1_10()"
   ]
  },
  {
   "cell_type": "code",
   "execution_count": 17,
   "metadata": {},
   "outputs": [
    {
     "data": {
      "text/plain": [
       "count       650.000000\n",
       "mean      70149.940000\n",
       "std        7678.681597\n",
       "min       21780.000000\n",
       "25%       65929.250000\n",
       "50%       70813.500000\n",
       "75%       74948.500000\n",
       "max      109922.000000\n",
       "Name: Electorate, dtype: float64"
      ]
     },
     "execution_count": 17,
     "metadata": {},
     "output_type": "execute_result"
    }
   ],
   "source": [
    "# Резумирующая статистическая информация по полю \"Электорат\"\n",
    "\n",
    "load_uk_scrubbed()['Electorate'].describe()"
   ]
  },
  {
   "cell_type": "markdown",
   "metadata": {},
   "source": [
    "### Группирование данных"
   ]
  },
  {
   "cell_type": "code",
   "execution_count": 18,
   "metadata": {},
   "outputs": [
    {
     "data": {
      "text/plain": [
       "[0, 0, 0, 1, 1, 1, 2, 2, 2, 3, 3, 3, 4, 4, 4]"
      ]
     },
     "execution_count": 18,
     "metadata": {},
     "output_type": "execute_result"
    }
   ],
   "source": [
    "def nbin(n, xs): \n",
    "    '''Группирование данных в частотные корзины'''\n",
    "    min_x, max_x = min(xs), max(xs)\n",
    "    range_x = max_x - min_x\n",
    "    fn = lambda x: min(int((abs(x) - min_x) / range_x * n), n-1) \n",
    "    return map(fn, xs)\n",
    "\n",
    "list( nbin(5, range(15)) )"
   ]
  },
  {
   "cell_type": "code",
   "execution_count": 19,
   "metadata": {},
   "outputs": [
    {
     "data": {
      "text/plain": [
       "Counter({1: 26, 2: 450, 3: 171, 4: 1, 0: 2})"
      ]
     },
     "execution_count": 19,
     "metadata": {},
     "output_type": "execute_result"
    }
   ],
   "source": [
    "def ex_1_11_custom():\n",
    "    '''Сгруппировать электорат Великобритании \n",
    "       в 5 частотных корзин (собственная имплементация)'''\n",
    "    series = load_uk_scrubbed()['Electorate']\n",
    "    return Counter(nbin(5, series))\n",
    "\n",
    "ex_1_11_custom() "
   ]
  },
  {
   "cell_type": "code",
   "execution_count": 20,
   "metadata": {},
   "outputs": [
    {
     "data": {
      "text/plain": [
       "2    450\n",
       "3    171\n",
       "1     26\n",
       "0      2\n",
       "4      1\n",
       "Name: Electorate, dtype: int64"
      ]
     },
     "execution_count": 20,
     "metadata": {},
     "output_type": "execute_result"
    }
   ],
   "source": [
    "def ex_1_11():\n",
    "    '''Сгруппировать электорат Великобритании \n",
    "       в 5 частотных корзин (средствами pandas)'''\n",
    "    series = load_uk_scrubbed()['Electorate']\n",
    "    return pd.value_counts(pd.cut(series, bins=5, labels=False))\n",
    "    \n",
    "ex_1_11()"
   ]
  },
  {
   "cell_type": "markdown",
   "metadata": {},
   "source": [
    "### Гистограммы"
   ]
  },
  {
   "cell_type": "code",
   "execution_count": 93,
   "metadata": {},
   "outputs": [
    {
     "data": {
      "image/png": "[encoded data removed]",
      "text/plain": [
       "<Figure size 360x288 with 1 Axes>"
      ]
     },
     "metadata": {
      "needs_background": "light"
     },
     "output_type": "display_data"
    }
   ],
   "source": [
    "def ex_1_12():\n",
    "    '''Построить гистограмму частотных корзин \n",
    "       электората Великобритании'''\n",
    "    load_uk_scrubbed()['Electorate'].hist()\n",
    "    plt.xlabel('Электорат Великобритании')\n",
    "    plt.ylabel('Частота')\n",
    "    saveplot('ex_1_12.png')  \n",
    "    plt.show()    \n",
    "    \n",
    "ex_1_12()"
   ]
  },
  {
   "cell_type": "code",
   "execution_count": 94,
   "metadata": {},
   "outputs": [
    {
     "data": {
      "image/png": "[encoded data removed]",
      "text/plain": [
       "<Figure size 360x288 with 1 Axes>"
      ]
     },
     "metadata": {
      "needs_background": "light"
     },
     "output_type": "display_data"
    }
   ],
   "source": [
    "def ex_1_13():\n",
    "    '''Построить гистограмму частотных корзин \n",
    "       электората Великобритании с 200 корзинами'''\n",
    "    load_uk_scrubbed()['Electorate'].hist(bins=200)\n",
    "    plt.xlabel('Электорат Великобритании')\n",
    "    plt.ylabel('Частота')\n",
    "    saveplot('ex_1_13.png')  \n",
    "    plt.show() \n",
    "    \n",
    "ex_1_13()"
   ]
  },
  {
   "cell_type": "code",
   "execution_count": 95,
   "metadata": {},
   "outputs": [
    {
     "data": {
      "image/png": "[encoded data removed]",
      "text/plain": [
       "<Figure size 360x288 with 1 Axes>"
      ]
     },
     "metadata": {
      "needs_background": "light"
     },
     "output_type": "display_data"
    }
   ],
   "source": [
    "def ex_1_14():\n",
    "    '''Построить гистограмму частотных корзин \n",
    "       электората Великобритании с 20 корзинами'''\n",
    "    load_uk_scrubbed()['Electorate'].hist(bins=20)\n",
    "    plt.xlabel('Электорат Великобритании')\n",
    "    plt.ylabel('Частота')\n",
    "    saveplot('ex_1_14.png')  \n",
    "    plt.show() \n",
    "    \n",
    "ex_1_14()"
   ]
  },
  {
   "cell_type": "markdown",
   "metadata": {},
   "source": [
    "### Нормальное распределение"
   ]
  },
  {
   "cell_type": "markdown",
   "metadata": {},
   "source": [
    "*Центральная предельная теорема*"
   ]
  },
  {
   "cell_type": "code",
   "execution_count": 96,
   "metadata": {},
   "outputs": [
    {
     "data": {
      "image/png": "[encoded data removed]",
      "text/plain": [
       "<Figure size 360x288 with 1 Axes>"
      ]
     },
     "metadata": {
      "needs_background": "light"
     },
     "output_type": "display_data"
    }
   ],
   "source": [
    "def ex_1_15():\n",
    "    '''Показать гистограмму равномерного распределения \n",
    "       синтетического набора данных'''\n",
    "    # как вариант, xs = [random.uniform(0, 1) for _ in range(10000)]\n",
    "    xs = stats.uniform.rvs(0, 1, 10000)\n",
    "    pd.Series(xs).hist(bins=20)\n",
    "    plt.xlabel('Равномерное распределение')\n",
    "    plt.ylabel('Частота')\n",
    "    saveplot('ex_1_15.png')              \n",
    "    plt.show()\n",
    "    \n",
    "ex_1_15()"
   ]
  },
  {
   "cell_type": "code",
   "execution_count": 39,
   "metadata": {},
   "outputs": [],
   "source": [
    "def bootstrap(xs, n, replace=True): \n",
    "    '''Вернуть список массивов меньших размеров \n",
    "       по n элементов каждый'''\n",
    "    return sp.random.choice(xs, (len(xs), n), replace=replace) "
   ]
  },
  {
   "cell_type": "code",
   "execution_count": 97,
   "metadata": {},
   "outputs": [
    {
     "data": {
      "image/png": "[encoded data removed]",
      "text/plain": [
       "<Figure size 360x288 with 1 Axes>"
      ]
     },
     "metadata": {
      "needs_background": "light"
     },
     "output_type": "display_data"
    }
   ],
   "source": [
    "def ex_1_16():\n",
    "    '''Построить гистограмму средних значений'''\n",
    "    # как вариант, xs = [random.gauss(0, 1) for _ in range(10000)]\n",
    "    xs = stats.uniform.rvs(loc=0, scale=1, size=10000) \n",
    "    pd.Series( map(sp.mean, bootstrap(xs, 10)) ).hist(bins=20)  \n",
    "    plt.xlabel('Распределение средних значений') \n",
    "    plt.ylabel('Частота')\n",
    "    saveplot('ex_1_16.png')              \n",
    "    plt.show()\n",
    "\n",
    "ex_1_16()"
   ]
  },
  {
   "cell_type": "code",
   "execution_count": 98,
   "metadata": {},
   "outputs": [
    {
     "data": {
      "image/png": "[encoded data removed]",
      "text/plain": [
       "<Figure size 360x288 with 1 Axes>"
      ]
     },
     "metadata": {
      "needs_background": "light"
     },
     "output_type": "display_data"
    }
   ],
   "source": [
    "def ex_1_17():\n",
    "    '''Показать гистограмму нормального распределения \n",
    "       синтетического набора данных'''\n",
    "    # как вариант, xs = [random.gauss(0, 1) for _ in range(10000)]\n",
    "    xs = stats.norm.rvs(loc=0, scale=1, size=10000) \n",
    "    pd.Series(xs).hist(bins=20)\n",
    "    plt.xlabel('Нормальное распределение')\n",
    "    plt.ylabel('Частота')\n",
    "    saveplot('ex_1_17.png')               \n",
    "    plt.show()\n",
    "\n",
    "ex_1_17()"
   ]
  },
  {
   "cell_type": "markdown",
   "metadata": {},
   "source": [
    "### Булочник господина Пуанкаре"
   ]
  },
  {
   "cell_type": "markdown",
   "metadata": {},
   "source": [
    "*Генерирование распределений*"
   ]
  },
  {
   "cell_type": "code",
   "execution_count": 42,
   "metadata": {},
   "outputs": [],
   "source": [
    "def honest_baker(loc, scale): # среднее и дисперсия\n",
    "    '''Модель честного булочника'''\n",
    "    # как вариант, [random.gauss(loc, scale) for _ in range(10000)]\n",
    "    return pd.Series( stats.norm.rvs(loc, scale, size=10000) )"
   ]
  },
  {
   "cell_type": "code",
   "execution_count": 99,
   "metadata": {},
   "outputs": [
    {
     "data": {
      "image/png": "[encoded data removed]",
      "text/plain": [
       "<Figure size 360x288 with 1 Axes>"
      ]
     },
     "metadata": {
      "needs_background": "light"
     },
     "output_type": "display_data"
    }
   ],
   "source": [
    "def ex_1_18():\n",
    "    '''Смоделировать честного булочника на гистограмме'''\n",
    "    honest_baker(1000, 30).hist(bins=25)\n",
    "    plt.xlabel('Честный булочник') \n",
    "    plt.ylabel('Частота')\n",
    "    saveplot('ex_1_18.png')               \n",
    "    plt.show()\n",
    "\n",
    "ex_1_18()"
   ]
  },
  {
   "cell_type": "code",
   "execution_count": 44,
   "metadata": {},
   "outputs": [],
   "source": [
    "def dishonest_baker( loc, scale ):\n",
    "    '''Модель нечестного булочника'''\n",
    "    xs = stats.norm.rvs(loc, scale, size=10000) \n",
    "    return pd.Series( map(max, bootstrap(xs, 13)) )  # взять макс. в каждой подгруппе    "
   ]
  },
  {
   "cell_type": "code",
   "execution_count": 100,
   "metadata": {},
   "outputs": [
    {
     "data": {
      "image/png": "[encoded data removed]",
      "text/plain": [
       "<Figure size 360x288 with 1 Axes>"
      ]
     },
     "metadata": {
      "needs_background": "light"
     },
     "output_type": "display_data"
    }
   ],
   "source": [
    "def ex_1_19():\n",
    "    '''Смоделировать нечестного булочника на гистограмме'''\n",
    "    dishonest_baker(950, 30).hist(bins=25)\n",
    "    plt.xlabel('Нечестный булочник') \n",
    "    plt.ylabel('Частота')\n",
    "    saveplot('ex_1_19.png')               \n",
    "    plt.show()\n",
    "\n",
    "ex_1_19()"
   ]
  },
  {
   "cell_type": "markdown",
   "metadata": {},
   "source": [
    "### Асимметрия"
   ]
  },
  {
   "cell_type": "code",
   "execution_count": 113,
   "metadata": {},
   "outputs": [
    {
     "data": {
      "text/plain": [
       "{'среднее': 999.2718614591498,\n",
       " 'медиана': 997.834591527114,\n",
       " 'асимметрия': 0.42804223875476605}"
      ]
     },
     "execution_count": 113,
     "metadata": {},
     "output_type": "execute_result"
    }
   ],
   "source": [
    "def ex_1_20():\n",
    "    '''Получить коэффициент асимметрии нормального распределения'''\n",
    "    s = dishonest_baker(950, 30)\n",
    "    return { 'среднее'   : s.mean(), \n",
    "             'медиана'   : s.median(), \n",
    "             'асимметрия': s.skew() }\n",
    "\n",
    "ex_1_20()"
   ]
  },
  {
   "cell_type": "markdown",
   "metadata": {},
   "source": [
    "*Графики нормального распределения*"
   ]
  },
  {
   "cell_type": "code",
   "execution_count": 47,
   "metadata": {},
   "outputs": [],
   "source": [
    "def qqplot(xs):\n",
    "    '''Квантильный график (график квантиль-квантиль, Q-Q plot)'''\n",
    "    d = {0:sorted(stats.norm.rvs(loc=0, scale=1, size=len(xs))), \n",
    "         1:sorted(xs)}\n",
    "    pd.DataFrame(d).plot.scatter(0, 1, s=5, grid=True)\n",
    "    plt.xlabel('Квантили теоретического нормального распределения')\n",
    "    plt.ylabel('Квантили данных')\n",
    "    plt.title ('Квантильный график', fontweight='semibold')"
   ]
  },
  {
   "cell_type": "code",
   "execution_count": 101,
   "metadata": {},
   "outputs": [
    {
     "data": {
      "image/png": "[encoded data removed]",
      "text/plain": [
       "<Figure size 360x288 with 1 Axes>"
      ]
     },
     "metadata": {
      "needs_background": "light"
     },
     "output_type": "display_data"
    },
    {
     "data": {
      "image/png": "[encoded data removed]",
      "text/plain": [
       "<Figure size 360x288 with 1 Axes>"
      ]
     },
     "metadata": {
      "needs_background": "light"
     },
     "output_type": "display_data"
    }
   ],
   "source": [
    "def ex_1_21():\n",
    "    '''Показать квантильные графики \n",
    "       для честного и нечестного булочников'''\n",
    "    qqplot( honest_baker(1000, 30) )  \n",
    "    saveplot('ex_1_21_1.png')\n",
    "    plt.show()\n",
    "    qqplot( dishonest_baker(950, 30) )\n",
    "    saveplot('ex_1_21_2.png')\n",
    "    plt.show()\n",
    "    \n",
    "ex_1_21()"
   ]
  },
  {
   "cell_type": "markdown",
   "metadata": {},
   "source": [
    "### Способы сопоставительной визуализации"
   ]
  },
  {
   "cell_type": "markdown",
   "metadata": {},
   "source": [
    "*Коробчатые диаграммы*"
   ]
  },
  {
   "cell_type": "code",
   "execution_count": 102,
   "metadata": {},
   "outputs": [
    {
     "data": {
      "image/png": "[encoded data removed]",
      "text/plain": [
       "<Figure size 360x288 with 1 Axes>"
      ]
     },
     "metadata": {
      "needs_background": "light"
     },
     "output_type": "display_data"
    }
   ],
   "source": [
    "def ex_1_22():\n",
    "    '''Показать коробчатую диаграмму\n",
    "       с данными честного и нечестного булочников'''\n",
    "    d = {'Честный булочник'  :honest_baker(1000, 30),\n",
    "         'Нечестный булочник':dishonest_baker(950, 30)} \n",
    "    pd.DataFrame(d).boxplot(sym='o', whis=1.95, showmeans=True)\n",
    "    plt.ylabel('Вес буханки (гр.)')\n",
    "    plt.gca().xaxis.grid(False)\n",
    "    saveplot('ex_1_22.png')              \n",
    "    plt.show()\n",
    "\n",
    "ex_1_22()"
   ]
  },
  {
   "cell_type": "markdown",
   "metadata": {},
   "source": [
    "*Интегральные (кумулятивные) функции распределения*"
   ]
  },
  {
   "cell_type": "code",
   "execution_count": 50,
   "metadata": {},
   "outputs": [],
   "source": [
    "def empirical_cdf(x):\n",
    "    \"\"\"Вернуть эмпирическую ИФР для x\"\"\"\n",
    "    sx  = sorted(x)\n",
    "    return pd.DataFrame( {0: sx, 1:sp.arange(len(sx))/len(sx)} )"
   ]
  },
  {
   "cell_type": "code",
   "execution_count": 103,
   "metadata": {},
   "outputs": [
    {
     "data": {
      "image/png": "[encoded data removed]",
      "text/plain": [
       "<Figure size 360x288 with 1 Axes>"
      ]
     },
     "metadata": {
      "needs_background": "light"
     },
     "output_type": "display_data"
    }
   ],
   "source": [
    "def ex_1_23():\n",
    "    '''Показать графики эмпирической ИФР\n",
    "       честного булочника в сопоставлении с нечестным'''\n",
    "    df  = empirical_cdf(honest_baker(1000, 30))\n",
    "    df2 = empirical_cdf(dishonest_baker(950, 30))\n",
    "    ax  = df.plot(0, 1, label='Честный булочник')    \n",
    "    df2.plot(0, 1, label='Нечестный булочник', grid=True, ax=ax)    \n",
    "    plt.xlabel('Вес буханки')\n",
    "    plt.ylabel('Вероятность')\n",
    "    plt.legend(loc='best')\n",
    "    saveplot('ex_1_23.png')               \n",
    "    plt.show()  \n",
    "    \n",
    "ex_1_23()"
   ]
  },
  {
   "cell_type": "markdown",
   "metadata": {},
   "source": [
    "### Важность визуализации"
   ]
  },
  {
   "cell_type": "markdown",
   "metadata": {},
   "source": [
    "*Визуализация данных об электорате*"
   ]
  },
  {
   "cell_type": "code",
   "execution_count": 104,
   "metadata": {},
   "outputs": [
    {
     "data": {
      "image/png": "[encoded data removed]",
      "text/plain": [
       "<Figure size 360x288 with 1 Axes>"
      ]
     },
     "metadata": {
      "needs_background": "light"
     },
     "output_type": "display_data"
    }
   ],
   "source": [
    "def ex_1_24():\n",
    "    '''Показать эмпирическую и подогнанную ИФР \n",
    "       электората Великобритании'''\n",
    "    emp      = load_uk_scrubbed()['Electorate']\n",
    "    fitted   = stats.norm.rvs(emp.mean(), emp.std(ddof=0), len(emp))\n",
    "    df  = empirical_cdf(emp)\n",
    "    df2 = empirical_cdf(fitted)\n",
    "    ax  = df.plot(0, 1, label='эмпирическая')    \n",
    "    df2.plot(0, 1, label='подогнанная', grid=True, ax=ax)    \n",
    "    plt.xlabel('Электорат')\n",
    "    plt.ylabel('Вероятность')\n",
    "    plt.legend(loc='best')\n",
    "    saveplot('ex_1_24.png')               \n",
    "    plt.show()   \n",
    "    \n",
    "ex_1_24()"
   ]
  },
  {
   "cell_type": "code",
   "execution_count": 105,
   "metadata": {},
   "outputs": [
    {
     "data": {
      "image/png": "[encoded data removed]",
      "text/plain": [
       "<Figure size 360x288 with 1 Axes>"
      ]
     },
     "metadata": {
      "needs_background": "light"
     },
     "output_type": "display_data"
    }
   ],
   "source": [
    "def ex_1_25():\n",
    "    '''Показать квантильный график \n",
    "       электората Великобритании'''\n",
    "    qqplot(load_uk_scrubbed()['Electorate'])\n",
    "    saveplot('ex_1_25.png')\n",
    "    plt.show()\n",
    "    \n",
    "ex_1_25()"
   ]
  },
  {
   "cell_type": "markdown",
   "metadata": {},
   "source": [
    "### Обработка столбцов"
   ]
  },
  {
   "cell_type": "markdown",
   "metadata": {},
   "source": [
    "*Добавление производных столбцов*"
   ]
  },
  {
   "cell_type": "code",
   "execution_count": 54,
   "metadata": {},
   "outputs": [
    {
     "data": {
      "text/html": [
       "<div>\n",
       "<style scoped>\n",
       "    .dataframe tbody tr th:only-of-type {\n",
       "        vertical-align: middle;\n",
       "    }\n",
       "\n",
       "    .dataframe tbody tr th {\n",
       "        vertical-align: top;\n",
       "    }\n",
       "\n",
       "    .dataframe thead th {\n",
       "        text-align: right;\n",
       "    }\n",
       "</style>\n",
       "<table border=\"1\" class=\"dataframe\">\n",
       "  <thead>\n",
       "    <tr style=\"text-align: right;\">\n",
       "      <th></th>\n",
       "      <th>A</th>\n",
       "      <th>B</th>\n",
       "      <th>C</th>\n",
       "      <th>D</th>\n",
       "    </tr>\n",
       "  </thead>\n",
       "  <tbody>\n",
       "    <tr>\n",
       "      <td>0</td>\n",
       "      <td>0.950088</td>\n",
       "      <td>0.400157</td>\n",
       "      <td>1.350246</td>\n",
       "      <td>0.400157</td>\n",
       "    </tr>\n",
       "    <tr>\n",
       "      <td>1</td>\n",
       "      <td>2.240893</td>\n",
       "      <td>2.240893</td>\n",
       "      <td>4.481786</td>\n",
       "      <td>2.240893</td>\n",
       "    </tr>\n",
       "    <tr>\n",
       "      <td>2</td>\n",
       "      <td>1.000000</td>\n",
       "      <td>-0.977278</td>\n",
       "      <td>0.022722</td>\n",
       "      <td>-0.977278</td>\n",
       "    </tr>\n",
       "  </tbody>\n",
       "</table>\n",
       "</div>"
      ],
      "text/plain": [
       "          A         B         C         D\n",
       "0  0.950088  0.400157  1.350246  0.400157\n",
       "1  2.240893  2.240893  4.481786  2.240893\n",
       "2  1.000000 -0.977278  0.022722 -0.977278"
      ]
     },
     "execution_count": 54,
     "metadata": {},
     "output_type": "execute_result"
    }
   ],
   "source": [
    "'''Операции над столбцами'''\n",
    "\n",
    "# сгенерировать синтетический кадр данных\n",
    "sp.random.seed(0)\n",
    "df = pd.DataFrame(sp.random.randn(3, 2), columns=['A', 'B'])\n",
    "\n",
    "# заменить все значения в столбце новым значением \n",
    "df['A'] = 1\n",
    "\n",
    "# заменить все значения в столбце новой последовательностью \n",
    "df['A'] = pd.Series(sp.random.randn(5))\n",
    "\n",
    "# заменить все значения в столбце, применив функцию \n",
    "df['A'] = df.apply(lambda x: max(x['A'], x['B']), axis=1) # применить вертикально\n",
    "\n",
    "# заменить значение в заданной позиции столбца\n",
    "df['A'][2] = 1\n",
    "\n",
    "# добавить производный столбец на основе существующих \n",
    "df['C'] = df['A'] + df['B']\n",
    "\n",
    "# добавить производный столбец путем применения функции \n",
    "df['D'] = df.apply(lambda x: min(x['A'], x['B']), axis=1) \n",
    "\n",
    "df"
   ]
  },
  {
   "cell_type": "markdown",
   "metadata": {},
   "source": [
    "### Сопоставительная визуализация электоральных данных"
   ]
  },
  {
   "cell_type": "code",
   "execution_count": 55,
   "metadata": {},
   "outputs": [
    {
     "name": "stdout",
     "output_type": "stream",
     "text": [
      "Поле \"Победители\": 631, в т.ч. пропущено 19\n"
     ]
    }
   ],
   "source": [
    "def ex_1_26():\n",
    "    '''Вычислить производное поле данных \"Победители\" и \n",
    "       число имеющихся в нем пропущенных значений'''\n",
    "    df = load_uk_scrubbed()\n",
    "    df['Победители'] = df['Con'] + df['LD']\n",
    "    freq = Counter(df['Con'].apply( lambda x: x > 0 ))\n",
    "    print('Поле \"Победители\": %d, в т.ч. пропущено %d' \n",
    "          % (freq[True], freq[False]))\n",
    "\n",
    "ex_1_26()"
   ]
  },
  {
   "cell_type": "code",
   "execution_count": 56,
   "metadata": {},
   "outputs": [
    {
     "data": {
      "text/plain": [
       "(Counter({True: 631, False: 19}), Counter({True: 631, False: 19}))"
      ]
     },
     "execution_count": 56,
     "metadata": {},
     "output_type": "execute_result"
    }
   ],
   "source": [
    "'''Проверить пропущенные значения в полях\n",
    "   \"Консервативная партия\" (Con) и \n",
    "   \"Либерально-демократическая партия\" (LD)'''\n",
    "df = load_uk_scrubbed()\n",
    "Counter(df['Con'].apply(lambda x: x > 0)), Counter(df['LD'].apply(lambda x: x > 0))"
   ]
  },
  {
   "cell_type": "code",
   "execution_count": 57,
   "metadata": {},
   "outputs": [
    {
     "data": {
      "text/html": [
       "<div>\n",
       "<style scoped>\n",
       "    .dataframe tbody tr th:only-of-type {\n",
       "        vertical-align: middle;\n",
       "    }\n",
       "\n",
       "    .dataframe tbody tr th {\n",
       "        vertical-align: top;\n",
       "    }\n",
       "\n",
       "    .dataframe thead th {\n",
       "        text-align: right;\n",
       "    }\n",
       "</style>\n",
       "<table border=\"1\" class=\"dataframe\">\n",
       "  <thead>\n",
       "    <tr style=\"text-align: right;\">\n",
       "      <th></th>\n",
       "      <th>Region</th>\n",
       "      <th>Electorate</th>\n",
       "      <th>Con</th>\n",
       "      <th>LD</th>\n",
       "    </tr>\n",
       "  </thead>\n",
       "  <tbody>\n",
       "    <tr>\n",
       "      <td>12</td>\n",
       "      <td>Northern Ireland</td>\n",
       "      <td>60204.0</td>\n",
       "      <td>NaN</td>\n",
       "      <td>NaN</td>\n",
       "    </tr>\n",
       "    <tr>\n",
       "      <td>13</td>\n",
       "      <td>Northern Ireland</td>\n",
       "      <td>73338.0</td>\n",
       "      <td>NaN</td>\n",
       "      <td>NaN</td>\n",
       "    </tr>\n",
       "    <tr>\n",
       "      <td>14</td>\n",
       "      <td>Northern Ireland</td>\n",
       "      <td>63054.0</td>\n",
       "      <td>NaN</td>\n",
       "      <td>NaN</td>\n",
       "    </tr>\n",
       "    <tr>\n",
       "      <td>44</td>\n",
       "      <td>Northern Ireland</td>\n",
       "      <td>59007.0</td>\n",
       "      <td>NaN</td>\n",
       "      <td>NaN</td>\n",
       "    </tr>\n",
       "    <tr>\n",
       "      <td>45</td>\n",
       "      <td>Northern Ireland</td>\n",
       "      <td>65504.0</td>\n",
       "      <td>NaN</td>\n",
       "      <td>NaN</td>\n",
       "    </tr>\n",
       "    <tr>\n",
       "      <td>46</td>\n",
       "      <td>Northern Ireland</td>\n",
       "      <td>59524.0</td>\n",
       "      <td>NaN</td>\n",
       "      <td>NaN</td>\n",
       "    </tr>\n",
       "    <tr>\n",
       "      <td>47</td>\n",
       "      <td>Northern Ireland</td>\n",
       "      <td>59522.0</td>\n",
       "      <td>NaN</td>\n",
       "      <td>NaN</td>\n",
       "    </tr>\n",
       "    <tr>\n",
       "      <td>107</td>\n",
       "      <td>South East</td>\n",
       "      <td>74989.0</td>\n",
       "      <td>NaN</td>\n",
       "      <td>NaN</td>\n",
       "    </tr>\n",
       "    <tr>\n",
       "      <td>201</td>\n",
       "      <td>Northern Ireland</td>\n",
       "      <td>60698.0</td>\n",
       "      <td>NaN</td>\n",
       "      <td>NaN</td>\n",
       "    </tr>\n",
       "    <tr>\n",
       "      <td>202</td>\n",
       "      <td>Northern Ireland</td>\n",
       "      <td>70784.0</td>\n",
       "      <td>NaN</td>\n",
       "      <td>NaN</td>\n",
       "    </tr>\n",
       "    <tr>\n",
       "      <td>248</td>\n",
       "      <td>Northern Ireland</td>\n",
       "      <td>67908.0</td>\n",
       "      <td>NaN</td>\n",
       "      <td>NaN</td>\n",
       "    </tr>\n",
       "    <tr>\n",
       "      <td>254</td>\n",
       "      <td>Northern Ireland</td>\n",
       "      <td>65843.0</td>\n",
       "      <td>NaN</td>\n",
       "      <td>NaN</td>\n",
       "    </tr>\n",
       "    <tr>\n",
       "      <td>346</td>\n",
       "      <td>Northern Ireland</td>\n",
       "      <td>65257.0</td>\n",
       "      <td>NaN</td>\n",
       "      <td>NaN</td>\n",
       "    </tr>\n",
       "    <tr>\n",
       "      <td>375</td>\n",
       "      <td>Northern Ireland</td>\n",
       "      <td>63220.0</td>\n",
       "      <td>NaN</td>\n",
       "      <td>NaN</td>\n",
       "    </tr>\n",
       "    <tr>\n",
       "      <td>418</td>\n",
       "      <td>Northern Ireland</td>\n",
       "      <td>74308.0</td>\n",
       "      <td>NaN</td>\n",
       "      <td>NaN</td>\n",
       "    </tr>\n",
       "    <tr>\n",
       "      <td>541</td>\n",
       "      <td>Northern Ireland</td>\n",
       "      <td>60539.0</td>\n",
       "      <td>NaN</td>\n",
       "      <td>NaN</td>\n",
       "    </tr>\n",
       "    <tr>\n",
       "      <td>583</td>\n",
       "      <td>Northern Ireland</td>\n",
       "      <td>61148.0</td>\n",
       "      <td>NaN</td>\n",
       "      <td>NaN</td>\n",
       "    </tr>\n",
       "    <tr>\n",
       "      <td>584</td>\n",
       "      <td>Northern Ireland</td>\n",
       "      <td>64594.0</td>\n",
       "      <td>NaN</td>\n",
       "      <td>NaN</td>\n",
       "    </tr>\n",
       "    <tr>\n",
       "      <td>585</td>\n",
       "      <td>Northern Ireland</td>\n",
       "      <td>74732.0</td>\n",
       "      <td>NaN</td>\n",
       "      <td>NaN</td>\n",
       "    </tr>\n",
       "  </tbody>\n",
       "</table>\n",
       "</div>"
      ],
      "text/plain": [
       "               Region  Electorate  Con  LD\n",
       "12   Northern Ireland     60204.0  NaN NaN\n",
       "13   Northern Ireland     73338.0  NaN NaN\n",
       "14   Northern Ireland     63054.0  NaN NaN\n",
       "44   Northern Ireland     59007.0  NaN NaN\n",
       "45   Northern Ireland     65504.0  NaN NaN\n",
       "46   Northern Ireland     59524.0  NaN NaN\n",
       "47   Northern Ireland     59522.0  NaN NaN\n",
       "107        South East     74989.0  NaN NaN\n",
       "201  Northern Ireland     60698.0  NaN NaN\n",
       "202  Northern Ireland     70784.0  NaN NaN\n",
       "248  Northern Ireland     67908.0  NaN NaN\n",
       "254  Northern Ireland     65843.0  NaN NaN\n",
       "346  Northern Ireland     65257.0  NaN NaN\n",
       "375  Northern Ireland     63220.0  NaN NaN\n",
       "418  Northern Ireland     74308.0  NaN NaN\n",
       "541  Northern Ireland     60539.0  NaN NaN\n",
       "583  Northern Ireland     61148.0  NaN NaN\n",
       "584  Northern Ireland     64594.0  NaN NaN\n",
       "585  Northern Ireland     74732.0  NaN NaN"
      ]
     },
     "execution_count": 57,
     "metadata": {},
     "output_type": "execute_result"
    }
   ],
   "source": [
    "def ex_1_27():\n",
    "    '''Выборка полей данных по условию, что поля\n",
    "       \"Консервативная партия\" (Con) и \n",
    "       \"Либерально-демократическая\" (LD) не пустые'''\n",
    "    df   = load_uk_scrubbed()\n",
    "    rule = df['Con'].isnull() & df['LD'].isnull()\n",
    "    return df[rule][['Region', 'Electorate', 'Con', 'LD']]\n",
    "    \n",
    "ex_1_27()"
   ]
  },
  {
   "cell_type": "code",
   "execution_count": 58,
   "metadata": {},
   "outputs": [],
   "source": [
    "# Доля победителя = Голоса за победителя / действительные бюллетени\n",
    "# Явка = Действительные бюллетени / число избирателей\n",
    "# где:\n",
    "#   Голоса за победителя - число голосов, отданных за победителя\n",
    "#   Действительные бюллетени - число действительных избирательных бюллетеней\n",
    "#   Число избирателей - число избирателей, включенных в список избирателей\n",
    "\n",
    "def load_uk_victors():\n",
    "    '''Загрузить данные по Великобритании, \n",
    "       выбрать поля и отфильтровать'''\n",
    "    df   = load_uk_scrubbed()\n",
    "    rule = df['Con'].notnull()\n",
    "    df   = df[rule][['Con', 'LD', 'Votes', 'Electorate']] \n",
    "    df['Победители']       = df['Con']        + df['LD'] \n",
    "    df['Доля победителей'] = df['Победители'] / df['Votes'] \n",
    "    df['Явка']             = df['Votes']      / df['Electorate']\n",
    "    return df"
   ]
  },
  {
   "cell_type": "code",
   "execution_count": 106,
   "metadata": {},
   "outputs": [
    {
     "data": {
      "image/png": "[encoded data removed]",
      "text/plain": [
       "<Figure size 360x288 with 1 Axes>"
      ]
     },
     "metadata": {
      "needs_background": "light"
     },
     "output_type": "display_data"
    }
   ],
   "source": [
    "def ex_1_28():\n",
    "    '''Показать квантильный график победителей \n",
    "       на выборах в Великобритании'''\n",
    "    qqplot(load_uk_victors()['Доля победителей'])\n",
    "    saveplot('ex_1_28.png')\n",
    "    plt.show()\n",
    "    \n",
    "ex_1_28()    "
   ]
  },
  {
   "cell_type": "code",
   "execution_count": 60,
   "metadata": {},
   "outputs": [],
   "source": [
    "def load_ru():\n",
    "    '''Загрузить данные по России'''\n",
    "    return pd.read_csv('data/ch01/Russia2011.tsv', '\\t')\n",
    "    #return pd.read_excel('data/ch01/Russia2011.xlsx') # медленно"
   ]
  },
  {
   "cell_type": "code",
   "execution_count": 61,
   "metadata": {},
   "outputs": [
    {
     "data": {
      "text/plain": [
       "Index(['Код ОИК', 'ОИК №', 'Имя участка',\n",
       "       'Число избирателей, внесенных в список избирателей',\n",
       "       'Число избирательных бюллетеней, полученных участковой избирательной комиссией',\n",
       "       'Число избирательных бюллетеней, выданных избирателям, проголосовавшим досрочно',\n",
       "       'Число избирательных бюллетеней, выданных избирателям в помещении для голосования',\n",
       "       'Число избирательных бюллетеней, выданных избирателям вне помещения для голосования',\n",
       "       'Число погашенных избирательных бюллетеней',\n",
       "       'Число избирательных бюллетеней в переносных ящиках для голосования',\n",
       "       'Число избирательных бюллетеней в стационарных ящиках для голосования',\n",
       "       'Число недействительных избирательных бюллетеней',\n",
       "       'Число действительных избирательных бюллетеней',\n",
       "       'Число открепительных удостоверений, полученных участковой избирательной комиссией',\n",
       "       'Число открепительных удостоверений, выданных избирателям на избирательном участке',\n",
       "       'Число избирателей, проголосовавших по открепительным удостоверениям на избирательном участке',\n",
       "       'Число погашенных неиспользованных открепительных удостоверений',\n",
       "       'Число открепительных удостоверений, выданных избирателям территориальной избирательной комиссией',\n",
       "       'Число утраченных открепительных удостоверений',\n",
       "       'Число утраченных избирательных бюллетеней',\n",
       "       'Число избирательных бюллетеней, не учтенных при получении',\n",
       "       'Политическая партия СПРАВЕДЛИВАЯ РОССИЯ',\n",
       "       'Политическая партия ЛДПР - Либерально-демократическая партия России',\n",
       "       'Политическая партия \"ПАТРИОТЫ РОССИИ\"',\n",
       "       'Политическая партия КОММУНИСТИЧЕСКАЯ ПАРТИЯ КОММУНИСТЫ РОССИИ',\n",
       "       'Политическая партия \"Российская объединенная демократическая партия \"ЯБЛОКО\"',\n",
       "       'Политическая партия \"ЕДИНАЯ РОССИЯ\"',\n",
       "       'Всероссийская политическая партия \"ПАРТИЯ РОСТА\"'],\n",
       "      dtype='object')"
      ]
     },
     "execution_count": 61,
     "metadata": {},
     "output_type": "execute_result"
    }
   ],
   "source": [
    "def ex_1_29():\n",
    "    '''Показать список полей электоральных \n",
    "       данных по России'''\n",
    "    return load_ru().columns\n",
    "\n",
    "ex_1_29() "
   ]
  },
  {
   "cell_type": "markdown",
   "metadata": {},
   "source": [
    "### Визуализация электоральных данных РФ"
   ]
  },
  {
   "cell_type": "code",
   "execution_count": 62,
   "metadata": {},
   "outputs": [],
   "source": [
    "# Доля победителя = Голоса за победителя / действительные бюллетени\n",
    "# Явка = Действительные бюллетени / число избирателей\n",
    "\n",
    "def load_ru_victors():\n",
    "    '''Загрузить данные по России, \n",
    "       выбрать, переименовать и вычислить поля'''\n",
    "    new_cols_dict = {\n",
    "        'Число избирателей, внесенных в список избирателей':'Электорат',\n",
    "        'Число действительных избирательных бюллетеней':'Действительные бюллетени',\n",
    "        'Политическая партия \"ЕДИНАЯ РОССИЯ\"':'Победитель'\n",
    "        }\n",
    "    newcols = list(new_cols_dict.values())    \n",
    "    df = load_ru().rename( columns=new_cols_dict )[newcols]  \n",
    "    df['Доля победителя'] = df['Победитель'] / df['Действительные бюллетени']  \n",
    "    df['Явка']            = df['Действительные бюллетени'] / df['Электорат']              \n",
    "    return df   "
   ]
  },
  {
   "cell_type": "code",
   "execution_count": 107,
   "metadata": {},
   "outputs": [
    {
     "data": {
      "image/png": "[encoded data removed]",
      "text/plain": [
       "<Figure size 360x288 with 1 Axes>"
      ]
     },
     "metadata": {
      "needs_background": "light"
     },
     "output_type": "display_data"
    }
   ],
   "source": [
    "def ex_1_30():\n",
    "    '''Показать гистограмму \n",
    "       электоральных данных по России'''\n",
    "    load_ru_victors()['Явка'].hist(bins=20)\n",
    "    plt.xlabel('Явка в России') \n",
    "    plt.ylabel('Частота')\n",
    "    saveplot('ex_1_30.png')\n",
    "    plt.show()\n",
    "    \n",
    "ex_1_30()"
   ]
  },
  {
   "cell_type": "code",
   "execution_count": 108,
   "metadata": {},
   "outputs": [
    {
     "data": {
      "image/png": "[encoded data removed]",
      "text/plain": [
       "<Figure size 360x288 with 1 Axes>"
      ]
     },
     "metadata": {
      "needs_background": "light"
     },
     "output_type": "display_data"
    }
   ],
   "source": [
    "def ex_1_31():\n",
    "    '''Показать квантильный график \n",
    "       победителя на выборах в РФ'''\n",
    "    qqplot( load_ru_victors()['Доля победителя'].dropna() )\n",
    "    saveplot('ex_1_31.png')\n",
    "    plt.show()\n",
    "    \n",
    "ex_1_31()"
   ]
  },
  {
   "cell_type": "markdown",
   "metadata": {},
   "source": [
    "### Сравнительная визуализация"
   ]
  },
  {
   "cell_type": "markdown",
   "metadata": {},
   "source": [
    "*Функции массы вероятности*"
   ]
  },
  {
   "cell_type": "code",
   "execution_count": 65,
   "metadata": {},
   "outputs": [],
   "source": [
    "def plot_as_pmf(dt, label, ax):\n",
    "    '''График функции вероятности дискретной случайной величины\n",
    "       (или функции массы вероятности)'''\n",
    "    # разбить на 40 частотных корзин\n",
    "    s   = pd.cut(dt, bins=40, labels=False)       \n",
    "    # подсчитать кво элементов в корзинах и разделить на общее кво\n",
    "    pmf = s.value_counts().sort_index() / len(s)  \n",
    "    newax = pmf.plot(label=label, grid=True, ax=ax)   \n",
    "    return newax"
   ]
  },
  {
   "cell_type": "code",
   "execution_count": 109,
   "metadata": {},
   "outputs": [
    {
     "data": {
      "image/png": "[encoded data removed]",
      "text/plain": [
       "<Figure size 360x288 with 1 Axes>"
      ]
     },
     "metadata": {
      "needs_background": "light"
     },
     "output_type": "display_data"
    }
   ],
   "source": [
    "def ex_1_32():\n",
    "    '''Сопоставление данных явки по Великобритании и РФ,\n",
    "       данные нормализованы на основе функции массы вероятностей'''\n",
    "    ax = plot_as_pmf(load_uk_victors()['Явка'], 'Великобритания', None)\n",
    "    plot_as_pmf(load_ru_victors()['Явка'], 'Россия', ax)\n",
    "    plt.xlabel('Интервальные группы явки')\n",
    "    plt.ylabel('Вероятность')\n",
    "    plt.legend(loc='best')\n",
    "    saveplot('ex_1_32.png')    \n",
    "    plt.show()\n",
    "    \n",
    "ex_1_32()"
   ]
  },
  {
   "cell_type": "code",
   "execution_count": 67,
   "metadata": {},
   "outputs": [
    {
     "data": {
      "text/plain": [
       "(0.6523165278460623, 0.6366933778143105)"
      ]
     },
     "execution_count": 67,
     "metadata": {},
     "output_type": "execute_result"
    }
   ],
   "source": [
    "'''Сравнение средних явок по Великобритании и РФ'''\n",
    "load_uk_victors()['Явка'].mean(), load_ru_victors()['Явка'].mean()"
   ]
  },
  {
   "cell_type": "markdown",
   "metadata": {},
   "source": [
    "*Точечные графики (диаграммы рассеяния)*"
   ]
  },
  {
   "cell_type": "code",
   "execution_count": 110,
   "metadata": {},
   "outputs": [
    {
     "data": {
      "image/png": "[encoded data removed]",
      "text/plain": [
       "<Figure size 360x288 with 1 Axes>"
      ]
     },
     "metadata": {
      "needs_background": "light"
     },
     "output_type": "display_data"
    }
   ],
   "source": [
    "def ex_1_33():\n",
    "    '''Показать диаграмму рассеяния \n",
    "       выборов в Великобритании'''\n",
    "    df = load_uk_victors()[ ['Явка', 'Доля победителей'] ]\n",
    "    df.plot.scatter(0, 1, s=3)\n",
    "    plt.xlabel('Явка')\n",
    "    plt.ylabel('Доля победителя')\n",
    "    saveplot('ex_1_33.png')\n",
    "    plt.show()\n",
    "    \n",
    "ex_1_33()"
   ]
  },
  {
   "cell_type": "code",
   "execution_count": 111,
   "metadata": {},
   "outputs": [
    {
     "data": {
      "image/png": "[encoded data removed]",
      "text/plain": [
       "<Figure size 360x288 with 1 Axes>"
      ]
     },
     "metadata": {
      "needs_background": "light"
     },
     "output_type": "display_data"
    }
   ],
   "source": [
    "def ex_1_34():\n",
    "    '''Показать диаграмму рассеяния выборов в РФ'''\n",
    "    df = load_ru_victors()[ ['Явка', 'Доля победителя'] ]\n",
    "    df.plot.scatter(0, 1, s=3)\n",
    "    plt.xlabel('Явка')\n",
    "    plt.ylabel('Доля победителя')\n",
    "    plt.axis([0, 1.05, 0, 1.05])\n",
    "    saveplot('ex_1_34.png')\n",
    "    plt.show()\n",
    "    \n",
    "ex_1_34()"
   ]
  },
  {
   "cell_type": "markdown",
   "metadata": {},
   "source": [
    "*Настройка прозрачности разброса*"
   ]
  },
  {
   "cell_type": "code",
   "execution_count": 112,
   "metadata": {},
   "outputs": [
    {
     "data": {
      "image/png": "[encoded data removed]",
      "text/plain": [
       "<Figure size 360x288 with 1 Axes>"
      ]
     },
     "metadata": {
      "needs_background": "light"
     },
     "output_type": "display_data"
    }
   ],
   "source": [
    "def ex_1_35():\n",
    "    '''Показать диаграмму рассеяния (с прозрачностью) выборов в РФ'''\n",
    "    df = load_ru_victors()[ ['Явка', 'Доля победителя'] ]\n",
    "    rows = sp.random.choice(df.index.values, 10000)\n",
    "    df.loc[rows].plot.scatter(0, 1, s=3, alpha=0.1)\n",
    "    plt.xlabel('Явка')\n",
    "    plt.ylabel('Доля победителя')\n",
    "    plt.axis([0, 1.05, 0, 1.05])\n",
    "    saveplot('ex_1_35.png')\n",
    "    plt.show()\n",
    "    \n",
    "ex_1_35()"
   ]
  },
  {
   "cell_type": "markdown",
   "metadata": {
    "collapsed": true
   },
   "source": [
    "<a href=\"#home\"><i class=\"fa fa-home fa-fw\"></i></a><br><br>"
   ]
  }
 ],
 "metadata": {
  "kernelspec": {
   "display_name": "Python 3",
   "language": "python",
   "name": "python3"
  },
  "language_info": {
   "codemirror_mode": {
    "name": "ipython",
    "version": 3
   },
   "file_extension": ".py",
   "mimetype": "text/x-python",
   "name": "python",
   "nbconvert_exporter": "python",
   "pygments_lexer": "ipython3",
   "version": "3.7.4"
  }
 },
 "nbformat": 4,
 "nbformat_minor": 2
}
